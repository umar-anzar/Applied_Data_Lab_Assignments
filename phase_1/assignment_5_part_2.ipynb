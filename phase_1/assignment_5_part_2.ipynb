{
 "cells": [
  {
   "cell_type": "markdown",
   "id": "8c341bc7",
   "metadata": {
    "id": "8c341bc7"
   },
   "source": [
    "# Applied Data Lab\n",
    "\n",
    "# Assignment 05 Part 2:"
   ]
  },
  {
   "cell_type": "markdown",
   "id": "tXDJjhKasPWT",
   "metadata": {
    "id": "tXDJjhKasPWT"
   },
   "source": [
    "## Functions\n",
    "\n",
    "Functions in programming are like machines in our daily life. They perform specific tasks automatically, so we don't have to do them manually. Just like a coffee maker brews coffee or a light switch turns on a bulb, functions execute a particular set of instructions, making our code more efficient and organized. They allow us to repeat tasks effortlessly.\n",
    "\n",
    "**Real-Life Example: Coffee Maker**\n",
    "\n",
    "Imagine you have a coffee maker. Here's how it relates to functions:\n",
    "\n",
    "1. **Ingredients:** You have ingredients like coffee grounds and water.\n",
    "\n",
    "2. **Recipe:** You have a recipe, which is a set of instructions for making coffee. It says, \"Put coffee grounds in the filter, add water to the reservoir, press the 'brew' button, and wait for your coffee to be ready.\"\n",
    "\n",
    "Now, let's relate this to a function:\n",
    "\n",
    "- **Function:** Think of a function as a coffee-making program. It follows the same recipe (set of instructions) every time you run it. When you activate this program (`call` the function), it takes care of the entire coffee-making process automatically.\n",
    "\n",
    "- **Ingredients:** In programming, these are like the pieces of `data` or `variables` you want to work with, such as the amount of coffee grounds and water.\n",
    "\n",
    "- **Recipe:** This is like the `code` inside the function that tells it what to do with the ingredients. It might include steps like mixing the coffee grounds with water and heating the mixture.\n",
    "\n",
    "- **Calling the Function:** When you want to make coffee, you don't manually perform each step. Instead, you activate your coffee-making program (`call` the function), and it handles everything.\n",
    "\n",
    "- **Function Output:** The result/`return` of running the program is a fresh cup of coffee, ready for you to enjoy.\n",
    "\n",
    "So, in programming,\n",
    "\n",
    "A function is like a reusable set of instructions that takes input (ingredients), processes it according to a recipe (code), and produces output (coffee)."
   ]
  },
  {
   "cell_type": "markdown",
   "id": "gxvc13nWO9si",
   "metadata": {
    "id": "gxvc13nWO9si"
   },
   "source": [
    "### Basic Function Structure\n",
    "\n",
    "In Python, you need to define a function before you can use it. This means that the function's code should appear in your script or program before you call or use that function.\n",
    "\n",
    "This rule ensures that Python knows what the function does before it's called, allowing for smooth execution without errors.\n",
    "\n",
    "So, when writing Python code, remember to define your functions before you use them.\n",
    "\n",
    "```python\n",
    "def function_name(input_parameter1, input_parameter2):\n",
    "    # Code goes here\n",
    "    ...\n",
    "    return output_result_variable\n",
    "```\n",
    "\n",
    "- A function is defined using the `def` keyword.\n",
    "- `function_name` can be any valid identifier.\n",
    "- `input_parameter1` and `input_parameter2` serve as placeholders for the input values that the function accepts.\n",
    "- A colon `:` is placed after the parameter brackets, and all the body is indented.\n",
    "- `output_result_variable` can be any value that the function returns as output.\n",
    "Now, let's understand functions with examples:\n",
    "\n",
    "**Example 1: A Simple Function**\n",
    "\n",
    "This function, `Greeting`, doesn't take any input parameters. It just prints a greeting message to John.\n",
    "\n",
    "```python\n",
    "def Greeting():\n",
    "    print(\"Hi, How are you, John?\")\n",
    "\n",
    "Greeting()  # Call the function\n",
    "Greeting()  # Call it again\n",
    "```\n",
    "\n",
    "**Output:**\n",
    "```\n",
    "Hi, How are you, John?\n",
    "Hi, How are you, John?\n",
    "```\n",
    "\n",
    "**Example 2: Function with Parameters**\n",
    "\n",
    "Here, the `Greeting` function takes a `name` parameter and prints a greeting message with that name.\n",
    "\n",
    "```python\n",
    "def Greeting(name):\n",
    "    print(\"Hi, how are you, \" + str(name) + \"?\")\n",
    "\n",
    "Greeting(\"Bilal\")  # Call with \"Bilal\" as the name\n",
    "Greeting(\"Bruce\")  # Call with \"Bruce\" as the name\n",
    "```\n",
    "\n",
    "**Output:**\n",
    "```\n",
    "Hi, how are you, Bilal?\n",
    "Hi, how are you, Bruce?\n",
    "```\n",
    "\n",
    "In the first example, the function prints the same message every time. In the second example, we pass a different name as an argument each time we call the function, and it customizes the greeting for us."
   ]
  },
  {
   "cell_type": "code",
   "execution_count": null,
   "id": "u8YVJDDaL8oK",
   "metadata": {
    "id": "u8YVJDDaL8oK"
   },
   "outputs": [],
   "source": [
    "# Run this cell\n",
    "def Greeting():\n",
    "    print(\"Hi, How are you, John?\")\n",
    "\n",
    "Greeting()\n",
    "Greeting()"
   ]
  },
  {
   "cell_type": "code",
   "execution_count": null,
   "id": "oz4sKptuRV_4",
   "metadata": {
    "id": "oz4sKptuRV_4"
   },
   "outputs": [],
   "source": [
    "# Run this cell\n",
    "def Greeting(name):\n",
    "    print(\"Hi, how are you, \" + str(name) + \"?\")\n",
    "\n",
    "Greeting(\"Bilal\")\n",
    "Greeting(\"Bruce\")"
   ]
  },
  {
   "cell_type": "markdown",
   "id": "rC-yyTaNL9Y6",
   "metadata": {
    "id": "rC-yyTaNL9Y6"
   },
   "source": [
    "### Properties of Functions\n",
    "\n",
    "1. **Encapsulation:** Functions combine multiple instructions into a single line of code, simplifying complex tasks.\n",
    "\n",
    "2. **Modularity:** Functions break down tasks into reusable blocks, making code organized and maintainable.\n",
    "\n",
    "3. **Abstraction:** Functions hide the underlying code details, allowing users to focus on what the function does rather than how it does it.\n",
    "\n",
    "4. **Reusability:** Functions can be written once and used repeatedly throughout the code, promoting efficiency and reducing redundancy.\n",
    "\n",
    "5. **Input and Output:** Functions can take inputs (parameters) and produce outputs (return values), enhancing flexibility and adaptability.\n",
    "\n",
    "6. **Task Division:** Functions allow teams to divide a program into manageable parts, facilitating collaboration in large projects."
   ]
  },
  {
   "cell_type": "markdown",
   "id": "OA5vP83rU30v",
   "metadata": {
    "id": "OA5vP83rU30v"
   },
   "source": [
    "**Example 3:**\n",
    "\n",
    "**Without Function:**\n",
    "Suppose we have a list of marks, and we want to find out how many marks are lower than a given value, let's say 24. We can do this using a loop and a count variable:\n",
    "\n",
    "```python\n",
    "marks = [1, 3, 5, 3, 2, 23, 45, 6, 4, 3, 3, 34, 5, 56, 8, 7, 6, 55, 4, 3, 4, 6, 5]\n",
    "your_marks = 24\n",
    "count = 0\n",
    "\n",
    "for i in marks:\n",
    "    if i < your_marks:\n",
    "        count += 1\n",
    "\n",
    "print(count)\n",
    "```\n",
    "\n",
    "**With Function (Printing Count):**\n",
    "Now, let's make this more organized using a function. We define a function called `valueGreaterThan` that takes two parameters: `data` (the list of marks) and `value` (the value to compare against). Inside the function, we use a loop and a count variable to find how many marks are lower than the given value. We then print the count.\n",
    "\n",
    "```python\n",
    "def valueGreaterThan(data, value):\n",
    "    count = 0\n",
    "    for i in data:\n",
    "        if i < value:\n",
    "            count += 1\n",
    "    print(count)\n",
    "\n",
    "marks = [1, 3, 5, 3, 2, 23, 45, 6, 4, 3, 3, 34, 5, 56, 8, 7, 6, 55, 4, 3, 4, 6, 5]\n",
    "your_marks = 24\n",
    "valueGreaterThan(marks, your_marks)  # Prints the count\n",
    "```\n",
    "\n",
    "**With Function (Returning Count):**\n",
    "But what if we want to use the count for something else, like saving it in a variable for later use? This is where the `return` keyword comes in. Instead of printing the count, we return it from the function. The function ends, and the returned value can be saved in a variable.\n",
    "\n",
    "```python\n",
    "def valueGreaterThan(data, value):\n",
    "    count = 0\n",
    "    for i in data:\n",
    "        if i < value:\n",
    "            count += 1\n",
    "    return count\n",
    "\n",
    "marks = [1, 3, 5, 3, 2, 23, 45, 6, 4, 3, 3, 34, 5, 56, 8, 7, 6, 55, 4, 3, 4, 6, 5]\n",
    "your_marks = 24\n",
    "count_variable = valueGreaterThan(marks, your_marks)  # count_variable = 19\n",
    "```\n",
    "\n",
    "So, in summary, functions allow us to encapsulate a task, making our code more organized and reusable. They can either print something or return a value that we can use later in our program."
   ]
  },
  {
   "cell_type": "markdown",
   "id": "QSd_wDckVX8o",
   "metadata": {
    "id": "QSd_wDckVX8o"
   },
   "source": [
    "### Exercise 1:\n",
    "\n",
    "Simply change the `marks` to `[10,40,30,20,50,40,60]` and `your_marks` to `40` and run the cell."
   ]
  },
  {
   "cell_type": "code",
   "execution_count": null,
   "id": "gh-oNIA9TawI",
   "metadata": {
    "id": "gh-oNIA9TawI"
   },
   "outputs": [],
   "source": [
    "# Do Exercise 1 in this cell\n",
    "def valueGreaterThan(data, value):\n",
    "    count = 0\n",
    "    for i in data:\n",
    "        if i < value:\n",
    "            count += 1\n",
    "    return count\n",
    "\n",
    "marks = [1, 3, 5, 3, 2, 23, 45, 6, 4, 3, 3, 34, 5, 56, 8, 7, 6, 55, 4, 3, 4, 6, 5]\n",
    "your_marks = 24\n",
    "count_variable = valueGreaterThan(marks, your_marks)"
   ]
  },
  {
   "cell_type": "markdown",
   "id": "u8ae9TM0W9AY",
   "metadata": {
    "id": "u8ae9TM0W9AY"
   },
   "source": [
    "### Exercise 2: Basic Mathematical Functions\n",
    "\n",
    "In this exercise, you will create simple functions to perform basic mathematical operations. Each function should take two parameters and return the result of the operation.\n",
    "\n",
    "**Task 1: Addition Function**\n",
    "\n",
    "Create a function called `addition` that takes two parameters, `a` and `b`, and returns their addition.\n",
    "\n",
    "**Task 2: Multiplication Function**\n",
    "\n",
    "Create a function called `multiplication` that takes two parameters, `a` and `b`, and returns their multiplication.\n",
    "\n",
    "**Task 3: Subtraction Function**\n",
    "\n",
    "Create a function called `subtraction` that takes two parameters, `a` and `b`, and returns the result of subtracting `b` from `a`.\n",
    "\n",
    "**Task 4: Division Function**\n",
    "\n",
    "Create a function called `division` that takes two parameters, `a` and `b`, and returns the result of dividing `a` by `b`.\n",
    "\n",
    "**Task 5: Power Function**\n",
    "\n",
    "Create a function called `power` that takes two parameters, `a` and `b`, and returns `a` raised to the power of `b`.\n",
    "\n",
    "**Hint:**\n",
    "```python\n",
    "def function_name (a,b):\n",
    "  return a % b\n",
    "\n",
    "x = function_name(3,4)\n",
    "print(x)\n",
    "```"
   ]
  },
  {
   "cell_type": "code",
   "execution_count": null,
   "id": "RizOT23AW8Sg",
   "metadata": {
    "id": "RizOT23AW8Sg"
   },
   "outputs": [],
   "source": [
    "# Do All the Tasks. Create cells below this\n",
    "#\n",
    "#\n",
    "#"
   ]
  },
  {
   "cell_type": "markdown",
   "id": "DAHUsyXvZRug",
   "metadata": {
    "id": "DAHUsyXvZRug"
   },
   "source": [
    "### Exercise 3: Convert Code To Function\n",
    "\n",
    "**Instructions:**\n",
    "\n",
    "For each of the following tasks, you are given a block of code that performs a specific operation on a given dataset. Your task is to convert each code block into a function. The function should accept the dataset as a parameter and return the output as mentioned in each code block similarly in **Example 3**.\n",
    "\n",
    "```\n",
    "data = [64, 53, 88, 60, 46, 36, 3, 17, 48, 68, 17, 59, 84, 76, 56, 82, 42, 45, 34, 91, 17, 56]\n",
    "```"
   ]
  },
  {
   "cell_type": "code",
   "execution_count": null,
   "id": "le_VmDccdFMm",
   "metadata": {
    "id": "le_VmDccdFMm"
   },
   "outputs": [],
   "source": [
    "data = [64, 53, 88, 60, 46, 36, 3, 17, 48, 68, 17, 59, 84, 76, 56, 82, 42, 45, 34, 91, 17, 56]"
   ]
  },
  {
   "cell_type": "markdown",
   "id": "2zcLO-3_bmif",
   "metadata": {
    "id": "2zcLO-3_bmif"
   },
   "source": [
    "**Task 1: Calculate the Average**\n",
    "```python\n",
    "# Calculate the average of data\n",
    "average = sum(data) / len(data)\n",
    "```"
   ]
  },
  {
   "cell_type": "code",
   "execution_count": null,
   "id": "aN1FBGylcvad",
   "metadata": {
    "id": "aN1FBGylcvad"
   },
   "outputs": [],
   "source": [
    "# Do Task 1 in this cell\n",
    "#\n",
    "#\n",
    "#"
   ]
  },
  {
   "cell_type": "markdown",
   "id": "40qOl2tccv7N",
   "metadata": {
    "id": "40qOl2tccv7N"
   },
   "source": [
    "**Task 2: Find the Maximum and Minimum**\n",
    "```python\n",
    "# Find the maximum and minimum of data and save them in a list [max, min]\n",
    "max_value = max(data)\n",
    "min_value = min(data)\n",
    "result = [max_value, min_value]\n",
    "```"
   ]
  },
  {
   "cell_type": "code",
   "execution_count": null,
   "id": "mEOYsjj8cvN1",
   "metadata": {
    "id": "mEOYsjj8cvN1"
   },
   "outputs": [],
   "source": [
    "# Do Task 2 in this cell\n",
    "#\n",
    "#\n",
    "#"
   ]
  },
  {
   "cell_type": "markdown",
   "id": "21Dgw4XQcwTV",
   "metadata": {
    "id": "21Dgw4XQcwTV"
   },
   "source": [
    "**Task 3: Calculate the Median**\n",
    "```python\n",
    "# Calculate the median of data\n",
    "data.sort()\n",
    "median_index = len(data) // 2\n",
    "median = data[median_index]\n",
    "```"
   ]
  },
  {
   "cell_type": "code",
   "execution_count": null,
   "id": "z13H0lr0cu-1",
   "metadata": {
    "id": "z13H0lr0cu-1"
   },
   "outputs": [],
   "source": [
    "# Do Task 3 in this cell\n",
    "#\n",
    "#\n",
    "#"
   ]
  },
  {
   "cell_type": "markdown",
   "id": "TcowCvX-cwqN",
   "metadata": {
    "id": "TcowCvX-cwqN"
   },
   "source": [
    "**Task 4: Calculate the Mode**\n",
    "```python\n",
    "# Calculate the mode of data using a dictionary and frequency algorithm\n",
    "freq = {}\n",
    "for item in data:\n",
    "    if item in freq:\n",
    "        freq[item] += 1\n",
    "    else:\n",
    "        freq[item] = 1\n",
    "\n",
    "max_count = max(freq.values())\n",
    "for key in freq.keys():\n",
    "  if max_count == freq[key]:\n",
    "    mode = key\n",
    "    break # End the loop Instantly\n",
    "\n",
    "print(mode)\n",
    "```"
   ]
  },
  {
   "cell_type": "code",
   "execution_count": null,
   "id": "3Zcbp9DNcBB3",
   "metadata": {
    "id": "3Zcbp9DNcBB3"
   },
   "outputs": [],
   "source": [
    "# Do Task 4 in this cell\n",
    "#\n",
    "#\n",
    "#"
   ]
  },
  {
   "cell_type": "markdown",
   "id": "ZdR7SqgGt1Pm",
   "metadata": {
    "id": "ZdR7SqgGt1Pm"
   },
   "source": [
    "## Setting Up the Address\n",
    "In this cell, a path variable is set with the value of the current directory where the notebook is open. This is done to easily upload the dataset file from this location."
   ]
  },
  {
   "cell_type": "code",
   "execution_count": null,
   "id": "g7UvjMzSaPW3",
   "metadata": {
    "id": "g7UvjMzSaPW3"
   },
   "outputs": [],
   "source": [
    "# Run this cell\n",
    "import os\n",
    "PATH = os.getcwd() + '/'\n",
    "PATH"
   ]
  },
  {
   "cell_type": "markdown",
   "id": "hio8vNa6Z7Rw",
   "metadata": {
    "id": "hio8vNa6Z7Rw"
   },
   "source": [
    "**ONLY FOR GOOGLE COLAB USERS**\n",
    "\n",
    "For those who are using **Google Colab**, uncomment and run the cell below.\n",
    "\n",
    "**Note**: You have to repalce value of variable `YOUR_PATH_TO_DATASET_DIRECTORY` with the path where your dataset is placed in the Google Drive folder.\n",
    "\n"
   ]
  },
  {
   "cell_type": "code",
   "execution_count": null,
   "id": "o1q0rU2XaGy0",
   "metadata": {
    "colab": {
     "base_uri": "https://localhost:8080/"
    },
    "executionInfo": {
     "elapsed": 23798,
     "status": "ok",
     "timestamp": 1694633147265,
     "user": {
      "displayName": "Muhammad Umar Anzar",
      "userId": "10020185523127189936"
     },
     "user_tz": -300
    },
    "id": "o1q0rU2XaGy0",
    "outputId": "07544240-229b-4345-8807-3fec0feb5406"
   },
   "outputs": [],
   "source": [
    "# from google.colab import drive\n",
    "# drive.mount('/content/drive/')\n",
    "# YOUR_PATH_TO_DATASET_DIRECTORY = \"work/Applied_Data_Lab/phase_1\"\n",
    "# PATH = \"/content/drive/MyDrive/\"+YOUR_PATH_TO_DATASET_DIRECTORY+\"/\"\n",
    "# PATH"
   ]
  },
  {
   "cell_type": "markdown",
   "id": "Dyrn_6hzSZfR",
   "metadata": {
    "id": "Dyrn_6hzSZfR"
   },
   "source": [
    "## Working on Apple Store Modified"
   ]
  },
  {
   "cell_type": "markdown",
   "id": "ZddKdAoI1P-a",
   "metadata": {
    "id": "ZddKdAoI1P-a"
   },
   "source": [
    "Importing the dataset is already done for you;\n",
    "\n",
    "just run the cell below."
   ]
  },
  {
   "cell_type": "code",
   "execution_count": null,
   "id": "JVQv7LIDxu2N",
   "metadata": {
    "id": "JVQv7LIDxu2N"
   },
   "outputs": [],
   "source": [
    "# Run this cell\n",
    "import csv\n",
    "data = list ( csv.reader ( open(PATH + 'AppleStoreModified.csv', 'r', encoding='utf-8') ) )\n",
    "display (data[0:10])"
   ]
  },
  {
   "cell_type": "markdown",
   "id": "Qkld1aC6-R_m",
   "metadata": {
    "id": "Qkld1aC6-R_m"
   },
   "source": [
    "### Exercise 4: Type Conversion\n",
    "\n",
    "**Objective:** Convert the data types of the 'Sno' column to integers and the 'price' column to floats.\n",
    "\n",
    "```python\n",
    "column = 0\n",
    "for i in range(1, len(data)):\n",
    "    data[i][column] = int(data[i][column])\n",
    "```\n",
    "\n",
    "**Instructions:**\n",
    "\n",
    "In this exercise, you will create functions to convert specific columns in a dataset to different data types. Here are the steps:\n",
    "\n",
    "1. **Create a Function to Convert to Integer (to_int):**\n",
    "   - Create a function named `to_int` that accepts two parameters: the dataset (`data`) and the column index (`column`) that you want to convert to integers.\n",
    "   - Inside the function, use a loop to iterate through the dataset starting from index 1 (to skip the header row).\n",
    "   - For each row in the dataset, convert the value at the specified column to an integer using the `int()` function.\n",
    "   - Update the value in the dataset with the converted integer.\n",
    "   - Finally, return the updated dataset.\n",
    "\n",
    "2. **Create a Function to Convert to Float (to_float):**\n",
    "   - Create another function named `to_float` with the same parameters: `data` and `column`.\n",
    "   - Inside this function, use a loop to iterate through the dataset, similar to the `to_int` function.\n",
    "   - However, this time, convert the value at the specified column to a float using the `float()` function.\n",
    "   - Update the value in the dataset with the converted float.\n",
    "   - Return the updated dataset.\n",
    "\n",
    "After defining these functions, you can apply them to the 'Sno' and 'price' columns in the dataset to convert them to integers and floats, respectively. Ensure that the functions work correctly by testing them with the provided dataset."
   ]
  },
  {
   "cell_type": "code",
   "execution_count": null,
   "id": "qbA2EhUFDKFN",
   "metadata": {
    "id": "qbA2EhUFDKFN"
   },
   "outputs": [],
   "source": [
    "# Do Exercise in this cell\n",
    "#\n",
    "#\n",
    "#"
   ]
  },
  {
   "cell_type": "markdown",
   "id": "tsqh6GHCDKdV",
   "metadata": {
    "id": "tsqh6GHCDKdV"
   },
   "source": [
    "### Exercise 12: Finding the Minimum and Maximum Prices\n",
    "\n",
    "\n",
    "```python\n",
    "result = [max(data),min(data)]\n",
    "```\n",
    "\n",
    "**Objective:** Calculate and store the minimum and maximum values from the 'price' column.\n",
    "\n",
    "**Instructions:**\n",
    "\n",
    "In this exercise, you will create a function to find the minimum and maximum values in a list of prices. Here are the steps:\n",
    "\n",
    "1. **Create a Function to Find Maximum and Minimum (max_min):**\n",
    "   - Define a function named `max_min` that takes a list of prices (`data`) as a parameter.\n",
    "   - Inside the function, create a list named `result`.\n",
    "   - Use the `max()` function to find the maximum value in the `data` list and append it as the first element of the `result` list.\n",
    "   - Use the `min()` function to find the minimum value in the `data` list and append it as the second element of the `result` list.\n",
    "   - Return the `result` list containing both the maximum and minimum values.\n",
    "\n",
    "2. **Call the Function and Store Results:**\n",
    "   - Call the `max_min` function with the 'price' column data and store the result in a variable called `max_and_min`.\n",
    "\n",
    "3. **Retrieve Maximum and Minimum Values:**\n",
    "   - Extract the maximum value from the `max_and_min` list and store it in a variable called `max_val`.\n",
    "   - Extract the minimum value from the `max_and_min` list and store it in a variable called `min_val`.\n",
    "\n",
    "4. **Print Maximum and Minimum Prices:**\n",
    "   - Print the `max_val` and `min_val` variables to display the maximum and minimum prices from the dataset.\n",
    "\n",
    "By creating and using the `max_min` function, you can easily find and store both the maximum and minimum prices in the dataset.\n"
   ]
  },
  {
   "cell_type": "code",
   "execution_count": null,
   "id": "A4MFnN-YE1-F",
   "metadata": {
    "id": "A4MFnN-YE1-F"
   },
   "outputs": [],
   "source": [
    "# Do Exercise in this cell\n",
    "#\n",
    "#\n",
    "#"
   ]
  }
 ],
 "metadata": {
  "colab": {
   "provenance": [],
   "toc_visible": true
  },
  "kernelspec": {
   "display_name": "Python 3 (ipykernel)",
   "language": "python",
   "name": "python3"
  },
  "language_info": {
   "codemirror_mode": {
    "name": "ipython",
    "version": 3
   },
   "file_extension": ".py",
   "mimetype": "text/x-python",
   "name": "python",
   "nbconvert_exporter": "python",
   "pygments_lexer": "ipython3",
   "version": "3.11.4"
  }
 },
 "nbformat": 4,
 "nbformat_minor": 5
}
