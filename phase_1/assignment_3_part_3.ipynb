{
 "cells": [
  {
   "cell_type": "markdown",
   "id": "8c341bc7",
   "metadata": {
    "id": "8c341bc7"
   },
   "source": [
    "# Applied Data Lab\n",
    "\n",
    "# Assignment 03 Part 3:"
   ]
  },
  {
   "cell_type": "markdown",
   "id": "687fe6d0",
   "metadata": {
    "id": "687fe6d0"
   },
   "source": [
    "## Loops\n",
    "\n",
    "Performing tasks manually or using a computer program might seem similar for a **single calculation**. However, a computer program's **real strength emerges when dealing with repetitive tasks and large datasets**.\n",
    "\n",
    "For a **one-time calculation, doing it manually with paper and pencil is usually quicker**, considering the time needed to write, run, and interpret a program.\n",
    "\n",
    "But in scenarios where the **same calculation repeats many times, especially for vast datasets, computer programs excel**. Writing a program initially takes time, but its ability to perform tasks repeatedly and quickly is **invaluable**.\n",
    "\n",
    "Imagine tasks needing **thousands, millions, or billions of iterations**. Humans would struggle due to speed and potential errors. Computer programs execute iterations rapidly and accurately.\n",
    "\n",
    "This is where **loops step in**. Loops are programming tools that **run a specific block of code multiple times**, often with varying data. By programming these repetitions, you achieve what's **impractical manually**.\n",
    "\n",
    "In summary, while a **single calculation might favor manual work, computer programs shine when handling repetitions and significant data**. **Loops allow efficient automation**, enabling results **unattainable or excessively laborious otherwise**."
   ]
  },
  {
   "cell_type": "markdown",
   "id": "Wyg1cpreOGoS",
   "metadata": {
    "id": "Wyg1cpreOGoS"
   },
   "source": [
    "### Without Loops"
   ]
  },
  {
   "cell_type": "markdown",
   "id": "lZ7CqVjcDoBP",
   "metadata": {
    "id": "lZ7CqVjcDoBP"
   },
   "source": [
    "**Example 1:**\n",
    "\n",
    "Printing numbers from 0 to 9 using individual statements:\n",
    "```python\n",
    "print(\"Start\")\n",
    "print(0)\n",
    "print(1)\n",
    "print(2)\n",
    "print(3)\n",
    "print(4)\n",
    "print(5)\n",
    "print(6)\n",
    "print(7)\n",
    "print(8)\n",
    "print(9)\n",
    "print(\"End\")\n",
    "```\n",
    "**Output:**\n",
    "```\n",
    "'Start'\n",
    "0\n",
    "1\n",
    "2\n",
    "3\n",
    "4\n",
    "5\n",
    "6\n",
    "7\n",
    "8\n",
    "9\n",
    "'End'\n",
    "```\n",
    "\n",
    "In the example above, you can observe that we have to write ten separate `print` statements to display numbers from 0 to 9. This approach becomes impractical as the number of repetitions increases.\n",
    "\n",
    "\n",
    "\n"
   ]
  },
  {
   "cell_type": "markdown",
   "id": "tyWjnbXHJMKd",
   "metadata": {
    "id": "tyWjnbXHJMKd"
   },
   "source": [
    "**Example 2:**\n",
    "\n",
    "Printing even numbers starting from 2, incrementing by 2, using a loop:\n",
    "```python\n",
    "even = 0\n",
    "print(even)\n",
    "even = even + 2\n",
    "print(even)\n",
    "even = even + 2\n",
    "print(even)\n",
    "even = even + 2\n",
    "print(even)\n",
    "even = even + 2\n",
    "print(even)\n",
    "even = even + 2\n",
    "print(even)\n",
    "even = even + 2\n",
    "print(even)\n",
    "```\n",
    "**Output:**\n",
    "```\n",
    "0\n",
    "2\n",
    "4\n",
    "6\n",
    "8\n",
    "10\n",
    "12\n",
    "```\n",
    "\n",
    "The above code follows a repetitive pattern where the value of `even` is incremented by 2 in each iteration. It's clear that as the repetition increases, the manual approach becomes cumbersome.\n",
    "\n",
    "\n",
    "Loops provide a more elegant solution, allowing us to automate repetitive tasks without duplicating code. We'll explore this loop concept next, which greatly simplifies scenarios like these."
   ]
  },
  {
   "cell_type": "markdown",
   "id": "91k43e6HN9DT",
   "metadata": {
    "id": "91k43e6HN9DT"
   },
   "source": [
    "### Exercise 1: Printing Numbers Using Increment\n",
    "\n",
    "**Task 1: Printing Even Numbers**\n",
    "\n",
    "Print numbers from 10 to 20 using individual statements:\n",
    "```python\n",
    "# Write the code to print numbers from 10 to 20\n",
    "print(\"Start\")\n",
    "print(10)\n",
    "print(11)\n",
    ".\n",
    ".\n",
    ".\n",
    "print(\"End\")\n",
    "```\n"
   ]
  },
  {
   "cell_type": "code",
   "execution_count": null,
   "id": "DAz8h6CkOVKx",
   "metadata": {
    "id": "DAz8h6CkOVKx"
   },
   "outputs": [],
   "source": [
    "# Do Task 1 in this cell\n",
    "#\n",
    "#\n",
    "#"
   ]
  },
  {
   "cell_type": "markdown",
   "id": "85tu0_xOORNq",
   "metadata": {
    "id": "85tu0_xOORNq"
   },
   "source": [
    "**Task 2: Printing Odd Numbers**\n",
    "\n",
    "Print odd numbers from 1 to 16 using an incremental variable:\n",
    "```python\n",
    "# Initialize the variable odd to start at 1\n",
    "odd = 1\n",
    "\n",
    "print(\"Start\")\n",
    "\n",
    "# Print odd numbers from 1 to 16 using the odd variable\n",
    "print(odd)\n",
    "odd = odd + 2\n",
    "# Continue the pattern until you print odd numbers up to 16\n",
    "\n",
    "print(\"End\")\n",
    "```\n",
    "\n",
    "Completing this exercise will help you understand the concept of incrementing variables to print sequences of numbers and reinforce the idea of using loops for such tasks."
   ]
  },
  {
   "cell_type": "code",
   "execution_count": null,
   "id": "BGwH9jfPRDXh",
   "metadata": {
    "id": "BGwH9jfPRDXh"
   },
   "outputs": [],
   "source": [
    "# Do Task 2 in this cell\n",
    "#\n",
    "#\n",
    "#"
   ]
  },
  {
   "cell_type": "markdown",
   "id": "vbplhfz_ESDp",
   "metadata": {
    "id": "vbplhfz_ESDp"
   },
   "source": [
    "### Types of Loops: `for` and `while`\n",
    "\n",
    "In Python, loops are essential for executing a block of code repeatedly. There are two main types of loops: `for` loops and `while` loops.\n",
    "\n",
    "| Loop Type | Description                                                                         | Usage                                                     |\n",
    "| --------- | ----------------------------------------------------------------------------------- | --------------------------------------------------------- |\n",
    "| `for`     | Executes a block of code for each item in a sequence (e.g., a range, list, string). | Use when the number of iterations is known or predefined. |\n",
    "| `while`   | Executes a block of code as long as a condition is `True`.                          | Use when the number of iterations is not fixed initially. |\n"
   ]
  },
  {
   "cell_type": "markdown",
   "id": "3XdjLqZPEVUt",
   "metadata": {
    "id": "3XdjLqZPEVUt"
   },
   "source": [
    "#### `for` Loop:\n",
    "\n",
    "The `for` loop is commonly used for iterating over a sequence (e.g., range, list, string) of elements. It allows you to execute a block of code a specific number of times, based on the length of the sequence.\n",
    "\n",
    "```python\n",
    "for element in sequence:\n",
    "    # Code to be executed for each element\n",
    "```"
   ]
  },
  {
   "cell_type": "markdown",
   "id": "OHA5kmi2EZn9",
   "metadata": {
    "id": "OHA5kmi2EZn9"
   },
   "source": [
    "#### `while` Loop:\n",
    "\n",
    "The `while` loop repeatedly executes a block of code as long as a specified condition is `True`. It's useful when you want to execute a block of code an unknown number of times until a condition is met.\n",
    "\n",
    "```python\n",
    "while condition:\n",
    "    # Code to be executed as long as the condition is True\n",
    "```"
   ]
  },
  {
   "cell_type": "markdown",
   "id": "usIjmOXnEr1M",
   "metadata": {
    "id": "usIjmOXnEr1M"
   },
   "source": [
    "#### Differences:\n",
    "\n",
    "| Aspect         | `for` Loop                             | `while` Loop                         |\n",
    "| -------------- | -------------------------------------- | ------------------------------------ |\n",
    "| Control        | Controlled by the sequence's length.   | Controlled by the condition's state. |\n",
    "| Initialization | No explicit initialization required.   | Initialization required before loop. |\n",
    "| Condition      | Based on the sequence's iteration.     | Based on an explicit condition.      |\n",
    "| Iteration      | Automatically iterates over the items. | Needs explicit iteration control.    |\n",
    "| Usage          | Suitable for definite iterations.      | Suitable for indefinite iterations.  |"
   ]
  },
  {
   "cell_type": "markdown",
   "id": "YhVd85CfRIzt",
   "metadata": {
    "id": "YhVd85CfRIzt"
   },
   "source": [
    "**Example 3: `for` Loop**\n",
    "\n",
    "```python\n",
    "numbers = [1, 2, 3, 4, 5]\n",
    "for num in numbers:\n",
    "    print(num)\n",
    "```\n",
    "\n",
    "**Example 4: `while` Loop**\n",
    "\n",
    "```python\n",
    "count = 0\n",
    "while count < 5:\n",
    "    print(count)\n",
    "    count += 1\n",
    "```\n",
    "\n",
    "In summary, `for` loops are great for iterating over sequences with a known length, while `while` loops excel when you want to repeat a process until a certain condition becomes `False`. Understanding the differences between these loops helps you choose the appropriate one for your specific task."
   ]
  },
  {
   "cell_type": "markdown",
   "id": "Jf7mzTmFMCGK",
   "metadata": {
    "id": "Jf7mzTmFMCGK"
   },
   "source": [
    "### With Loops\n",
    "\n",
    "**`range()` function**\n",
    "\n",
    "The `range()` function is a versatile tool in Python, primarily used to define a range of numbers. This range is often utilized in `for` loops to iterate over a specified number of times.\n",
    "\n",
    "**Example 4: Printing Numbers Using `for` Loop**\n",
    "\n",
    "Consider the task of printing numbers from 0 to 9. With the `range()` function, this can be accomplished as follows:\n",
    "```python\n",
    "for i in range(10):\n",
    "  print(i)\n",
    "```\n",
    "\n",
    "output\n",
    "```\n",
    "0\n",
    "1\n",
    "2\n",
    "3\n",
    "4\n",
    "5\n",
    "6\n",
    "7\n",
    "8\n",
    "9\n",
    "```\n",
    "In this example, the `range(10)` function generates a sequence of numbers from 0 to 9 (inclusive), which is then iterated over using the `for` loop. This concise method simplifies the process of repeating an action for a specific number of times.\n"
   ]
  },
  {
   "cell_type": "markdown",
   "id": "RmMhNL2BOg6h",
   "metadata": {
    "id": "RmMhNL2BOg6h"
   },
   "source": [
    "**Example 5: Counting from 0 to 2**\n",
    "\n",
    "The following code snippet counts from 0 to 2 using a `for` loop and the `range()` function. It prints the numbers within the specified range and then proceeds with \"End\" as shown below:"
   ]
  },
  {
   "cell_type": "code",
   "execution_count": null,
   "id": "hcFLHuz7NHj6",
   "metadata": {
    "id": "hcFLHuz7NHj6"
   },
   "outputs": [],
   "source": [
    "# Run this cell\n",
    "print(\"Start\")\n",
    "\n",
    "for i in range(3):\n",
    "  print(i)\n",
    "\n",
    "print(\"End\")"
   ]
  },
  {
   "cell_type": "markdown",
   "id": "ZSE6kxA2Ojwo",
   "metadata": {
    "id": "ZSE6kxA2Ojwo"
   },
   "source": [
    "**Example 6: Multiples of 3**\n",
    "\n",
    "In this example, the code snippet prints the multiples of 3 by iterating through the `range(5)` sequence and multiplying each index by 3:"
   ]
  },
  {
   "cell_type": "code",
   "execution_count": null,
   "id": "p8emhuelNJJB",
   "metadata": {
    "id": "p8emhuelNJJB"
   },
   "outputs": [],
   "source": [
    "# Run this cell\n",
    "for j in range(5):\n",
    "  print( j*3 )"
   ]
  },
  {
   "cell_type": "markdown",
   "id": "ehq6EfteNeii",
   "metadata": {
    "id": "ehq6EfteNeii"
   },
   "source": [
    "**Example 7: Generating Even Numbers**\n",
    "\n",
    "This example demonstrates generating and printing even numbers. The `for` loop iterates through the `range(5)` sequence, adding 2 to the previous even number with each iteration:"
   ]
  },
  {
   "cell_type": "code",
   "execution_count": null,
   "id": "UdO1NdfFNMa5",
   "metadata": {
    "id": "UdO1NdfFNMa5"
   },
   "outputs": [],
   "source": [
    "# Run this cell\n",
    "print(\"Even Numbers\")\n",
    "even = 0\n",
    "for x in range(5):\n",
    "  even = even + 2\n",
    "  print(even)\n",
    "print(\"Stop\")"
   ]
  },
  {
   "cell_type": "markdown",
   "id": "oxNFq-kXPYY5",
   "metadata": {
    "id": "oxNFq-kXPYY5"
   },
   "source": [
    "### Exercise 2: Loop Practice\n",
    "\n",
    "**Task 1: Counting from 0 to 15**\n",
    "\n",
    "Write a program using a `for` loop to print numbers from 0 to 15."
   ]
  },
  {
   "cell_type": "code",
   "execution_count": null,
   "id": "-HPhWH69gp3Q",
   "metadata": {
    "id": "-HPhWH69gp3Q"
   },
   "outputs": [],
   "source": [
    "# Do Task 1 in this cell\n",
    "#\n",
    "#\n",
    "#"
   ]
  },
  {
   "cell_type": "markdown",
   "id": "6Oy1lj_kk2M_",
   "metadata": {
    "id": "6Oy1lj_kk2M_"
   },
   "source": [
    "**Task 2: Generating Odd Numbers**\n",
    "\n",
    "Write a program using a `for` loop to print odd numbers till 26 by iterating through a sequence and adding 2 to the previous odd number."
   ]
  },
  {
   "cell_type": "code",
   "execution_count": null,
   "id": "aRYTe-higpxP",
   "metadata": {
    "id": "aRYTe-higpxP"
   },
   "outputs": [],
   "source": [
    "# Do Task 2 in this cell\n",
    "#\n",
    "#\n",
    "#"
   ]
  },
  {
   "cell_type": "markdown",
   "id": "G7snE_NSryLE",
   "metadata": {
    "id": "G7snE_NSryLE"
   },
   "source": [
    "### Iterating Over Lists and Strings with `for` Loop\n",
    "\n",
    "In Python, the `for` loop provides versatile ways to iterate through elements in lists and strings. Here are two common approaches:"
   ]
  },
  {
   "cell_type": "markdown",
   "id": "31ae206f",
   "metadata": {
    "id": "31ae206f"
   },
   "source": [
    "**Using Direct Iteration:**\n",
    "\n",
    "You can directly iterate over the elements in a string or a list without needing an index. This approach is more concise and Pythonic:\n",
    "\n",
    "**Example 8:**"
   ]
  },
  {
   "cell_type": "code",
   "execution_count": null,
   "id": "784a214c",
   "metadata": {
    "colab": {
     "base_uri": "https://localhost:8080/"
    },
    "executionInfo": {
     "elapsed": 3,
     "status": "ok",
     "timestamp": 1693421361598,
     "user": {
      "displayName": "Muhammad Umar Anzar",
      "userId": "10020185523127189936"
     },
     "user_tz": -300
    },
    "id": "784a214c",
    "outputId": "1462fd64-3026-4dc6-d0bc-abe526130952"
   },
   "outputs": [],
   "source": [
    "# Run this cell\n",
    "alphabets = \"abcdefgh\"\n",
    "for character in alphabets:\n",
    "    print(character)"
   ]
  },
  {
   "cell_type": "code",
   "execution_count": null,
   "id": "aa45b179",
   "metadata": {
    "colab": {
     "base_uri": "https://localhost:8080/"
    },
    "executionInfo": {
     "elapsed": 4,
     "status": "ok",
     "timestamp": 1693421360197,
     "user": {
      "displayName": "Muhammad Umar Anzar",
      "userId": "10020185523127189936"
     },
     "user_tz": -300
    },
    "id": "aa45b179",
    "outputId": "fa15fc84-aee8-4219-e2bc-b2d06483a767"
   },
   "outputs": [],
   "source": [
    "# Run this cell\n",
    "alphabets =['pq', 'rs', 'tu', 'vw', 'xy']\n",
    "for character in alphabets:\n",
    "    print(character)"
   ]
  },
  {
   "cell_type": "markdown",
   "id": "5a320f3a",
   "metadata": {
    "id": "5a320f3a"
   },
   "source": [
    "**Using Index with `range()`:**\n",
    "\n",
    "Alternatively, you can use the `range()` function along with the length of the string or list to iterate through each element using an index:\n",
    "\n",
    "**Example 9:**"
   ]
  },
  {
   "cell_type": "code",
   "execution_count": null,
   "id": "a7c4b69f",
   "metadata": {
    "colab": {
     "base_uri": "https://localhost:8080/"
    },
    "executionInfo": {
     "elapsed": 7,
     "status": "ok",
     "timestamp": 1693421307205,
     "user": {
      "displayName": "Muhammad Umar Anzar",
      "userId": "10020185523127189936"
     },
     "user_tz": -300
    },
    "id": "a7c4b69f",
    "outputId": "a6aee6b5-cc4a-47f6-d062-e95424935273"
   },
   "outputs": [],
   "source": [
    "# Run this cell\n",
    "alphabets = \"abcdefgh\"\n",
    "for i in range(len(alphabets)):\n",
    "    print(alphabets[i])"
   ]
  },
  {
   "cell_type": "code",
   "execution_count": null,
   "id": "4a83551a",
   "metadata": {
    "colab": {
     "base_uri": "https://localhost:8080/"
    },
    "executionInfo": {
     "elapsed": 443,
     "status": "ok",
     "timestamp": 1693421355907,
     "user": {
      "displayName": "Muhammad Umar Anzar",
      "userId": "10020185523127189936"
     },
     "user_tz": -300
    },
    "id": "4a83551a",
    "outputId": "e19281f1-62ea-4975-c6e4-1060d522df62"
   },
   "outputs": [],
   "source": [
    "# Run this cell\n",
    "alphabets = ['pq', 'rs', 'tu', 'vw', 'xy']\n",
    "for i in range(len(alphabets)):\n",
    "    print(alphabets[i])"
   ]
  },
  {
   "cell_type": "markdown",
   "id": "a0617043",
   "metadata": {
    "id": "a0617043"
   },
   "source": [
    "Both methods achieve the same result, but using direct iteration is generally preferred for its simplicity and readability."
   ]
  },
  {
   "cell_type": "markdown",
   "id": "o5XRe54wu8K7",
   "metadata": {
    "id": "o5XRe54wu8K7"
   },
   "source": [
    "### Exercise 3: Iterating Over Lists and Strings\n",
    "\n",
    "**Task 1: Print Characters in a String**\n",
    "\n",
    "Write a program that uses a `for` loop to iterate over each character of `\"Hi my name is John\"` string and prints each character.\n",
    "\n"
   ]
  },
  {
   "cell_type": "code",
   "execution_count": null,
   "id": "-Ku0oYbAv566",
   "metadata": {
    "id": "-Ku0oYbAv566"
   },
   "outputs": [],
   "source": [
    "# Do Task 1 in this cell\n",
    "#\n",
    "#\n",
    "#"
   ]
  },
  {
   "cell_type": "markdown",
   "id": "OHWGdvwqv6fZ",
   "metadata": {
    "id": "OHWGdvwqv6fZ"
   },
   "source": [
    "**Task 2: Print List Elements**\n",
    "\n",
    "Write a program that uses a `for` loop to iterate over each element in the list `[1, 2, 3, 4, 5]` and prints each element."
   ]
  },
  {
   "cell_type": "code",
   "execution_count": null,
   "id": "sSxUbr0Mv7DZ",
   "metadata": {
    "id": "sSxUbr0Mv7DZ"
   },
   "outputs": [],
   "source": [
    "# Do Task 2 in this cell\n",
    "#\n",
    "#\n",
    "#"
   ]
  },
  {
   "cell_type": "markdown",
   "id": "WgaV_yDWv7Ya",
   "metadata": {
    "id": "WgaV_yDWv7Ya"
   },
   "source": [
    "**Task 3: Calculate Sum of List Elements**\n",
    "\n",
    "Write a program that uses a `for` loop to iterate over each element in the list `[10, 20, 30, 40, 50]` and calculates their sum.\n",
    "\n",
    "1. Initialize a variable `total` and set it to 0.\n",
    "2. Create a list named `numbers` containing the values `[10, 20, 30, 40, 50]`.\n",
    "3. Use a `for` loop to iterate over each element in the `numbers` list.\n",
    "4. Inside the loop, add the current element's value to the `total`: `total = total + element`.\n",
    "5. After the loop, print the value of `total`.\n",
    "\n",
    "**Hint:** (for element in numbers)"
   ]
  },
  {
   "cell_type": "code",
   "execution_count": null,
   "id": "VLt9gvcpv75p",
   "metadata": {
    "id": "VLt9gvcpv75p"
   },
   "outputs": [],
   "source": [
    "# Do Task 3 in this cell\n",
    "#\n",
    "#\n",
    "#"
   ]
  }
 ],
 "metadata": {
  "colab": {
   "provenance": [],
   "toc_visible": true
  },
  "kernelspec": {
   "display_name": "Python 3 (ipykernel)",
   "language": "python",
   "name": "python3"
  },
  "language_info": {
   "codemirror_mode": {
    "name": "ipython",
    "version": 3
   },
   "file_extension": ".py",
   "mimetype": "text/x-python",
   "name": "python",
   "nbconvert_exporter": "python",
   "pygments_lexer": "ipython3",
   "version": "3.11.4"
  }
 },
 "nbformat": 4,
 "nbformat_minor": 5
}
