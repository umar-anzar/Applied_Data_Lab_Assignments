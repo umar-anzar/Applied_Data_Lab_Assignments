{
 "cells": [
  {
   "cell_type": "markdown",
   "id": "8c341bc7",
   "metadata": {},
   "source": [
    "# Applied Data Lab\n",
    "\n",
    "# Assignment 01 : Basic Programming with Python"
   ]
  },
  {
   "cell_type": "markdown",
   "id": "687fe6d0",
   "metadata": {},
   "source": [
    "## Data Types\n",
    "\n",
    "| Data Type | Real Name              | Definition                                                            | Example                   |\n",
    "| --------- | ---------------------- | --------------------------------------------------------------------- | ------------------------- |\n",
    "| int       | Integer                | Integer data type representing whole numbers.                         | 42, -17, 5034, -684       |\n",
    "| float     | Floating-Point         | Floating-point data type representing real numbers with decimals.     | 3.14, -0.5, 0.65, -0.48   |\n",
    "| str       | String                 | String data type representing sequences of characters.                | \"Hello, world!\", 'Python' |\n",
    "| bool      | Boolean                | Boolean data type representing True or False values.                  | True, False               |\n",
    "\n"
   ]
  },
  {
   "cell_type": "markdown",
   "id": "1ddf8ed6",
   "metadata": {},
   "source": [
    "## `print()` Function"
   ]
  },
  {
   "cell_type": "markdown",
   "id": "4ff62a43",
   "metadata": {},
   "source": [
    "`print()` is a function that outputs whatever is passed to it on the screen/console. The value passed to print() should have a valid data type to be printed.\n",
    "\n",
    "These examples demonstrate how to print values of different data types using the `print()` function in Python.\n",
    "\n",
    "**Example 1 - Printing an Integer (`int`):**\n",
    "```py\n",
    "print(35)   # Output: 35\n",
    "```\n",
    "\n",
    "\n",
    "**Example 2 - Printing a Floating-Point Number (`float`):**\n",
    "```py\n",
    "print(3.14) # Output: 3.14\n",
    "```\n",
    "\n",
    "\n",
    "**Example 3 - Printing a String (`str`):**\n",
    "```py\n",
    "print(\"Hello, world!\") # Output: Hello, world!\n",
    "```\n",
    "\n",
    "\n",
    "**Example 4 - Printing a Boolean (`bool`):**\n",
    "```py\n",
    "print(True) # Output: True\n",
    "```\n"
   ]
  },
  {
   "cell_type": "code",
   "execution_count": null,
   "id": "d0d03694",
   "metadata": {},
   "outputs": [],
   "source": [
    "# Run this cell\n",
    "print(35)\n",
    "print(3.14)\n",
    "print(\"Hello, world!\")\n",
    "print(True)"
   ]
  },
  {
   "cell_type": "markdown",
   "id": "ba3f13d9",
   "metadata": {},
   "source": [
    "### Exercise 1\n",
    "\n",
    "print these values in cell below\n",
    "- 45.9\n",
    "- -962\n",
    "- \"Northern-Hemisphere\"\n",
    "- False"
   ]
  },
  {
   "cell_type": "code",
   "execution_count": null,
   "id": "e8a0e225",
   "metadata": {},
   "outputs": [],
   "source": [
    "# Do Exercise 1 in this cell\n",
    "#\n",
    "#\n",
    "#"
   ]
  },
  {
   "cell_type": "markdown",
   "id": "56753d4f",
   "metadata": {},
   "source": [
    "### Exercise 2\n",
    "\n",
    "print these values in cell below\n",
    "- -196542\n",
    "- 3001234567\n",
    "- .65\n",
    "- -.5480\n",
    "- \"1001\"\n",
    "- \"09-0078601\"\n",
    "- \"abc.xyz@qmail.edu.pk\"\n",
    "- 'abc.xyz@qmail.edu.pk'\n",
    "- \"True\""
   ]
  },
  {
   "cell_type": "code",
   "execution_count": null,
   "id": "e77de092",
   "metadata": {},
   "outputs": [],
   "source": [
    "# Do Exercise 2 in this cell\n",
    "#\n",
    "#\n",
    "#"
   ]
  },
  {
   "cell_type": "markdown",
   "id": "a7ce5e1d",
   "metadata": {},
   "source": [
    "## `type()` Function"
   ]
  },
  {
   "cell_type": "markdown",
   "id": "1181494f",
   "metadata": {},
   "source": [
    "`type()` is a function that returns the data type of the value passed to it.\n",
    "\n",
    "These examples demonstrate how to use the `type()` function to determine the data types of different values in Python.\n",
    "\n",
    "**Example 1 - Using `type()` with an Integer (`int`):**\n",
    "\n",
    "```py\n",
    "print(type(35))   # Output: <class 'int'>\n",
    "```\n",
    "\n",
    "**Example 2 - Using `type()` with a Floating-Point Number (`float`):**\n",
    "\n",
    "```py\n",
    "print(type(3.14)) # Output: <class 'float'>\n",
    "```\n",
    "\n",
    "**Example 3 - Using `type()` with a String (`str`):**\n",
    "\n",
    "```py\n",
    "print(type(\"Hello, world!\")) # Output: <class 'str'>\n",
    "```\n",
    "\n",
    "**Example 4 - Using `type()` with a Boolean (`bool`):**\n",
    "\n",
    "```py\n",
    "print(type(True)) # Output: <class 'bool'>\n",
    "```\n",
    "\n"
   ]
  },
  {
   "cell_type": "code",
   "execution_count": null,
   "id": "8decdfed",
   "metadata": {},
   "outputs": [],
   "source": [
    "# Run this cell\n",
    "print(type(35))\n",
    "print(type(3.14))\n",
    "print(type(\"Hello, world!\"))\n",
    "print(type(True))"
   ]
  },
  {
   "cell_type": "markdown",
   "id": "8570ec2a",
   "metadata": {},
   "source": [
    "### Exercise 3\n",
    "\n",
    "Print the data types of the following values in the cell below:\n",
    "- 45.9\n",
    "- -962\n",
    "- \"Northern-Hemisphere\"\n",
    "- False"
   ]
  },
  {
   "cell_type": "code",
   "execution_count": null,
   "id": "546595b6",
   "metadata": {},
   "outputs": [],
   "source": [
    "# Do Exercise 3 in this cell\n",
    "#\n",
    "#\n",
    "#"
   ]
  },
  {
   "cell_type": "markdown",
   "id": "c6961af8",
   "metadata": {},
   "source": [
    "### Exercise 4\n",
    "\n",
    "Print the data types of the following values in the cell below:\n",
    "- -19\n",
    "- 4.65\n",
    "- \"1001\"\n",
    "- 'abc.xyz@qmail.edu.pk'\n",
    "- \"True\"\n",
    "```"
   ]
  },
  {
   "cell_type": "code",
   "execution_count": null,
   "id": "17f11b85",
   "metadata": {},
   "outputs": [],
   "source": [
    "# Do Exercise 4 in this cell\n",
    "#\n",
    "#\n",
    "#"
   ]
  },
  {
   "cell_type": "markdown",
   "id": "618f4117",
   "metadata": {},
   "source": [
    "## Arithmetic Operators"
   ]
  },
  {
   "cell_type": "markdown",
   "id": "d6f0f6d4",
   "metadata": {},
   "source": [
    "Arithmetic operators are used to perform arithmetic operations on values and variables. These operators include:\n",
    "\n",
    "| Operator | Description         | Example      |\n",
    "| -------- | ------------------- | ------------ |\n",
    "| +        | Addition            | 2 + 3 🡲 5  |\n",
    "| -        | Subtraction         | 5 - 2 🡲 3  |\n",
    "| *        | Multiplication      | 2 * 3 🡲 6  |\n",
    "| /        | Division            | 6 / 3 🡲 2  |\n",
    "| %        | Modulus (remainder) | 5 % 2 🡲 1  |\n",
    "| //       | Floor Division      | 7 // 2 🡲 3 |\n",
    "| **       | Exponentiation      | 2 ** 3 🡲 8 |\n",
    "\n",
    "Arrow sign`->` is just here to indicate the result of the operation"
   ]
  },
  {
   "cell_type": "markdown",
   "id": "c03a36d5",
   "metadata": {},
   "source": [
    "**Example 1 - Addition:**\n",
    "```python\n",
    "print(2 + 3 + 5)    # Output: 10\n",
    "```\n",
    "\n",
    "**Example 2 - Subtraction:**\n",
    "```python\n",
    "print(10 - 4 - 2)   # Output: 4\n",
    "```\n",
    "\n",
    "**Example 3 - Multiplication:**\n",
    "```python\n",
    "print(3 * 4 * 2)    # Output: 24\n",
    "```\n",
    "\n",
    "**Example 4 - Division:**\n",
    "```python\n",
    "print(12 / 3 )   # Output: 4.0\n",
    "```\n",
    "\n",
    "**Example 5 - Modulus (remainder):**\n",
    "```python\n",
    "print(17 % 5 )   # Output: 2\n",
    "```\n",
    "\n",
    "**Example 6 - Floor Division:**\n",
    "```python\n",
    "print(22 // 5) # Output: 4\n",
    "```\n",
    "\n",
    "**Example 7 - Exponentiation:**\n",
    "```python\n",
    "print(4 ** 3)  # Output: 64\n",
    "```"
   ]
  }
 ],
 "metadata": {
  "kernelspec": {
   "display_name": "Python 3 (ipykernel)",
   "language": "python",
   "name": "python3"
  },
  "language_info": {
   "codemirror_mode": {
    "name": "ipython",
    "version": 3
   },
   "file_extension": ".py",
   "mimetype": "text/x-python",
   "name": "python",
   "nbconvert_exporter": "python",
   "pygments_lexer": "ipython3",
   "version": "3.11.4"
  }
 },
 "nbformat": 4,
 "nbformat_minor": 5
}
