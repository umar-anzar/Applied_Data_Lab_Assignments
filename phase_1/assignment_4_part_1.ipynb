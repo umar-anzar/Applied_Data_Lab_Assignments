{
 "cells": [
  {
   "cell_type": "markdown",
   "id": "8c341bc7",
   "metadata": {
    "id": "8c341bc7"
   },
   "source": [
    "# Applied Data Lab\n",
    "\n",
    "# Assignment 04 Part 1:"
   ]
  },
  {
   "cell_type": "markdown",
   "id": "3afwZdP1eg6m",
   "metadata": {
    "id": "3afwZdP1eg6m"
   },
   "source": [
    "## Type Casting\n",
    "\n",
    "***Conversion from one data type to another data type***\n",
    "\n",
    "<img src=\"https://cdn.dribbble.com/users/570218/screenshots/2396993/2d_to_3d_shapes_transitions.gif\" alt=\"Requried Internet To Display\">\n",
    "\n",
    "In Python, data types can be changed explicitly when necessary. Implicit type casting occurs when data is automatically converted to a string for output display. However, there are situations where we need to explicitly perform type casting.\n",
    "\n",
    "Explicit type casting is particularly valuable when dealing with input from files or users, where data may not initially be in the desired data type format.\n",
    "\n",
    "For example, if you receive the string `\"42\"` and need it as an integer, explicit type casting allows you to convert it from a string to an integer.\n",
    "\n",
    "**Example 1:**\n",
    "\n",
    "```python\n",
    "# Explicit Type Casting: Converting a String to an Integer\n",
    "string_number = \"42\"\n",
    "integer_number = int(string_number)\n",
    "\n",
    "# Now, 'integer_number' contains the integer value 42\n",
    "```\n",
    "\n",
    "This capability is particularly useful when dealing with diverse data sources and when data validation and conversion are essential."
   ]
  },
  {
   "cell_type": "markdown",
   "id": "9-jx6lJ_f96v",
   "metadata": {
    "id": "9-jx6lJ_f96v"
   },
   "source": [
    "### How To Type Cast\n",
    "Type casting is achieved by using type casting functions, which are denoted by the target data type followed by parentheses. Here's a table of common type casting functions along with examples:\n",
    "\n",
    "| Type Casting Function | Description                           | Example                   |\n",
    "|----------------------|---------------------------------------|---------------------------|\n",
    "| `int()`              | Converts to an integer (remove decimal point values)                | `int(3.4)` (Result: 3)    |\n",
    "| `float()`            | Converts to a floating-point number (add decimal point) | `float(\"3.4\")` (Result: 3.4) |\n",
    "| `str()`              | Converts to a string    (convert to string)              | `str(3)` (Result: \"3\")    |\n",
    "\n",
    "**Note:** Type casting from a string to an integer or float may fail if the string contains characters that cannot be interpreted as numbers.\n",
    "\n",
    "**Example 1:**\n",
    "\n",
    "\n",
    "1. Converting a floating-point number to an integer:\n",
    "```python\n",
    "print( int(3.4) )  # Result: 3\n",
    "```\n",
    "\n",
    "2. Converting a floating-point number to an integer (truncating the decimal part):\n",
    "```python\n",
    "print( int(2.9) )  # Result: 2\n",
    "```\n",
    "\n",
    "3. Converting an integer to a floating-point number:\n",
    "```python\n",
    "print( float(3) )  # Result: 3.0\n",
    "```\n",
    "\n",
    "4. Converting a string representing a floating-point number to a float:\n",
    "```python\n",
    "print( float(\"2.4\") ) # Result: 2.4\n",
    "```\n",
    "\n",
    "5. Attempting to convert a non-integer string to an integer (raises an error):\n",
    "```python\n",
    "# This will raise a ValueError because \"4.3\" is not a valid integer\n",
    "print( int(\"4.3\") )\n",
    "```\n",
    "  - Raises a ValueError because \"4.3\" cannot be converted to an integer\n",
    "  - To solve this we first type cast to float then integer\n",
    "\n",
    "  ```python\n",
    "  # This need to convert first to float then integer\n",
    "  x = float(\"4.3\")\n",
    "  print( int(x) ) # Result: 4\n",
    "  ```\n",
    "\n",
    "6. Converting an integer value inside a variable to a string:\n",
    "```python\n",
    "a = 3\n",
    "a = str(a) # a = \"3\"\n",
    "# Result: a is now \"3\"\n",
    "```\n"
   ]
  },
  {
   "cell_type": "markdown",
   "id": "d_ZDTL4PrCb2",
   "metadata": {
    "id": "d_ZDTL4PrCb2"
   },
   "source": [
    "### Exercise 1: Type Casting\n",
    "\n",
    "**Example 2:**\n",
    "\n",
    "* Create a variable `age` and assign it the value \"21\".\n",
    "* Convert `age` to an integer and print the result.\n",
    "\n",
    "**Expected output:**\n",
    "\n",
    "```\n",
    "21\n",
    "```\n",
    "\n",
    "**Solution:**\n",
    "\n",
    "```python\n",
    "age = \"21\"\n",
    "age_int = int(age)\n",
    "print(age_int)\n",
    "```\n",
    "\n",
    "\n",
    "\n",
    "\n"
   ]
  },
  {
   "cell_type": "markdown",
   "id": "CaHu_ur5AQG0",
   "metadata": {
    "id": "CaHu_ur5AQG0"
   },
   "source": [
    "**Task 1: Convert to Integer**\n",
    "\n",
    "You have a variable `temperature` that contains a floating-point value representing the temperature in degrees Celsius. However, you need to work with this temperature as an integer. Convert the value to an integer and print it.\n",
    "\n",
    "```python\n",
    "temperature = 26.5  # Convert this temperature to an integer\n",
    "# Your code here\n",
    "```"
   ]
  },
  {
   "cell_type": "code",
   "execution_count": null,
   "id": "uKfQ1AYFAQi8",
   "metadata": {
    "id": "uKfQ1AYFAQi8"
   },
   "outputs": [],
   "source": [
    "# Do Task 1 in this cell\n",
    "#\n",
    "#\n",
    "#"
   ]
  },
  {
   "cell_type": "markdown",
   "id": "LARXy99MARED",
   "metadata": {
    "id": "LARXy99MARED"
   },
   "source": [
    "**Task 2: Convert to Float**\n",
    "\n",
    "You have a variable `measurement` that holds an integer value representing a length measurement in centimeters. However, you need to perform calculations with this measurement as a floating-point number. Convert the value to a float and print it.\n",
    "\n",
    "```python\n",
    "measurement = 150  # Convert this measurement to a float\n",
    "# Your code here\n",
    "```"
   ]
  },
  {
   "cell_type": "code",
   "execution_count": null,
   "id": "4OO_ymDdARWH",
   "metadata": {
    "id": "4OO_ymDdARWH"
   },
   "outputs": [],
   "source": [
    "# Do Task 2 in this cell\n",
    "#\n",
    "#\n",
    "#"
   ]
  },
  {
   "cell_type": "markdown",
   "id": "cuhOB91jARxL",
   "metadata": {
    "id": "cuhOB91jARxL"
   },
   "source": [
    "**Task 3: Convert to String**\n",
    "\n",
    "You have a variable `count` that stores an integer value representing the quantity of items. To display this count as part of a message, you need to convert it to a string and print the message.\n",
    "\n",
    "```python\n",
    "count = 25  # Convert this count to a string and print a message\n",
    "# Your code here\n",
    "```"
   ]
  },
  {
   "cell_type": "code",
   "execution_count": null,
   "id": "I6ojG9cyASCM",
   "metadata": {
    "id": "I6ojG9cyASCM"
   },
   "outputs": [],
   "source": [
    "# Do Task 3 in this cell\n",
    "#\n",
    "#\n",
    "#"
   ]
  },
  {
   "cell_type": "markdown",
   "id": "687fe6d0",
   "metadata": {
    "id": "687fe6d0"
   },
   "source": [
    "## Input and Output Operations (I/O)"
   ]
  },
  {
   "cell_type": "markdown",
   "id": "8Prkf30yYaCl",
   "metadata": {
    "id": "8Prkf30yYaCl"
   },
   "source": [
    "### *Input* → `Process` → *Output*\n",
    "<img src=\"https://cdn.dribbble.com/users/1859102/screenshots/4823017/luggage.gif\" alt=\"Requried Internet To Display\">\n",
    "\n",
    "\n",
    "- Input and output (I/O) are two essential operations in programming.\n",
    "\n",
    "- Input refers to the data that is entered into a program by user, while output refers to the data that is produced by a program back to the user.\n",
    "\n",
    "- The processing is the transformation of input data into output data.\n",
    "\n",
    "In Python, the `input()` function is used to get input from the user. The `print()` function is used to output data to the user. By default, the `input()` function returns the input as a string, even if the user enters a number. This is because the `input()` function does not perform any type checking. Similarly `print()` function convert value's type to string before printing on screen.\n",
    "\n",
    "\n",
    "To convert the input from a string to a number, we can use the `int()` or `float()` functions. For example, the following code:\n",
    "\n",
    "\n",
    "```python\n",
    "a = input()\n",
    "\n",
    "# Convert the input to an integer\n",
    "a_int = int(a)\n",
    "\n",
    "# Print the integer\n",
    "print(a_int)\n",
    "```\n",
    "\n",
    "\n",
    "```python\n",
    "b = input(\"Enter Float number: \")\n",
    "\n",
    "# Convert the input to an float\n",
    "b_float = float(a)\n",
    "\n",
    "# Print the float\n",
    "print(b_float)\n",
    "```\n"
   ]
  },
  {
   "cell_type": "markdown",
   "id": "Xmh0qZtGJER4",
   "metadata": {
    "id": "Xmh0qZtGJER4"
   },
   "source": [
    "**Input Function:** When a computer program is run, it pauses at the line where the `input()` function is called, and the program remains suspended there until you provide some value as input in the console.\n",
    "\n",
    "The `input()` function also takes a `string` argument to display a prompt on the screen, instructing the user on what input is expected."
   ]
  },
  {
   "cell_type": "markdown",
   "id": "kx4zkyBpOGeX",
   "metadata": {
    "id": "kx4zkyBpOGeX"
   },
   "source": [
    "![input_value.gif](data:image/gif;base64,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)"
   ]
  },
  {
   "cell_type": "code",
   "execution_count": null,
   "id": "vhqlXYEXX2lq",
   "metadata": {
    "id": "vhqlXYEXX2lq"
   },
   "outputs": [],
   "source": [
    "# Run this cell\n",
    "a = input()\n",
    "\n",
    "# Convert the input to an integer\n",
    "a_int = int(a)\n",
    "\n",
    "# Print the integer\n",
    "print(\"integer\", a_int)"
   ]
  },
  {
   "cell_type": "code",
   "execution_count": null,
   "id": "xzZX5FRLO-LH",
   "metadata": {
    "id": "xzZX5FRLO-LH"
   },
   "outputs": [],
   "source": [
    "# Run this cell\n",
    "b = input(\"Enter Float number: \")\n",
    "\n",
    "# Convert the input to an float\n",
    "b_float = float(b)\n",
    "\n",
    "# Print the float\n",
    "print(b_float)"
   ]
  },
  {
   "cell_type": "markdown",
   "id": "MczPke8YE2MC",
   "metadata": {
    "id": "MczPke8YE2MC"
   },
   "source": [
    "**Example 3:**\n",
    "\n",
    "You receive user input as a string, but you need to treat it as an integer to perform calculations. Convert the user input to an integer and print the result.\n",
    "\n",
    "```python\n",
    "age = int(input(\"Enter an Age: \"))\n",
    "if age > 18:\n",
    "    status = \"Adult\"\n",
    "else:\n",
    "    status = \"Teenager/Child\"\n",
    "```\n",
    "\n",
    "In this example, the input is typecast to an integer value because the `age` attribute is expected to be an integer (whole number)."
   ]
  },
  {
   "cell_type": "markdown",
   "id": "91k43e6HN9DT",
   "metadata": {
    "id": "91k43e6HN9DT"
   },
   "source": [
    "### Exercise 2: Input From User\n",
    "\n",
    "**Task 1: Age Calculator**\n",
    "\n",
    "Write a program that asks the user for their birth year (`input`), calculates their current age, and then prints it.\n",
    "\n",
    "**Hint:**\n",
    "- `birth_date_year = int( input(\"Enter Age\": ) )` OR\n",
    "    ```\n",
    "    birth_date_year = input(\"Enter Age\": )\n",
    "    birth_date_year = int(birth_date_year)\n",
    "    ```\n",
    "\n",
    "**Hint:** Current Year(2023) - birth date Year\n"
   ]
  },
  {
   "cell_type": "code",
   "execution_count": null,
   "id": "DAz8h6CkOVKx",
   "metadata": {
    "id": "DAz8h6CkOVKx"
   },
   "outputs": [],
   "source": [
    "# Do Task 1 in this cell\n",
    "#\n",
    "#\n",
    "#"
   ]
  },
  {
   "cell_type": "markdown",
   "id": "ooe7AC4paqJU",
   "metadata": {
    "id": "ooe7AC4paqJU"
   },
   "source": [
    "**Task 2: Temperature Converter**\n",
    "\n",
    "Create a program that takes `input` in Celsius and converts it to Fahrenheit. The formula for conversion is: Fahrenheit = (Celsius * 9/5) + 32.\n",
    "\n",
    "**Hint:** Take Input and Type cast it in float\n"
   ]
  },
  {
   "cell_type": "code",
   "execution_count": null,
   "id": "YpQyIgtvaqkB",
   "metadata": {
    "id": "YpQyIgtvaqkB"
   },
   "outputs": [],
   "source": [
    "# Do Task 2 in this cell\n",
    "#\n",
    "#\n",
    "#"
   ]
  },
  {
   "cell_type": "markdown",
   "id": "B5f0kF7uaq0B",
   "metadata": {
    "id": "B5f0kF7uaq0B"
   },
   "source": [
    "**Task 3: Grade Calculator**\n",
    "\n",
    "Ask the user to enter(`input`) their exam score as a percentage. Calculate their grade based on the following scale:\n",
    "- 90% or above: \"A\"\n",
    "- 80-89%: \"B\"\n",
    "- 70-79%: \"C\"\n",
    "- Below 70%: \"F\"\n",
    "\n",
    "**Hint:** Use `If-elif-else `"
   ]
  },
  {
   "cell_type": "code",
   "execution_count": null,
   "id": "k480_1ejarJZ",
   "metadata": {
    "id": "k480_1ejarJZ"
   },
   "outputs": [],
   "source": [
    "# Do Task 3 in this cell\n",
    "#\n",
    "#\n",
    "#"
   ]
  },
  {
   "cell_type": "markdown",
   "id": "BFYXBggnbCOG",
   "metadata": {
    "id": "BFYXBggnbCOG"
   },
   "source": [
    "**Task 4: Length Conversion**\n",
    "\n",
    "Create a program that takes a length in meters as input from the user and converts it to centimeters. The conversion factor is 1 meter = 100 centimeters.\n",
    "\n",
    "**Hint:** $ Centimeters = MeterValue \\times 100 $"
   ]
  },
  {
   "cell_type": "code",
   "execution_count": null,
   "id": "Wx7Z5IssbCxx",
   "metadata": {
    "id": "Wx7Z5IssbCxx"
   },
   "outputs": [],
   "source": [
    "# Do Task 4 in this cell\n",
    "#\n",
    "#\n",
    "#"
   ]
  }
 ],
 "metadata": {
  "colab": {
   "provenance": [],
   "toc_visible": true
  },
  "kernelspec": {
   "display_name": "Python 3 (ipykernel)",
   "language": "python",
   "name": "python3"
  },
  "language_info": {
   "codemirror_mode": {
    "name": "ipython",
    "version": 3
   },
   "file_extension": ".py",
   "mimetype": "text/x-python",
   "name": "python",
   "nbconvert_exporter": "python",
   "pygments_lexer": "ipython3",
   "version": "3.11.4"
  }
 },
 "nbformat": 4,
 "nbformat_minor": 5
}
