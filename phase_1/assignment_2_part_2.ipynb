{
 "cells": [
  {
   "cell_type": "markdown",
   "id": "8c341bc7",
   "metadata": {
    "id": "8c341bc7"
   },
   "source": [
    "# Applied Data Lab\n",
    "\n",
    "# Assignment 02 Part 2:"
   ]
  },
  {
   "cell_type": "markdown",
   "id": "687fe6d0",
   "metadata": {
    "id": "687fe6d0"
   },
   "source": [
    "## Data Type $ \\approx $ Data Strucutre\n",
    "\n",
    "\n",
    "\n",
    "Before explaining what data structures are, it's important to note that in modern programming languages, many programming techniques and complexities have been integrated and abstracted to the point where some data structures are now considered as data types.\n",
    "\n",
    "A **data structure** is a way of organizing and storing data in a specific format so that it can be efficiently accessed, modified, and processed. It helps in managing and arranging data in a logical and systematic manner to perform various operations on it. For instance, think about saving **student records in a tabular manner**.\n",
    "\n",
    "In modern languages, some data structures are considered data types because it is now so easy to create and manipulate them.\n",
    "\n",
    "| Data Structure          | Mutability | Definition                              | Example                                  |\n",
    "| ----------------------- | ---------- | --------------------------------------- | ---------------------------------------- |\n",
    "| List (Data Structure)   | Mutable    | Ordered collection of items.            | `[1, 2, 3]`, `[\"apple\", \"banana\", \"cherry\"]` |\n",
    "| Tuple (Data Structure)  | Immutable  | Ordered, immutable collection of items. | `(1, 2, 3)`, `(\"apple\", \"banana\", \"cherry\")` |\n",
    "| String (Data Type) | Immutable  | Sequence of characters.                 | `\"Hello\"`, `'Python'`                        |\n",
    "\n",
    "Note:-\n",
    "- Mutable objects are those that allow you to change their value or data in place without affecting the object's identity. (**can be changed**)\n",
    "- Immutable objects are those that don't allow you to change their value or data in place. (**permanent**)"
   ]
  },
  {
   "cell_type": "markdown",
   "id": "ead6ccdf",
   "metadata": {
    "id": "ead6ccdf"
   },
   "source": [
    "We will be only focusing on strings, and list."
   ]
  },
  {
   "cell_type": "markdown",
   "id": "1ddf8ed6",
   "metadata": {
    "id": "1ddf8ed6"
   },
   "source": [
    "### Basic String Operations/Methods\n",
    "[Visit w3schools](https://www.w3schools.com/python/python_ref_string.asp) for more information."
   ]
  },
  {
   "cell_type": "markdown",
   "id": "4ff62a43",
   "metadata": {
    "id": "4ff62a43"
   },
   "source": [
    "<h3>Easy-to-understand string functions</h3>\n",
    "\n",
    "| String Function/Method | Description                                                  | Example                                                          |\n",
    "| --------------- | ------------------------------------------------------------ | ---------------------------------------------------------------- |\n",
    "| capitalize()    | Converts the **first character to upper case**               | \"hello\".capitalize() → \"Hello\"                                   |\n",
    "| lower()         | Converts a string into **lower case**                        | \"Hello\".lower() → \"hello\"                                        |\n",
    "| upper()         | Converts a string into **upper case**                        | \"Hello\".upper() → \"HELLO\"                                        |\n",
    "| count()         | Returns the **number of times a specified value occurs**     | \"apple\".count(\"p\") → 2                                           |\n",
    "| replace()       | Returns a string with a specified **value replaced**         | \"Hello, world!\".replace(\"world\", \"Python\") → \"Hello, Python!\"    |\n",
    "| split()         | Splits the string at the specified separator, returns a **list** | \"apple,banana,orange\".split(\",\") → ['apple', 'banana', 'orange'] |\n",
    "\n",
    "These functions can be applied to strings to modify and manipulate text data in Python.\n",
    "\n",
    "These examples demonstrate how to apply string function in Python.\n",
    "\n",
    "**Example**\n"
   ]
  },
  {
   "cell_type": "code",
   "execution_count": null,
   "id": "d0d03694",
   "metadata": {
    "colab": {
     "base_uri": "https://localhost:8080/"
    },
    "executionInfo": {
     "elapsed": 410,
     "status": "ok",
     "timestamp": 1692792269549,
     "user": {
      "displayName": "Muhammad Umar Anzar",
      "userId": "10020185523127189936"
     },
     "user_tz": -300
    },
    "id": "d0d03694",
    "outputId": "a502f8ab-cf7f-4446-baab-94e35674dc84"
   },
   "outputs": [],
   "source": [
    "# Run this cell\n",
    "text = \"hello, world! How's it going?\"\n",
    "text2 = \"My name is John\"\n",
    "print(text + text2)                     # Output: \"hello, world! How's it going?My name is John\"\n",
    "print(text.capitalize())                # Output: \"Hello, world! how's it going?\"\n",
    "print(text.lower())                     # Output: \"hello, world! how's it going?\"\n",
    "print(text.upper())                     # Output: \"HELLO, WORLD! HOW'S IT GOING?\""
   ]
  },
  {
   "cell_type": "code",
   "execution_count": null,
   "id": "LHDJDtMZR-rA",
   "metadata": {
    "colab": {
     "base_uri": "https://localhost:8080/"
    },
    "executionInfo": {
     "elapsed": 3,
     "status": "ok",
     "timestamp": 1692792269935,
     "user": {
      "displayName": "Muhammad Umar Anzar",
      "userId": "10020185523127189936"
     },
     "user_tz": -300
    },
    "id": "LHDJDtMZR-rA",
    "outputId": "96a847bf-faa0-48a3-fcfd-a5373fb0a0c2"
   },
   "outputs": [],
   "source": [
    "# Run this cell\n",
    "text = \"hello, world! How's it going?\"\n",
    "print(text.count(\"o\"))                  # Output: 4\n",
    "print(text.replace(\"world\", \"Python\"))  # Output: \"hello, Python! How's it going?\"\n",
    "print(text.split())                     # Output: ['hello,', 'world!', \"How's\", 'it', 'going?']"
   ]
  },
  {
   "cell_type": "markdown",
   "id": "srMqr52zTcit",
   "metadata": {
    "id": "srMqr52zTcit"
   },
   "source": [
    "#### `.split()` Method"
   ]
  },
  {
   "cell_type": "markdown",
   "id": "0SzyCk6uSkH4",
   "metadata": {
    "id": "0SzyCk6uSkH4"
   },
   "source": [
    "The `split` function in Python is used to divide a string into smaller parts based on a specified character. It then creates a list containing these divided parts. If no specific character is provided, the function defaults to splitting the string wherever there is a whitespace (space).\n",
    "\n",
    "Here's an example:\n",
    "\n",
    "```python\n",
    "fruits = \"apple-banana-orange-strawberry\"\n",
    "fruits_list = fruits.split(\"-\")\n",
    "print(fruits_list)\n",
    "```\n",
    "\n",
    "The output of this code will be:\n",
    "\n",
    "```\n",
    "['apple', 'banana', 'orange', 'strawberry']\n",
    "```\n",
    "\n",
    "Remember that these methods do not modify the original variable's value directly. Instead, they return a modified version of the value. If you want to update the variable with the modified value, you need to reassign it using the method result, like this:\n",
    "\n",
    "```python\n",
    "variable_x = variable_x.method()\n",
    "```\n",
    "\n",
    "In this line of code, the method is applied to `variable_x`, and the value returned by the method is saved back to `variable_x`, effectively updating its value with the result of the applied method."
   ]
  },
  {
   "cell_type": "markdown",
   "id": "5dBBWahtTfjM",
   "metadata": {
    "id": "5dBBWahtTfjM"
   },
   "source": [
    "#### `.replace()` Method"
   ]
  },
  {
   "cell_type": "markdown",
   "id": "1HECHs7FODl_",
   "metadata": {
    "id": "1HECHs7FODl_"
   },
   "source": [
    "The `replace` method in Python is used to replace occurrences of a specified substring within a string with another substring. The `replace` method takes two arguments: the substring to be replaced and the substring to replace it with.\n",
    "\n",
    "`replace(need_to_be_replace, replace_by)`\n",
    "\n",
    "Here's an example:\n",
    "\n",
    "```python\n",
    "sentence = \"I like cats, but I prefer dogs.\"\n",
    "new_sentence = sentence.replace(\"cats\", \"rabbits\")\n",
    "print(new_sentence)\n",
    "```\n",
    "\n",
    "The output of this code will be:\n",
    "\n",
    "```\n",
    "I like rabbits, but I prefer dogs.\n",
    "```\n",
    "\n",
    "In this example, the `replace` method replaced the word \"cats\" with \"rabbits\" in the original sentence.\n",
    "\n",
    "```python\n",
    "text = \"one one two one three\"\n",
    "new_text = text.replace(\"one\", \"four\")\n",
    "print(new_text)\n",
    "```\n",
    "\n",
    "The output will be:\n",
    "\n",
    "```\n",
    "four four two four three\n",
    "```\n",
    "\n",
    "In this case, \"one\" were replaced with \"four\".\n",
    "\n",
    "Remember that like the `split` method, the `replace` method does not modify the original string directly. If you want to keep the modified version, you need to assign the result of the `replace` method to a new variable or the same variable, like so:\n",
    "\n",
    "```python\n",
    "original_string = original_string.replace(\"old_substring\", \"new_substring\")\n",
    "```"
   ]
  },
  {
   "cell_type": "markdown",
   "id": "-QENFtuARoSp",
   "metadata": {
    "id": "-QENFtuARoSp"
   },
   "source": [
    "### Exercise 1: String Functions and Operations"
   ]
  },
  {
   "cell_type": "markdown",
   "id": "Q86YxTrgTNiQ",
   "metadata": {
    "id": "Q86YxTrgTNiQ"
   },
   "source": [
    "**Task 1:**\n",
    "1. Declare a variable `country` with the value `\"china\"`.\n",
    "2. Since it is a proper noun, it should start with a capital letter. Use a function that returns the string with its first letter capitalized (uppercase), and reassign it to the `country` variable.\n",
    "3. Print the value of the `country` variable.\n",
    "\n",
    "**Hint:** To capitalize the first letter of a string, you can use the `.capitalize()` method.\n",
    "\n",
    "```python\n",
    "country = country.capitalize()\n",
    "```\n",
    "\n",
    "Output Answer:\n",
    "```\n",
    "'China'\n",
    "```"
   ]
  },
  {
   "cell_type": "code",
   "execution_count": null,
   "id": "e8a0e225",
   "metadata": {
    "id": "e8a0e225"
   },
   "outputs": [],
   "source": [
    "# Do Task 1 in this cell\n",
    "#\n",
    "#\n",
    "#"
   ]
  },
  {
   "cell_type": "markdown",
   "id": "hnIwJzumgQ2-",
   "metadata": {
    "id": "hnIwJzumgQ2-"
   },
   "source": [
    "**Task 2:**\n",
    "\n",
    "Sure, here's the corrected version of the text:\n",
    "\n",
    "1. Declare the following variables with the corresponding values:\n",
    "\n",
    "```python\n",
    "name1 = 'mark-'\n",
    "name2 = 'harry-'\n",
    "name3 = 'jessica-'\n",
    "name4 = 'john'\n",
    "```\n",
    "\n",
    "2. Concatenate them like this: `var1 + var2 + var3 + var4` and save the result in a new variable.\n",
    "\n",
    "3. Print the value of the new variable.\n",
    "\n",
    "Output:\n",
    "\n",
    "```\n",
    "'mark-harry-jessica-john'\n",
    "```"
   ]
  },
  {
   "cell_type": "code",
   "execution_count": null,
   "id": "g_X11cV4a0ZJ",
   "metadata": {
    "id": "g_X11cV4a0ZJ"
   },
   "outputs": [],
   "source": [
    "# Do Task 2 in this cell\n",
    "#\n",
    "#\n",
    "#"
   ]
  },
  {
   "cell_type": "markdown",
   "id": "vBzLec7PUy5o",
   "metadata": {
    "id": "vBzLec7PUy5o"
   },
   "source": [
    "**Task 3:**\n",
    "1. Declare a variable `student_names` with the value `\"mark-harry-jessica-john\"`.\n",
    "2. Replace all hyphen (`-`) signs with comma (`,`) signs in the `student_names` variable.\n",
    "3. Print the value of the `student_names` variable.\n",
    "\n",
    "**Hint:** To replace a string by another, use the `.replace()` method.\n",
    "\n",
    "Output Answer:\n",
    "```\n",
    "'mark,harry,jessica,john'\n",
    "```"
   ]
  },
  {
   "cell_type": "code",
   "execution_count": null,
   "id": "e77de092",
   "metadata": {
    "id": "e77de092"
   },
   "outputs": [],
   "source": [
    "# Do Task 3 in this cell\n",
    "#\n",
    "#\n",
    "#"
   ]
  },
  {
   "cell_type": "markdown",
   "id": "gU0fwONqUzdQ",
   "metadata": {
    "id": "gU0fwONqUzdQ"
   },
   "source": [
    "**Task 4:**\n",
    "1. Declare a variable `student_names` with the value `\"mark,harry,jessica,john\"`.\n",
    "2. As names are proper nouns, each word's first letter should be uppercase. Use a function that capitalizes the first letter of each word, such as `.title()`, and reassign it to the `student_names` variable.\n",
    "3. Print the value of the `student_names` variable.\n",
    "\n",
    "\n",
    "Output Answer:\n",
    "```\n",
    "'Mark,Harry,Jessica,John'\n",
    "```"
   ]
  },
  {
   "cell_type": "code",
   "execution_count": null,
   "id": "quCHhI2ATNSw",
   "metadata": {
    "id": "quCHhI2ATNSw"
   },
   "outputs": [],
   "source": [
    "# Do Task 4 in this cell\n",
    "#\n",
    "#\n",
    "#"
   ]
  },
  {
   "cell_type": "markdown",
   "id": "ss59J5JdNZWH",
   "metadata": {
    "id": "ss59J5JdNZWH"
   },
   "source": [
    "**Task 5:**\n",
    "1. Declare a variable `student_names` with the value `\"Mark,Harry,Jessica,John\"`.\n",
    "2. To separate the names and create a list, split the string using the comma (`,`) as a delimiter.\n",
    "3. Print the value of the `student_names` variable.\n",
    "\n",
    "**Hint:** To split a string, use the `.split()` method.\n",
    "\n",
    "Output Answer:\n",
    "```\n",
    "['Mark', 'Harry', 'Jessica', 'John']\n",
    "```"
   ]
  },
  {
   "cell_type": "code",
   "execution_count": null,
   "id": "bZoyFh88NY_X",
   "metadata": {
    "id": "bZoyFh88NY_X"
   },
   "outputs": [],
   "source": [
    "# Do Task 5 in this cell\n",
    "#\n",
    "#\n",
    "#"
   ]
  },
  {
   "cell_type": "markdown",
   "id": "JZST66UKTv6L",
   "metadata": {
    "id": "JZST66UKTv6L"
   },
   "source": [
    "### Accessing Characters in a String using Index/Subscript\n",
    "\n",
    "In Python, you can access individual characters in a string using index/subscript notation. Each character in a string is assigned an index starting from 0 for the first character.\n",
    "You can use these indices to extract specific characters from the string."
   ]
  },
  {
   "cell_type": "markdown",
   "id": "JpbFRQAZVeZD",
   "metadata": {
    "id": "JpbFRQAZVeZD"
   },
   "source": [
    "![image_2023-08-23_215909071.png](data:image/png;base64,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)"
   ]
  },
  {
   "cell_type": "markdown",
   "id": "PBmzAq7UUw6E",
   "metadata": {
    "id": "PBmzAq7UUw6E"
   },
   "source": [
    "![Split-String-into-List-of-Characters-in-Python.png](data:image/png;base64,iVBORw0KGgoAAAANSUhEUgAAB4AAAAMACAYAAADFXXoNAAAAAXNSR0IArs4c6QAAAARzQklUCAgICHwIZIgAAAAEZ0FNQQAAsY8L/GEFAAAACXBIWXMAAA7EAAAOxAGVKw4bAAAElGlUWHRYTUw6Y29tLmFkb2JlLnhtcAAAAAAAPD94cGFja2V0IGJlZ2luPSfvu78nIGlkPSdXNU0wTXBDZWhpSHpyZVN6TlRjemtjOWQnPz4KPHg6eG1wbWV0YSB4bWxuczp4PSdhZG9iZTpuczptZXRhLyc+CjxyZGY6UkRGIHhtbG5zOnJkZj0naHR0cDovL3d3dy53My5vcmcvMTk5OS8wMi8yMi1yZGYtc3ludGF4LW5zIyc+CgogPHJkZjpEZXNjcmlwdGlvbiByZGY6YWJvdXQ9JycKICB4bWxuczpBdHRyaWI9J2h0dHA6Ly9ucy5hdHRyaWJ1dGlvbi5jb20vYWRzLzEuMC8nPgogIDxBdHRyaWI6QWRzPgogICA8cmRmOlNlcT4KICAgIDxyZGY6bGkgcmRmOnBhcnNlVHlwZT0nUmVzb3VyY2UnPgogICAgIDxBdHRyaWI6Q3JlYXRlZD4yMDIzLTA1LTIwPC9BdHRyaWI6Q3JlYXRlZD4KICAgICA8QXR0cmliOkV4dElkPjcyMDYzNGI3LTgzMDEtNGJiYS04MmJmLTg5NjEzOGVlMGQ0MjwvQXR0cmliOkV4dElkPgogICAgIDxBdHRyaWI6RmJJZD41MjUyNjU5MTQxNzk1ODA8L0F0dHJpYjpGYklkPgogICAgIDxBdHRyaWI6VG91Y2hUeXBlPjI8L0F0dHJpYjpUb3VjaFR5cGU+CiAgICA8L3JkZjpsaT4KICAgPC9yZGY6U2VxPgogIDwvQXR0cmliOkFkcz4KIDwvcmRmOkRlc2NyaXB0aW9uPgoKIDxyZGY6RGVzY3JpcHRpb24gcmRmOmFib3V0PScnCiAgeG1sbnM6ZGM9J2h0dHA6Ly9wdXJsLm9yZy9kYy9lbGVtZW50cy8xLjEvJz4KICA8ZGM6dGl0bGU+CiAgIDxyZGY6QWx0PgogICAgPHJkZjpsaSB4bWw6bGFuZz0neC1kZWZhdWx0Jz5TcGxpdCBTdHJpbmcgaW50byBMaXN0IG9mIENoYXJhY3RlcnMgaW4gUHl0aG9uIC0gMTwvcmRmOmxpPgogICA8L3JkZjpBbHQ+CiAgPC9kYzp0aXRsZT4KIDwvcmRmOkRlc2NyaXB0aW9uPgoKIDxyZGY6RGVzY3JpcHRpb24gcmRmOmFib3V0PScnCiAgeG1sbnM6cGRmPSdodHRwOi8vbnMuYWRvYmUuY29tL3BkZi8xLjMvJz4KICA8cGRmOkF1dGhvcj5BYmR1bGxhaCBQYXRlbDwvcGRmOkF1dGhvcj4KIDwvcmRmOkRlc2NyaXB0aW9uPgoKIDxyZGY6RGVzY3JpcHRpb24gcmRmOmFib3V0PScnCiAgeG1sbnM6eG1wPSdodHRwOi8vbnMuYWRvYmUuY29tL3hhcC8xLjAvJz4KICA8eG1wOkNyZWF0b3JUb29sPkNhbnZhPC94bXA6Q3JlYXRvclRvb2w+CiA8L3JkZjpEZXNjcmlwdGlvbj4KPC9yZGY6UkRGPgo8L3g6eG1wbWV0YT4KPD94cGFja2V0IGVuZD0ncic/PuTPldUAALj8SURBVHhe7N0HnB1V2T/wZ3s2vfcQQhol9N6LgIoiitgLqFjR1479tXd97V2xV0SlN5EindASIJQQQkJI72Wz/b+zHv8Wttztu5Pvl8/97HnObEJ27tyde+c355yi+St3NAYAAAAAAAAAA15x+goAAAAAAADAACcABgAAAAAAAMgJATAAAAAAAABATgiAAQAAAAAAAHJCAAwAAAAAAACQEwJgAAAAAAAAgJwQAAMAAAAAAADkhAAYAAAAAAAAICcEwAAAAAAAAAA5IQAGAAAAAAAAyAkBMAAAAAAAAEBOCIABAAAAAAAAckIADAAAAAAAAJATAmAAAAAAAACAnBAAAwAAAAAAAOSEABgAAAAAAAAgJwTAAAAAAAAAADkhAAYAAAAAAADICQEwAAAAAAAAQE4IgAEAAAAAAAByQgAMAAAAAAAAkBMCYAAAAAAAAICcEAADAAAAAAAA5IQAGAAAAAAAACAnBMAAAAAAAAAAOSEABgAAAAAAAMgJATAAAAAAAABATgiAAQAAAAAAAHJCAAwAAAAAAACQEwJgAAAAAAAAgJwQAAMAAAAAAADkRNH8lTsaUxsAAOgFjQ0NUVdXG3W1tdHQ1AaAvCkuKoqS0rIoLS+L4uKS1AsAAPQGATAAAPSCFY8/Gts3b4hoqIvSEhfCAdh11Dc0RmNRcQwZMTImzZgtEAYAgB4mAAYAgB5SW1MTKx5/OGq2b43SEquvAECmqKwyJs+cHRWVQ1IPAADQnQTAAADQzeqqa2Lpw/c3NWqiuFjwCwAtaSwujSmz94xBg4elHgAAoDsIgAEAoBs99fjDUbVpXZSY3hIAClI2eFhMmb2XqaEBAKCbCIABAKAb1NbWxBML5kdpcVHqAQAK1dAYsfu8A6O0fFDqAQAAOst8dAAA0EXbt2+NJ+6/Q/gLAJ2UnUKXPnBPbNuwLvUAAACdJQAGAIAu2L51S6x46P4oLSlNPQBAZxQXFcWaJx+LzWtXpx4AAKAzTAENAACdVLV9WyxfdF+UlnR8zcKa2tqora2L+oaG5kc0NjZPfwkAA1lRUURJ03mxpKi46WtxVA6qSFs6ZszUmTFi3PhUAQAAHSEABgCATqiuqoonH7g7SksLD39rauti244dTY+qqKmpTb0AkF/FxcUxdHBlDKkcFEOavnbEuN1nx7BRY1MFAAAUSgAMAACd8Mj8W6KspLAVVWpra2Pjlm2xZdv21AMAu57ysrIYPXJ4cyBciMbGxpi+7yFRWlaeegAAgEIIgAEAoIOefHhh1FdtS1Xb1m/eEhs3bUkVAJBNCz1x7OjmqaLbU1RaFjP2PSRVAABAIQobsgAAADTbuWN71G4vLNBdvW6D8BcA/kvVzupYvmpNQcshNNbVxqY1K1MFAAAUQgAMAAAdsOzhhc3rGbZnxeq1sXX7jlQBAP+urq4+nmo6V+6srkk9rVu/Ymk0NjakCgAAaI8AGAAACrRl4/ooLWp/BZVVazc0j24CAFrX0NAQK9euj9q6utTTsqKmx/qnl/2jAAAA2iUABgCAAq18/JHUat36TVti2w4jfwGgEPX19bFyzfpobGj7BqvNa56Ohob6VAEAAG0RAAMAQAGqdmyPspJsDFLramprYuNma/4CQEfU1NbG+nbOn0VN/21duyZVAABAWwTAAABQgDXLlqRW69Zu2JxaAEBHbNqytd2poDeuXZlaAABAWwTAAABQgJ3b2g53t++osu4vAHTB+o1tjwJuqK2OhnrTQAMAQHsEwAAA0I76urooKylJVcs2b9ueWgBAZ2Rr6GdrArelqp0bsgAAAAEwAAC0a/OGdanVssaGxthRtTNVAEBnbdvR9vl005rVqQUAALRGAAwAAO3YuX1barVs+07hLwB0hx3tnFNrdu5ILQAAoDUCYAAAaEdNdTsXo2tqUwsA6IrqmprUallDnXMuAAC0RwAMAADtaKht+2JzXTvrFQIAhamra/ucWhSNqQUAALRGAAwAAO1oaGxIrZbVC4ABoNu0e15tFAIDAEBbBMAAANCedi401zW0HRADAIWrq2/7vCr+BQCAtgmAAQCgPUXpa2tciQYAAACgnxAAAwAAAAAAAOSEABgAAAAAAAAgJwTAAAAAAAAAADkhAAYAAAAAAADICQEwAAAAAAAAQE4IgAEAAAAAAAByQgAMAAAAAAAAkBMCYAAAAAAAAICcEAADAAAAAAAA5IQAGAAAAAAAACAnBMAAAAAAAAAAOSEABgAAAAAAAMgJATAAAAAAAABATgiAAQAAAAAAAHJCAAwAAAAAAACQEwJgAAAAAAAAgJwQAAMAAAAAAADkhAAYAAAAAAAAICcEwAAAAAAAAAA5UTR/5Y7G1AYAAFqweMH8KK6vTdUzLV+5JqpralLVdeUVg2LkmDGpal3NzurYtGFdqjpvx+aNsWHFklR1j7KKwVE+eEiUVw6NiiFDorSsIm0BYCAYNXZclJWXp6p1G9etjdpuPAdmpk2aEBXlZal6phkHHBFFRUWpAgAA/psAGAAA2tHbAfDoMePikGNOSFXr1qxaGffdcXOqOm/5A/Pjzot+nKqeUTFkeIybPjvGTJ8VY3efEyPGTXbxHqAfO/To42PU2PGpat1tN/w1tm7emKruIQAGAICuMQU0APRz2zdvjGUPL4j7rr8i/vabH8SFX/1ofP9958TnXvWsqOvm0RZA/9DQ2JBabWtoqE+t/q96+5Z46qG74/4rfx/Xfe/Tcc13Ph5L5t8UdbV+jwH0Rw0NBZ6LCjxnAQAAvccIYADoR55a/FDcdOFPY8PTT8X6lctjQ9Nj545taeszfeu2FVE+aFCqgJ7S2yOAh48YGUeccEqqWrdqxbJYMP+OVHVeb4wAbk354KEx+4hnxZyjToniktLUC0BfO/Dwo2PcxMmpat0t110V27dtTVX3MAIYAAC6xghgAOhHnl78cNz4hwti4c3XxNOPL2oz/AXyq6GxsHs0G+oH/qirmqbfcw/+7eK44YKvxLYNa1MvAH2toaHAc9EAmo0CAAB2FQJgAADoZwoNdvM07ebGp5fGdT/4bDz14N2pB4C+VGiwW+hU0QAAQO8RAAMAQD/TWOgawDkYAfzv6mp2Nk9FvfLRBakHgL5S8LmowJHCAABA7xEAAwBAP1PoyN48jQD+p8bGxrjjjz+ODSuWph4A+kKhI3uNAAYAgP5HAAwAAP1MY4EjextzetG9vrYmbv3td6PaOugAfaaxwJG9jY3WAAYAgP5GAAwAAP1MwSOAczzqqnr7lnj4pitTBUBvK3gEcM6WIwAAgDwQAAOwS6qvrY2VTzwWD936t7jt0t/GDX/4SVz7i+/Etb/8btz4hwvitst+H4vuuDFWLV0c9fVGNfSG1U8+Ho/c9fe4+6+XxN3XXhwLb74mVjz2YFRXVaXvgF1HoRfTCx2d1d0GDRsZQ0aNa+UxNiqGDI+ikpL03Z33+PwbYtuGtakCoDc1NLT/Hjibth8AAOh/iuav3OHdOgC7hBWPL4q7r/5LPHzXTbFs0f1RW12dtrStbNCgmDJz79jz8ONi3jGnxqwDDouioqK0tWO2bVgXa55qfV3LRXfcEJd89/Opat97f3xplJaVp6p943fbI4aOHJ2qwix7eEHU1dSkqjAlZWUxfa/9U9Wy7ILhw3feFH+/6OfNX7dv3pi2PFNF5ZDY99hT4sx3fSrGTJqSeqH3LF4wP4rra1P1TMtXronqDr5O2pL9jjnlBWelqnWPPrggli5+JFWdt/yB+XHnRT9OVfuOO/s9MW73Oalq3fZN62L9siVNf/+dseqxB1Jvx+y23+Fx6ItelyoAesusPfeJPebunaqW1dfVx3WX/ylV3WfapAlRUV6WqmeaccARnX4/DgAAuwIBMAC5d9/1V8RVF3w9nnjg7tTTNWMmT4ujz3hVHH/W62Lo6LGptzC3X/aH+OnH3pqq3ve+H18Wsw8+MlWF+ejpB8faNkLrlhSXlMTXbloSgwYPTT3/KRvZ+6vPvCeWLJifegrzgV9eE3vMOzhV0Ht6OwDOZAFwexe3H1l4Xzy55LFUdV5PBcD/btOqp2L+ny+IzWueTj2FKS2viOe//6tRUlqaevhv9XV1sW39quY1k6u3b4ud27dETVM723cVTb+HK4YMi/Kmx+ARo6Ny6Ij0pwaG7OfZtmFN7Ny2OaqbHju3b42SsooY1PTzZD/XoGEjYvj4KVFcbHKr3pJNC7x9/erYsnZl1FRXRW1V06N6R9NrtCzKK4c0P8oqBzc9L5MH3PH237LX1qaVy5qPv53btjS9xpqOv9LyqGw67gYNHxmDh49qei84Pn131zQf51s3R1X2/9qyKWp27mh6/Q5pOs5HNB/rIydMjfKmujdl4W8WArelrrY2/nbFX1LVfQTAAADQNQJgAHJr7Yon41efelfz6NKekI0MPvbMs+O0c98bw0aNSb1t6+sA+IvXPhgjx05MVWE6EwBn3vmdC2Pvo05K1b/cecUf42cfP6/5ompHfevW5VFeOThV0Hv6IgB+1vPPjJJ2plFetOCeWP7E46nqvN4IgDPZbAI3/eJrsXHFE6mnMMe8+p0xYeZeqeqcR265pun3TuvP0YRZ+8SYKTNS1bJsOuodm9c3B621Wdi6Y0c0xr+m6x4ycmxM3/+IVPWcbAaFTauWx9olj8SapYti3ZOPNS9tUIhh4ybFhBl7xrgZc2Ps7nOjfFBl2tJ/bFqzIlY9siBWProwNjy1JPW2rrTpZ5i4x94xftbeMXnOvs1TkLdk5aMLYuPKZal6pizM2/3Ao1PVdXk65qq2boplC+6MlY8tiE1PL2863gqbRSWbFn7sbjObfl/MjSl7Hxyl5YXPWtJVG5p+z6xa/GCqnikLrOce/exU/Utd08+2fOFdTT/rA7Hm8UXt/qzZtPfT5h0a0/Y9NIaPm5x625cF6dnxvWLRvbHiobujasumtKVlWdg5qul4mThz79jtgCOan/uetvusPWPOPvumqmU11TvjhqsuTVX3EQADAEDXCIAByKVH7741vv/e17Y5rXB3yUaBnPWuT8QxZ7429bSuLwPgbBrlb97a+oXv1nQ2AM6C8TPO+3Cq/uGmP/4sfv3Z96aq435w7/rUgt7VFwHwiae9MMrKWr/4nXnwvrtjxZPtB2Tt6a0AOJONTr36m/8bdTU7U0/7Zh3+rNj/OS9JVedc+uX3NY+KbU0W3hx25htS9S/rnlzcHNCsWrwwtq1fk3pbNn7GnnHsa9+Vqu6XBUZPNT1Xj/z9ytiybmXq7bxsuv4ZBx8Xc448OSqHj0q9fScbJf7gdX9p2tedmy48k4V6exx2Qsw96tlRMeQ/Z6G47gefbQ7OWzNm2sw44fXvT1XX5eGYywLzh/52Sax+/MEur/WajQze/aBjYuahJ8TgET1/vC2+8/q4/8rfp6plz37Hp2Po6HHN7ez1tWzB7U3H4MXNI347Y8Iee8WBp78mhrSz3MaKh++LBVf/IXZs2pB6OiZbY33GgcfEnsc9t+l96MjU2/12mzk79px3QKpatrOqKm665rJUdR8BMAAAdI0AGIDcWfrgvfGVc58ftTsLDxe6KhvR8vGLbovxU3dPPS3rywB42tx946O/uyFVhetsADz7oCPjfT/51wXBbCT2N952VjTU16eejpmx7yHxwV9cnaqBLztOn3zovlT1jUNOfWEM6YWL8HnQFwHwCc99QZSXV6SqZQvvuTNWLn8yVZ3XmwFw5qEbL4tFNxQeGIycPD2e9cYPpapz2gvjygcPjee990v/fyrhbMTjgqsvjKceLHz5gJ4K47Lgbel9tzYHv9s3rku93ae4pDSmH3BU7HX8aT0aJrUmG92a7etlC+5IPV2XTX8995jnND+ykCi78eDyr5yftrastwPg/nzM1e7cEQ9cd3E8cfdNXQ5+/1sW0s875cyYddiJqadnFBIAH3DaK2Lmocc37/tbf/e92PR013+flpYPiv2e85KY0cJo8mxd9Puu+H2semxh6umakrLy5jXSp+x1YOrpXtNmzIy99jsoVS3bsWN73HztFanqPgJgAADoGgEwALlStX1rfPLFR8XG1R1bY7KrznzXJ+LZZ78jVa3rywD44FPOiDd96YJUFa6zAXBZRUV87cYnmr9mI7E//qIjY+vGtWlrxx1+2kvi9Z/9fqoGvku//8W47AdfSlXf+NiFf4+ps/ZOFW3piwD4+FOfHxWVbU/Pe//822P1itZHNBaqtwPgrWtXxjXf/WSq2peNTj3t3Z9PVee0F8ZlTjj3A81T8q5+fFHcceEPo7a6Km0pTE+EcTU7tsddF/88Vj26IPX0nIrBw+LQM1/f5em2OyI7Fm757XdjexfOD22ZOGe/5oBs5SMLYv5ffpp6W9bbAXCmPx5z2zdtiFt+863m56YnTZw9Lw4547WtTtndVYUEwJP2PCD2O+XFcfMvv9Ecznan2Uc+K/Y79V8zF6xd+mjTfv121Nd277kiM+9ZL2y+2aG7TZ2+R+x9wMGpatm2rVvj1r9dlaruIwAGAICu+cetxgCQE1f86Cu9Hv7O3P/QOOU156Wq/xo/bY/U6h211dWx9IF7mtt/+uanuhT+Zsa2M7oa8qah8V/rfLaqoYDv6YeydWiz0Y+Fqt62udtHIbZk9eIHY+PTT8btf/h+h4O4npCtYXrdjz7bK+FvpnrH1rj5V99oHp2dTYfb07LQ828XfKnHwt9Mtu+u/8kX48n7b009/Ut/O+ay0PfGn365x8PfzKrHHoi///Kbffpzr12yKG684MvdHv5mHrvtunj8rn/MvJKt091T4W/mgev+Eg/f3P2zpBT0e6CxczO7AAAAPUsADEBuVFdtj5v++PNUFW70xCmx95EnxiHPflEc+pwzY8/Dj2+eLrl80OD0Ha0rH1QZZ3/yO/9/+sb+bPz03g2AM4/ee2useHxR3PynX6Sezhs3dXpqwa6hkAvvBYXE/dSgoSNSq33Zvqhp+h3f05YvvCtu+c13oq6mOvX0nWy04I0//Wqn1wjtimyK7nsu6frv7bZka/He9rvvRt3Ong//tq1bFWufeCRV/Ut/Oubqaqvj1j/8IKq2bEw9PW/z6qfi9t//IBrq61JP78r2ezY9eE/JRiAvuvHyuPnXPRf+/tNDf7u4OWjuTgWdh3rhZhEAAKDjBMAA5MZDt14fO7dvTVX7spG72Zq4n79yQbzzu3+MN37hx3Hu538U7/7+n5r7v37TkvjAz6+OF73jYzFl9j7pT/2nF73z4zFh+sxUtW/ctBlx5Okvb/WRrZvbEdm0yC39PS09Zsxrewq/1rzs/M/FG5r2y78/Rk+amra2bfE9t8dVF3w9VV0zdrIRwOxaCrrwXj9wL7xna6d3RH1d61Nwd5dt61dHdQ+GQYXasnZV3Pb77/dZKJZ58v7bm4OrnpBNa52Ffr3xnPZ3/eWYy2Rr02ZheW9b88TD8dD1l6YqX7KZCx664dKor+35gL+xsSHu+OOPu3VEdUMBo3sbGqwqBgAA/ZE1gAHIjYu+/vG45uffTlXbKocOj89deX8MbvpaqCcevCdu/MMFccdlv28OZuYecky8+4d/6db1x+686k/xkw+9MVXt+9ZtK6J80KBU9Z5Pv+z4eOrRB1LVumyEdF1tTTTUt30BceLus2PV0rZHrXzhqoUxasLkVA181gAeWPpiDeDyikFRVNz275dsqvXuGH3V22sAZ6761sdi+4bCp/594Ue+HSWlpanquELWY+2q7liPNQsDr//xl3pkStrOOPRFr4/d9jssVd0jmwo3m/63v+mLNYC7qrvWAN6wYmnTcfeFVPW+4qbX9rPP+1QMHjk69XRdIWsA59G8k8+MuUefmqquKS4pjrLyilS1rLG+IWp6YAS7NYABAKBrjAAGIDc6svbv5JlzOxT+Zmbsc1Cc88lvx/9eeHPzdNFnf+rbLjy1o2ZnVZvh79EvfHV84qJb45N/vr3NabTLKipi5PhJqYJdQ031zqiuqmrzMVCn3sxuDOnINLNllYO7FP4OJPde8bt+E/5m7rn0l7Fjc/dNCZyteduV8LeoqDiGjBobo6fuEWN2mxlDx4xvDg/pmkdvvSa1CpM9D1P2PiiOesXb4tS3fTzO+PA343nv+1Icf8774qDTXx0jJ3ds2YaGurp48PqLU0VXLL79uqiv7Z7R9dksEy2de/790RPhLwAA0HUCYAByIwsbC7Vq6eKo6sB00f9u0h5zm6eLHjNpWuqho4aOHBPv/8nl8dqPf6N5f7ZnzKTdhO2QI+uWLW4OfArVkfWCB7L1y5fEiofuSVXHjJgwNfY6/nlx3NnvjWf/z2fijA99ozmQO/ktH42Dzzg7pu5zcJSUtT6arjXZNM0PXX9JqrouW1+4M8bNmBuHv+SNcfr5X4nnNP18J77h/Djhde+PZ7/9U019/xfHvOodMW3eIem76Yjtm9Z36LgbPn5K0zH2qTjiJW+KSXP2i2HjJkVpWXkMGjI8xk6fFTMOOiZOOveDcdiLz42Kpr5CZesh98Za34XIAu7dDjiyOeB+zjs/G2d8+Bvx3Hd/vvk4273p5ysqKUnf2XVjpu0RBz7vlc1B+ukf+Fo8/31fiZPe+KHY+8QXROXwUem7Crdz2+ZY/uD8VAEAALsqATAAuTFo8NDUat/2zRvjxx98Y2zb0H9GWe0qRoybGO+74PKYddARqad9Y6da/xfy5PE7/pZahRk6ZkJq9b3SQZXNUwVnwddu+x3eHBL98zF+ZtemVF947UWpVbjhYyc1h1RZ0Lv3CafHuN1nx9BRY6O0vKI5kMuC4d2b/m2Hn/XGePY7Ph17HHp8+pOFe/L+22Lz6qdS1XmrFj8YG556IlWFyQLEY179zjjute+OqXsfHGWDBqct/5KFjxNm7dMcOD7rrR+LEePzs1xApiePuUw2KrtQIyftFsef854YMnJs6mlZdtNWFshnx12hN3Bla9iuXrIoVX0ne02d/NaPxqFnnN28z4eMHNN0jFXE4OGjmo+zg09/dZzylv9t/r6uKCkti0Nf9Lo44fXnxx6HHNccpGdLZ1QMGRqjJk+PvY47LU497xOx+4FHpz9RuDX9YD8CAAB9yxrAAOTGJd/9fFz+o6+kqjCDhgyLY898TfNUxIWMRO1peVsD+L9lUzm/7yeXx+77HJh6/uWtB49rdTrbE152brzig19MVT48evet8dg9t6aqbxx31tkxbNS4VNGWvlgDuDf15hrATz14d9zxxx+lqjDZlLLZqMKu6Mp6rFmYmv3/px94VAwfN7lHZiTIwtFbfv2tVBUmm4L3kBee3RxOdcTTi+6NO//8s6ivLXzq1slz948jX/7WVHXO7Rf+sEMjTbPg/9jXvCsGj+jYKMi6muqm/9cPYvXih1JPYfrTGsC9ccz9U0eel2y94Wzd4Y5YdOMV8dANhY0in77/EU3H9Dmp6prOrAGcTSmeBbIVBdxUWL19W1z3w89E1ZZNqadjOrIv7/rLT2PZ/Xekqn2Dho2M572n79Z07g7WAAYAgK4RAAOQGwv/fnV8+39emaqOmzZ33zjwWc+P/U88LabO6vqIms7IewD8yo98NY4/q+ULu20FwGe99zNxyqu7FjxAVwiA/1NnA+CnH74v7mj6/3Rk+ufMae/5QlQOG5mqzulsGDdm+qzmUYyVPTwN9fyLfxFP3lf4TSGT9jwgjnzpmzsdgKx+fFHc8utvRmNjYR8Hi0tK4/Tzv9ocTHZG9vv9sq+8L2qrdqSetpVVVMaJ534who3t3Ojv2uqquP4nX4qta1emnvb1lwC4t465f3r0lmujpqr9f2dpxaDY89jnpqpwWVB6+VfPbx7h254ho8bFc/7n06nqms4EwEe+7C0xuem1Vagn7r0l7rnkl6kqXDaSOxv9W6iqrZvi6m99rENr+2bTo2eB9kAlAAYAgK4xBTQAubHnYSdE5bDOXyxd/sjC5lHEn37JsfGR5x0Yv/3CB+LhO2+K+vr69B10xawDD4/jXnx2qjpm3JTpqQUMRJvXrIi7Lv553Pb773c4/B05eXqXw9/OmrDHXnHsa97d40FcFsKueqzwm2qykOzQF57TpfBjwsy9Yq/jT09V+xrq62LN4x0bUfvvNq5YWnD4m9nrhOd3OvzNZAHyQc9/daoGjt465v7dnKNPiXknv6jdR2fC30w2pfHgkaNT1bbq7VtSq/eN2W1mh8LfzPT9j4yhYyemqjDZzRTZ+r4dkf0OnHX4s1JVmO0b16YWAACwKxIAA5Ab2fTCp7z2vFR1zbqnl8UNv/9xfO3NL4rzT94rfvmpd8Uj829OW+mMl73vc22GFbMOPCJmHnBYi4/+MD038C9rnni4edRwS49lD9zVPCru0VuvjXsu+3Vc+71Px1+bHsvuuy396Y6Ze9SpqdW7svVzDz3zdVFSUpJ6es7GFU90KPja+6QXNJ3zuj77w+yjTo5BHQgaVz66MLU6bs2Sh1Orfdm+n3HwsanqvLG7zeyWNXJ7S28ec72tvLL9KZUz2fTddX00m8Kexz0vtQpXXFwcsw47IVWF2W3/I5rXFe6oWUeclFqFqe7ADRcAAED+CIAByJVTX/P22G2v/VPVPbZtWh83//mX8X9vPCM+9dLjmts1O3emrRRi3jGnxG57tz2q5r0/vjTO/+mVLT4mTJ+ZvgvoDx6+6YrmKaNbetx10U+ap0RdeO1F8cTdf48ta1akP9Vxo6fOiKn7HJyq3jX7yFOiYsjwVPWs1R0IRwePHBNT9+6efVJaVh4zDy88VFrzxKLU6rjtm9alVvsmzt2v+d/WHabNOyS1+r/ePOZ6XQdGq1fv6P1RwFmQO3barFR1TDZ1eEd0dA3lf8puEMhG/xeqesfW1AIAAHZFAmAAciUbBfy2r/0qxk2bkXq614rHHmweDfzxFx0Wd197ceqlPSdbvxfohH1PeXFq9a6S0rLY/aCjUtXzqrZsSq32TZq9b3NY1V0mzpmXWu2r2rK51bXa21O9vfAwKpsGubuM78a/qyf19jHXnrramuZ1oh+8/pK4+ZffiL9+/zNx+f99MP7yuXd26pGNci9UfW3HponvDoNHj4/S8s7ddNCRUDYzYsLk1Oq4IaML/3/VVm1PLQAAYFckAAYgd0ZNmBzv/+nlMefgnruQumHVivjh+a+PX3363dYIbsfI8ZNi7qFdn8ozb7JpxrNpxfvyUe3iMP3YnsedFmN369yIvK4aNWX3KK8ckqqeV71tc2q1b9zuc1Kre4wcPyXKBxc2PW9jY0PUVm1LVcd0JAAudL3YQmRrp3ZnYN5TevuYa002FflDN1waV379w3Hzr77RPNp/9ZJFsXn1U7Fz66aor63u1KO/q+jCvs+mY+/IMVbWhf9XReXg1GpfYydv1gAAAPKhaP7KHY2pDQC5ko1S+vsffxaX/eDLsWXDmtTb/Q4/7SXx+s9+P1Vdc+dVf4qffOiNqWrft25bEeWDur4OZEd9+mXHx1OPPpCqth374rPj1R/9v1TxT5d+/4tNx+aXUtU3Pnbh32PqrIGzPmZfWrxgfhTX16bqmZavXBPVfbRuZXfI1u7Npm/uL3Y74Mg49IyzU9U9Lv3y+6JmR2Hh5dyjnx3zTn5Rqnre3378xYJHSJ5w7gdizJTuneUiG92ZBXyFOPktH40RE6amqnBXfeOjBU8D/ex3fDqGdmCkY3su/+oHYmcBIXs2le8Jr39/qrquPx9zLXn6kfvj7kt+WfC/uaec8rZPxPBxE1PVeYvvvD7uv/L3qWpbtlb0sa/+n1R1XDbKudCg+wUf/Hqn1/C+6+KfF7ye+p7HPjf2OemMVA080yZNiIryslQ904wDjoiiDkwtDgAAuxojgAHIrWw0xvEvfX187or74jUf+1pM3H122tK97rjiwrjxDxekiv/W2YucwK5p0pz94qDnvzpVfWPY2K6HTx1R04HRsRWVhY3W7YiKAkcAZ3Zu69y6oh2ZXreurntvpqit7v/r9vf2MfffHv77lXHb777X5+FvX+nNHFFoCQAA9AYBMAC5l60LfMyZr41P/Om2+OAvro5Tz357jJu6e9raPS7+3udjx7YtqQKgo7KbdrIRkEe+/K1RUlKSevtG2aDK1OodJeUVqdW+7g5HM3UdmKK3tAP/1n9XPmRYarWvemv3nU+zn20gTEHc28fcv3vi3lviwb9dnCoAAADyQAAMwC4jG3ExY99D4sXv+mR85tK743//eHOc9e5PxZxDjo7iLoYN2zdtiHuvuzRVAHTEkNHj4rjXv795Gtz+MDqubFDh62x2h0FDh6dW+6p74Gaj6g6M6h00rPB/678bNKTwP7fx6aWp1XUbnipsau2+1tvH3D9t37Q+7rv8t6kCAAAgLwTAAOyypszcK0557Xnx3h9dEl/926Nxzqe+HXsfeVKnw4cHb7kutQAoxKjJu8fhZ70xTj3vk92+rm1XlJSWplbv6EgAvHlVYWv1Fqqmanvs2Lw+Ve2rGNy5ALiiAz/jykcXplbXrerGv6sn9fYx908P/PVP0VBflyoAAADyQgAMAE0GDx8ZR57+injndy+MT10yPw477ay0pXBPPfZgagHQmpGTdotZRzwrjj/nvXHSGz8YU/c5uHn6511ZxdDCp0detfiB1Ooea5Y8HI2NjalqW1lFZYfW8v13Y6bukVrt2/DUkuZHV2Xh9hP33Zoq/lv19q3x1IN3p6ow2U0bh77o9fGsN380XvDBr8WLPvbdgh6jp/afGzwAAAB2BQJgAPgv46fuHm/47A/i+W85P/UUZsu6NanVeeUdXANwIKxrCOTPyMnTY+Lsfdt8TJt3SMw89MTY64Tnx/7PfVkc9crz4gUf+L941ps+HPs/+yUxdvrs9LcxcsK01GrfuqWPxbYNXT/f/NOT99+WWu0bPnFKanXc+Bl7dmiGjYV//XM0NDSkqnMW3XhF1O2sShX/bdVjHbuZYN+TX9x808Zu+x0WIydObb4hILt5o5DH9o2FjzIHAACg6wTAANCK55zzrqioHJKq9lVXbU+tzhs6fFRqFWbT2lWpBdB79jz2uXH0K89r83HYi8+NA057Wex9/PNj1mEnxqTZ+/bZOqf93YRZ+xQcjjY2NsRDN1yWqq5Zv3xJh0LAybP3T62OKx88JEZO3j1V7Vv35GPxwHV/TlXHLX9gfiy+w9IMbcn2caGm7H1QzDn6lFR1zKY1K6J6e/evXQ0AAEDrBMAA5E59bW388PzXx22X/T71dE5ZRUWMnjQ1Ve2r7MD6hq0ZMrJjAfCj829JLQaaGfseHCe98s19+hg6cnT61wB9qWLw0Bi928xUtW/5wjtj+YPzU9U5NTurYv7FP09VYSbO2Te1OmfKnh0LkB+79dq476o/dHgk8ON33Rjz/3xBqmjNzg6EspPnHpBaHbesA6PMAQAA6B5F81fuKGzBJwAYALJ1DH/60bfGHVdc2Fzve+yp8bL3fy7GTev42nPZiN73P2uvgkf2Ttpjbnzioq6tNVhTtSPeddyMqK+rSz1ty36uj/z2+qgc0v76kauWPBpllZUxZlLhU4225tMvOz6eerSwUWNZ0Jg9BzCQLV4wP4rra1P1TMtXronqmppUDTzZaMk7L/pxqtp3xMveElP27Hwg1Bcu/fL7ombHtlS17cQ3nB+jO7BmbXd45JZr4oG//ilV7SspK4ujXvn2GL/73NRTuLqa6rjtDz+INY8/lHraN2TU2HjO/3wmVZ1Tu3NHXPGNj3R4WuZsyvF9TnxBTJy1T+pp2caVy+Khv13S6XWSx0ybGSe8/v2p6rr+fsxd98PPxaamfVaI4895X4ydPitVhdu2YW1c+71PRkOB72syp7ztEzF83MRUdd7iO6+P+68s7GbACbP2jmNe9T+p6ri/fO6dBS/LccaHvhGl5RWp6pi7Lv55LLuvsEA9m6lhn5POSNXAM23ShKgoL0vVM8044IgOTSsPAAC7GiOAAciVP33jk/8//M0s/Ps18b8vPCwu+MhbYuWSR1Jv++rq6uJ3X/hgh6Z13mO/Q1Or88orB8fu+xyYqvatXf5E/N8bz4hH7761Ofz+b1s3ro351/wlvvOuV8UnzjoqLvrax9MWAPqT3Q84IkrLB6WqfdlsF7f88hvN0xx3ZITs1rUr4/qffKlD4W9m5uEnpVbnZVOAzzn8Wakq3Kann4xbfv2tuPIbH4l7L/9tLJl/U6x4+L54+pH744l7b4mF114U137v0/G3H36u0+Hvrii7iaBQG556IrUKV1tdFXdc9OMOhb8AAAB0DyOAAciNv/32h/H7L30oVS3bY79DYv8TTotZ+x8eE2bMjmGjxqQt/wh91y1bEg/deWPcdOFPOxQYZ9705Z/GwSe/IFWd95dvfSauvOBrqSpc5bARMWG3mVFeWRk7t29rDn83rno6bf2XbMTwbnvul6r2XfT1T8TWDWtT9Q/333hV7NiyKVVtmzhjTsyYd1Cqnukl7/1MDBnRsamvobcZAfyfjADuGYtuuiIeuv6SVBVu2NgJMefo58SkOfs2Tyf937KAeOPKJ+OJ+X9vno63pRuG2jJk5Ng49e2fiOKS0tTTedko4Ku++bGo6YZ187vbrjYC+PYLfxgrHronVW3LRoCf0PRvHDSksOUudmzZGHf+8UfN60x3lBHArTMC+F+MAAYAgLYJgAHIhbuvvTh+9IE3dPiidrbOb0Xl0GhoqI+d27Z0eJ3Bfxo7ZXp86uK7oqSkJPV03qqli+MTZx7R4Z+lUPOOOSXe8a3fpap9Hz394Fj71NJUdb/PX7kwRk+cnCronwTA/0kA3DPqaqvj6m/+b9P5aHPq6biRk3aLwcNHRfmQYc2BVPW2rbFp9VMF/+wtOeysc2PaPoekqutWPvpA3Prbb6eq/9jVAuCFf/1zPHrL1alq34gJU+PgM14bo5qOsdZk04svvffmWHTjFZ0O+QXArRMA/4sAGAAA2mYKaAAGvGz64ws++pZOBaa11dWxbdP65tGsnQ1/M9ko1u4IfzMTd58VB5z4vFR1vwduvjYW33dnqgDoL0rLKmLfZ5+Vqs7J1nTNpkZees/NsXzhXbHmiYe7FP6O231uTN374FR1j0lz5sXexz8/VfSVyXP3T63CbF79VPM02zf9/Kvx0A2XxtJ7b2kO85c9cFc8euu1cevvvx9X/N8H4/6rLuyXI7wBAAB2JQJgAAa0LPT94/99LOr6cOTds175ljjgxNNS1T1Of9sHm0cn95SLv/3p1AKgP9lt3qHNI/f6g6FjJsQRL3lTj4yy2/P458WUvVtfHoCeN3rqjBjciSUY1i59LBbdeHncfckvm0dy33XRT5rXYV758H3N6/4CAADQ9wTAAAxo2UXpd33votj/hL65WH7cWefES973mVR1nykz94qXf+CLqep+2ajph279W6oA6E/2PvEFMW1e90253Bnlg4fG0a88r+nrkNTTvbLz92EvPjfmHHVK6qG3Zc/B3icO3CmCAQAAaJ0AGIABb/DwkfG2r/0q3vDZH8Tw0eNTb88qLS+Pl3/wi/Gqj3y1x9YfO+ZFr4lnn9P59ejac/Uv+t/6iwD8I5g7+AVnx+Q9D0w9vWvQ0BFx1CvPi6E9fE4tLi6OfU95cfO6ssWlpam3+wwdOzF2P+iYVNGS6fsfEWOnz05Vzxo2blJqAQAA0NMEwADkxmGnnRWfuWx+nHHeR2LIyNGpt/vtd/xz4qO/uylOfNm5qafnnPnOj8c5n/p2c+DcXbKppU957Xnxpi/+JPUA0N+UlJXFkS97c+x76llRVNR7H9vGTZ8TJ735wzFmyozU0/N2P+CoOPW8T8X0/Y/slpuqsn2353Gnxclv/miMnrJ76qU1R7zkzTF8/JRUdb/sOc2C/mNe1XM3tQEAAPCfBMAA5EpF5ZA47dz3xBeuXBhnf/JbMfugI5tHGHVV5bARceyLz46P/Pb6OO/rv45JM3pntEzmyNNfER+/8JbmEcHZRe3OmrD7rHjROz4Wn7nsnjjr3Z+KIZ1Y9w+A3jXnyJPjuHPeG4NHjkk9PSM7V8499jlxzGvfFZVDR6Te3pPduHXIC8+Ok9/6sZh+wFFRMXhY2lK4IaPHxX6nnhWnvfsLsc+JL4iSHhhVnEcVQ4bGcU3P+5hpM1NP98mmEj/qFec1T/WdrTdsFDAAAEDvKJq/ckdjagNALm3bsC4evO36WLJwfjz50H2xdvkTsW3T+rT1mbKL4CPHT4ops/eJ6XsfEHMPPTb22P+wKO0HF5I3r10Z991wVSy+97amx+2xYdWKtOWZsp9hxr6HxMz9Do1ZBx8ZM/Y5KG0BOmrxgvlRXF+bqmdavnJNVNfUpGrgWf7A/Ljzoh+nqn1HvOwtMWXPA1I1MFz65fdFzY5tqWrbiW84P0ZP3SNV/UNDfV0sW3BHPHLL1bFt/ZrU23XZ1Mu7H3B0zD362TG4B2fP6KiGhobY9PTSWPnYA7F13arYuXVz7Ny+Jaq3bY2S0rIoGzwkKpoeQ0eNjzHTZ8XY3WbFsDET0p/+l8duvy4WXH1hqto2cfa8OPqVb09V1w20Yy7b50vm3xgPXveXqKupTr2dU145pDn03ePQE6KsYlDqjbi/6blY3PSctOWUt30iho+bmKrOW3zn9XH/lb9PVdsmzNq7SyOU//K5d0Z9bWH77IwPfSNKyytS1TF3XfzzWHbfbalq257HPjf2OWngrvE8bdKEqChv/cbHGQcc0S0zBgAAQF4JgAHYJVVXVcWWDWuiZueOqN25M7LLR2WVlTFo8PAYMW5ClJSU/OMb+7n62trYtmVDVG3e3PQzbY+KIcNiyIgRUTlsVL8IrCEvBMD/SQDcd7KQbsWie2LZgjtj3dJHOh3UjZgwtTnwnHnYCU3njJGpN38euuHSWHTj5alqWzYFdTYKubsM1GOutroqli+8K5645+bYtHJZ6m1fNktJtp7wxFn7NI/iLquoTFv+ZdXiB+OWX38rVS0TALdOAPwvAmAAAGibABgAANqR9wCYgam+vj42rlgaa5csik2rlsfO7VujpmpbVG/fFrU7d0RxSWnzjUEVg4c2PypHjolxM+bGhKZHxZDh6W/Jtzv/dEEsX3hnqtqWjYKed/KLUkWmese22Pj0k03H2ZOxc9vm5uMqC4iLikv+49gaPmFKjJ02q0tLVcC/EwADAEDXCIABAKAdAmAGmmykcHesgd/dsn9Xobrj33/lNz4SO9pY9uHf7XvqWc1rLgN9TwAMAABdIwAGAIB2CIChe1z59Q/Fjs0bU9W6oqLieM7/fKZL6xKvX/FE3PDjL6aqfced/d4Yt/vsVAF9SQAMAABd0/9uCQcAACCXRk2ZkVpta2xsiMV3XJeqznnkpitTq33ZerWjp/XPdZ8BAACgowTAAAAA9IpRk6enVvuW3P33WPfk4lR1zON33RgrH12QqvaNn7lXlJSUpAoAAAAGNgEwAAAAvWLC7Hmp1b762pq4+VffiKcfvi/1tK+xsTEeufmquO+K36aewkyee0BqAQAAwMAnAAYAAKBXjBw/JcbNmJuq9tXX1cZtv/9+XP+TL8aT998eNTur0pb/lK0r/MQ9N8e13/tUPHDdX1JvYYaNnRBT5x2SKgAAABj4iuav3NGY2gAAQAsWL5gfxfW1qXqm5SvXRHVNTaqAtmRTM9/62++mquNKB1XG4GGjonzwkKir3hk7t21pemxOWzvuiJe9JabsaQQw9CfTJk2IivKyVD3TjAOOiKKiolQBAAD/zQhgAAAAes2kOfvFxNn7pqrj6nZWxZa1T8e6Jx+LTauWdyn8HTN9lvAXAACA3BEAAwAA0KsOOeO1MWjoiFT1jcoRo+PwF5+bKgAAAMgPATAAAAC9qmLIsDj8JW+M0vKK1NO7ygYNjmNe+Y6oHDYy9QAAAEB+CIABAADodWN3mxXHnfPeGDRkeOrpHdnI46Nf+fYYPn5S6gEAAIB8EQADAADQJ0ZN2i1OOPf8GDNtZurpWZPm7h8nv+VjTf+/PVIPAAAA5I8AGAAAgD4zZOTYOOH1749DXvi6HlsXePDI0XHQ6a+Oo17+1qgYMjT1AgAAQD4VzV+5ozG1AQCAFixeMD+K62tT9UzLV66J6pqaVAGdVVdTHU89OD+evP/2WPfkY6m380ZNmRFzjjw5Ju91YBQXu/8ZBoppkyZERXlZqp5pxgFHRFFRUaoAAID/JgAGAIB2CICh923ftC5WL34oNq5YGhtXLosta56OxsaGtLVlQ8dMaF5beEzTY+z02TF01Ni0BRhIBMAAANA1AmAAAGiHABj6XkN9XVRXbY/aqqqoramKuuqdUVZeEWWVQ6K86VE2aLBRvpATAmAAAOgan44BAADo94pLSqNy6IgYPm5ijJkyIybssVeMnrpHDBszISoGDxX+AgAAQOITMgAAAAAAAEBOCIABAAAAAAAAckIADAAAAAAAAJATAmAAAOiiovQVAOi6oqLG1AIAADpDAAwAAO1qO+ItLva2GgC6S1FR2+dVN14BAEDbXKkCAIB2FJe0/ba5pJ3tAEDhykpLUwsAAOgMV6oAAKAdxcUlqdWykpK2twMAhSlp55zbrMgYYAAAaIsAGAAA2lFaXpFaLSsvM1IJALpDRXlZarWs0QTQAADQLgEwAAC0o7xiUGq1bOjgtrcDAIWprGz7pquSsvLUAgAAWiMABgCAdgwePjK1WpZNET2owgVpAOiqoZWVqdWy9s7JAACAABgAANo1dPiIqK2vT1XLhg8dkloAQGdUDqqIsnaWVRg5dkJqAQAArREAAwBAARqLSlKrZVkAXF7W9rqFAEDrxowakVota2h6lA92wxUAALRHAAwAAAUYNWFKarVu1IhhqQUAdMSQykExqLzt5RQGDx+dWgAAQFsEwAAAUIAJU3eLmtq6VLVs2JDBMWRw22sXAgD/qaSkJMaObn9t3/FTp6cWAADQFgEwAAAUqGJY+xenJ44ZHRXlpoIGgEJNGjc6ykrbXvu3qGxQlFYMShUAANAWATAAABRo6uw9o7au7VHARcVFMWn82ObRTABA28aNGRWDKipS1bopM+emFgAA0B4BMAAAFKistCwqR45JVetKS0pi2sRxUV5mJDAAtKS4qDgmjhsTI4YOST2tK60cGuWVg1MFAAC0RwAMAAAdsNvsvWNnTdujgDOlpaUxdeK4GFppTWAA+HclpSUxJTtHFrBufkNDY0yds3eqAACAQgiAAQCgg6bvvV/UtTMVdKa4uDgmjh8TE8a2v7YhAORdtkzC6BHDY/qk8QWvlz9x9l5N51PLKgAAQEcUzV+5ozG1AQCAAq14YnHs3LCm+WJ2oTZv3RbbdlRF1c7q1AMA+VdaWhLDBg+OkcOHdmiN/MEjx8bEGbNTBQAAFEoADAAAnfTIgnuipG5nFBcVHgJn6uvrm4Pg2qavDfUNUd/QEI1NDwAY+IqipKS4+ZHNhDGkclBUlJenbR1QVhF7zDsoFQAAQEcIgAEAoAsW3nlLVJYWdTgEBgBaVlPfGHseclSqAACAjrIGMAAAdMG+hx0dO+uieRQvANA11cJfAADoMgEwAAB00bzDjor60orYUWVtXwDojLq6uqgrLo+9hL8AANBlpoAGAIBusnH9unjiwftj6OCKKC0pSb0AQFu2VVXHtDnzYtTYsakHAADoCgEwAAB0o4aG+lh0/72xc/OGGDViWOoFAP7bjp07o2zwiJi7/0GpBwAA6A4CYAAA6AHr166JpY8uitLGuhg2ZHDqBQB2VtdEXXFpTJs5J0aNGZd6AQCA7iIABgCAHrRty+ZYsWxpbF23JkpLimJQRXmUl5WlrQCQf3X19c2hb0NDxODRY2LybnvE0GFmyQAAgJ4iAAYAgF5StWNHbN2yKbZtanps3hQ7d2yLxsaGtBUA8qOouCQqhwyNocNHxdARI2L4yJFRMagybQUAAHqSABgAAIBcO2TSf07D3vQ5OLUAAAAgf4rTVwAAAAAAAAAGOAEwAAAAAAAAQE4IgAEAAAAAAAByQgAMAAAAAAAAkBMCYAAAAAAAAICcEAADAAAAAAAA5IQAGAAAAAAAACAnBMAAAAAAAAAAOSEABgAAAAAAAMgJATAAAAAAAABATgiAAQAAAAAAAHJCAAwAAAAAAACQEwJgAAAAAAAAgJwQAAMAAAAAAADkhAAYAAAAAAAAICcEwAAAAAAAAAA5IQAGAAAAAAAAyAkBMAAAAAAAAEBOCIABAAAAAAAAckIADAAAAAAAAJATAmAAAAAAAACAnBAAAwAAAAAAAOSEABgAAAAAAAAgJwTAAAAAAAAAADkhAAYAAAAAAADICQEwAAAAAAAAQE4IgAEAAAAAAAByQgAMAAAAAAAAkBMCYAAAAAAAAICcEAADAAAAAAAA5IQAGAAAAAAAACAnBMAAAAAAAAAAOSEABgAAAAAAAMgJATAAAAAAAABATgiAAQAAAAAAAHJCAAwAAAAAAACQEwJgAAAAAAAAgJwQAAMAAAAAAADkhAAYAAAAAAAAICcEwAAAAAAAAAA5IQAGAAAAAAAAyAkBMAAAAAAAAEBOCIABAAAAAAAAckIADAAAAAAAAJATAmAAAAAAAACAnBAAAwAAAAAAAOSEABgAAAAAAAAgJwTAAAAAAAAAADkhAAYAAAAAAADICQEwAAAAAAAAQE4IgAEAAAAAAAByQgAMAAAAAAAAkBMCYAAAAAAAAICcEAADAAAAAAAA5IQAGAAAAAAAACAnBMAAAAAAAAAAOSEABgAAAAAAAMgJATAAAAAAAABATgiAAQAAAAAAAHJCAAwAAAAAAACQEwJgAAAAAAAAgJwQAAMAAAAAAADkhAAYAAAAAAAAICcEwAAAAAAAAAA5IQAGAAAAAAAAyAkBMAAAAAAAAEBOCIABAAAAAAAAckIADAAAAAAAAJATAmAAAAAAAACAnBAAAwAAAAAAAOSEABgAAAAAAAAgJwTAAAAAAAAAADkhAAYAAAAAAADICQEwAAAAAAAAQE4IgAEAAAAAAAByQgAMAAAAAAAAkBMCYAAAAAAAAICcEAADAAAAAAAA5IQAGAAAAAAAACAnBMAAAAAAAAAAOSEABgAAAAAAAMgJATAAAAAAAABATgiAAQAAAAAAAHJCAAwAAAAAAACQEwJgAAAAAAAAgJwQAAMAAAAAAADkhAAYAAAAAAAAICcEwAAAAAAAAAA5IQAGAAAAAAAAyAkBMAAAAAAAAEBOCIABAAAAAAAAckIADAAAAAAAAJATAmAAAAAAAACAnBAAAwAAAAAAAOSEABgAAAAAAAAgJwTAAAAAAAAAADkhAAYAAAAAAADICQEwAAAAAAAAQE4IgAEAAAAAAAByQgAMAAAAAAAAkBMCYAAAAAAAAICcEAADAAAAAAAA5IQAGAAAAAAAACAnBMAAAAAAAAAAOSEABgAAAAAAAMgJATAAAAAAAABATgiAAQAAAAAAAHJCAAwAAAAAAACQEwJgAAAAAAAAgJwQAAMAAAAAAADkhAAYAAAAAAAAICcEwAAAAAAAAAA5IQAGAAAAAAAAyAkBMAAAAAAAAEBOCIABAAAAAAAAckIADAAAAAAAAJATAmAAAAAAAACAnBAAAwAAAAAAAOSEABgAAAAAAAAgJwTAAAAAAAAAADkhAAYAAAAAAADICQEwAAAAAAAAQE4IgAEAAAAAAAByQgAMAAAAAAAAkBMCYAAAAAAAAICcEAADAAAAAAAA5IQAGAAAAAAAACAnBMAAAAAAAAAAOSEABgAAAAAAAMgJATAAAAAAAABATgiAAQAAAAAAAHJCAAwAAAAAAACQEwJgAAAAAAAAgJwQAAMAAAAAAADkhAAYAAAAAAAAICcEwAAAAAAAAAA5UTR/5Y7G1AYAAAAYMLILGkX/aAIAAJAYAQwAAAAAAACQEwJgAAAAAAAAgJwQAAMAAAAAAADkhAAYAAAAAAAAICcEwAAAAAAAAAA5IQAGAAAAAAAAyAkBMAAAAAAAAEBOCIABAAAAAAAAckIADAAAAAAAAJATAmAAAAAAAACAnBAAAwAAAAAAAOSEABgAAAAAAAAgJwTAAAAAAAAAADkhAAYAAGCXtOSBu+OWi3+dKvLq5r/8qvm5BgAA2FUIgAEAANjlLLz52vjaG18Yv/jE/8TlP/xy6iVvsuf2l598Z/NznT3nAAAAu4Ki+St3NKY2AAAAPai+vj62rl8TRSXFMXz0+CgqKkpb6E13X3tx/PhDb4yGpufjn45/6evj5R/4YhQXu096IMkuaLT0KmpoaIjfffEDceMfLkg9EcUlJXHu538UB59yRuoBAADIJwEwAABAD6vaujn+/O3PxJ1X/DGqtm1p7ssC4ONeck6c9ob3RElZWXMfPa+l8PefDjr5BfH6z3w/yioqUg/9XUsBcG11dVzw0bfEPX+9JPX8ixAYAADYFQiAAQAAetCOLZviS687LVYueST1/Ke9jzwxzvvm76K0tDT10FMW3nxNfPddr24x/P2nfY56VvzPd/6QKvq7lgLgb5730njw1utS9UxZCPy2r/869j3mlNQDAACQL+a2AgAA6EEXf/fzrYa/mYduuz5u/tPPU0VPWbJgfvzw/a9vM/zNHHXGK1OLgerIF7witVqWHQM/fP/rmo8JAACAPDICGAAAGJBWLV0cN174r/U9O2Ofo06KeUefnKqe8Z4TZ8f2TRtS1bJZBx4e77/gilTR3TY8/VR87tUnx9aNa1NPy178rk/GqWe/PVUMBC2NAM5c9bNvxp+/8clUtWzYqHHxoV9fF2MmTUk9AAAA+SAABgAABqSHbr8hvvHWF6eqc57/5vPj9Ld8IFXdr6ZqR7zjqGmpat3oiVPi81cuSBXdqbqqKr78+tNi+cNt79/jzjonXvWRr6aKgaK1ADjzq8+8J/5+Uduj66ftuV/zzRcVlZWpBwAAYOAzBTQAAEAPKRtU2fQYlKrWDRk5JrXobhd+5cPthr8z9j0kXn7+F1JFXmTP6e77HJSqlmXHxoVf/UiqAAAA8kEADAAA0EOKiopi32NOTVXr9ju2/e+h4+674cr4+59+kaqWDR05Jt74xQuipKws9ZAXpeXl8eYv/TSGjBiVelqWjRK+/8arUgUAADDwCYABAAB60Ive8bGoHDYiVc80buruccpr3paq/GpoaIgNq56Ox+69I+684o/x5KL705aeUbV9a/zms+9NVevO+fS3d4k1YHt7//cXoydPjdd+4lupat2vm46V7JgBAADIA2sAAwAAA9JAWAP4n5569IH42cff8YypiPc8/Pg455PfjlETJqee/Lj0+1+MdSuejA0rl8f6psfG1U9HQ3192hrxkvd+Jk5+9VtT1f0u/OpH46+/+l6qWnbk6S+Pcz71nVTlS1/v/97S1hrA/+4nH35T3HnlRalq2SmvPS/OevenUgUAADBwCYABAIABaeeObbFm2ZJUtez/3vTCqNq6OVXP1FsB8D8tf2RhrFq6OIqLi2PqnHkxYfrMtCV/3nrwuOZRp63pyQBy3dPL4n/PODTq6+pSzzMNHzMhPnHRLe1ODzxQ9eX+702FBsDbNqyLj591dGzbuC71PFNJaWl8+pL5MWbStNQDAAAwMJkCGgAAGJAGDR4au+25X5uP4pKS9N39w7S5+8ahz35RHHzKGbkOf/valT/5Wpvhb+aMt384t+EvzzR09Nh4wVs/mKqWZcfMVRd8PVUAAAADlwAYAACA3Ni8dmXcdulvU9WyCbvPiiNPf0Wq2FUc88JXx9gp01PVslsv+U1sXr86VQAAAAOTABgAAIDcuPni30R9bW2qWvaCt34oSvrZ6HB6XklZWTz/ze9PVcvqamritkt/nyoAAICBSQAMAACwC6iuqmpef/iJB++Jxffc3rwe8fqVK5rXUs6LxsbGuPXPv0pVy7K1fw846fmp6j27wv7vDlkAu2HV07FqyaPN+6eunam8O+qQU8+MISNHp6plt/z5l6kFAAAwMBXNX7mjMbUBAABy5T0nzo7tmzak6pme/+bz4/S3fCBVnVddtT0W3XZDqjpnvxOeG8XF3XePbs3OnbHw5mvivusvjyX33Rnrnl6WtjzTsFHjYtZBR8Scg46MfY89NcZNm5G2tG/h36+O+tpnhnTff9/ZzYFsa44641Wx/3HPTlXLxk3fI6bM3CtV7XvywXvjc68+OVUte/Y5/xNnvvPjqeo5u9L+v+9vl6dW2+YeekxUDhuRqn/ZsW1L3Hbxb+Kuq/4Uyx6+v8X1m2cecFi8/4IroqioKPX8Q/YT/mdP+/7wlY/Gdb/+Xqpa9rHf3xhT58xLFQAAwMAiAAYAAHKrtwLgNcuWxMfOODRVnfOt21ZE+aBBqeq8hoaGuOH3P44rf/L12NLJtUz3OfrkOPHlb4h9jzk19bTuXcfOiKptW1LVvc56z6fjlNe8LVXtu/T7X4zLfvClVLXs4xfdEpP32DNV3W9X3P9vPnBMarXtDZ/9QRx22lmp+ocswP7lp98Tm9euSj2t+8G961PrXzoTAC97eEF89hUnpqplLzjvw/G8c9+bKgAAgIHFFNAAAAA5sW3Duvjquc+P33/pQ50OHzMP3vLX+PY7XhFffeMLYuWSR1Jv7xu/2x6pVZhFd7Q9Cnvk+Ek9Gv7u6vu/PY/ec2tq/cPNf/pFfOedryoo/O1O0+bu2zzqui0P3961Ef0AAAB9SQAMAACQA1Xbt8b/vflFsfjeO1JP1z06/5b42f+el6reN74DUyHX19fH8ocXpqplex52XGp1v119/xfisXtuS62Ih267Pn792fe2OU31v9uvnemqOyKbRnruYcekqmVPPnR/82huAACAgUgADAAAkAN//L//jRWLH0pV9ygpK4vX/O/XU9W7spBu7JTdU9W+1U8+FjU7q1LVsj3269o03W3Z1fd/IVY98Whs3bg2qrZubg62OxKwTpm1d2p1j5n7H5ZaLcvW9V699LFUAQAADCwCYAAAgAFuw9NPxS1//mWqWldSWto8BfKsAw+PaXvuF6MmTE5bWva8N70/ps6Zl6reNWrilCirqEhV+9Y8uSS1WtfdUxr/k/1fuMfuuT0u/9FXYvO6jk2RPXbq9NTqHhN2m5larVuz/InUAgAAGFiK5q/cUdh8SwAAAAPMe06cHds3bUjVMz3/zefH6W/5QKo6LxvReMvFv0nVMz2xcH7Mv+YvqWrZt25bEeWDBqWqY6791ffij1/9aKpadvKr3xqnv/WDMWjw0NTzD9ua9s/ie2+Pu/96cdx73aVRW13d3L/7PgfG+392VZSWljbXrbnqgq9Hbc0//sy/u+wHX0qtlu195Emxx36HpOqZsgDymBe+OlXt+9tvf9i89m5bPnfFfTFm0rRUdZ9dff8/cMtfUyviqUceiD9/69OpeqbDT3tJ3Pu3y6Nm547UU5j3/PAvMffQY1P1L9kFjaJ/NDtk7Yon46PPPyhVLXv5B78YJ77s3FQBAAAMHAJgAAAgt3orAG7PzX/6Rfzy0+9OVcu6EgD/9GNvi9sv+32qnmn0xCnx+SsXpKp1O7Zsimt+8Z246aKfxft/cllM2mNu2tJxbz14XJtT/L7kvZ9pDkW7y5+/+am46qffSFXLvnPX6nYD1c6w///lodtviG+89cWpKlw2OvuI5700LvneF1LPf2otvO9sAFxfWxtvO2xiqlr2nNe/K170jo+lCgAAYOAwBTQAAMAAV7VtS2q1LAsC6+rqUtW6wcNHxgvf/pH44lUPdCl87As7d2xPrZaVlpf3SPibsf+75gXnfTg+ftFtzVNeZ1Nk/7ds6uxRE6akqntk6ytnf29bqts5pgAAAPorATAAAMAAVzF4SGq1bNOalfGj818X61euSD1t64m1X3tazc6q1GpZRWXb+6gr7P/OO+dT34nnnfveNsP5MZN3i+Li7r98UfFf03H/t9rqnakFAAAwsAiAAQAABriJM+akVuvuu/6K+OjpB8b333dO3HPdpVFT1bE1WPu7hvq2R9iWlJanVvez/zsnm2L5yNNfnqrWjZ2ye2p1r9J2jon6utrUAgAAGFgEwAAAAAPcfseemlpta6ivj3uvuzR+8L5z4r0nzYnvvOtVzesTb924Nn3HwFVW3vao2Z3bt6ZW97P/O27yzL3iBW/5YKraNm7q9NTqXjt3tH1MlLZzTAEAAPRXAmAAAIABbtrcfWO/45+TqsJkUyYvuPGq+OWn3x3nn7x3fPXc0+PWS34TtdXV6TsGlrJBlanVspqdO6K+vj5V3cv+77gXv/sTzevw/rdjzzo7nvuG9/zH4+BTX5i2dp/sWGhv2vDyiraPKQAAgP5KAAwAAJADr/vUdwqairglDQ0N8ejdt8bPP/6O+OBz94trfv7tHgtLe8rgYSNSq3U7t21Jre63q+//jpi2534x7+iTU/WfTnrFm+KFb//IfzzmHnJM2tp9qrZuTq3WDR7e/jEFAADQHwmAAQAAcmDw8JHxru9dFHMOOTr1dM62jevioq9/PL509rNjw6qnU2//N2rC5NRq3Y4tm1Kr++3q+78jjjrjlanVdwoJgEdNnJJaAAAAA4sAGAAAICeyEPQ9P7w4XvGhL8XoLoZXSx+8N7719pcWFJT1B6MnTk2t1q14/OHU6hm78v7viD0POza1+s6KxYtSq3WFHFMAAAD9kQAYAAAgR4qKiuKEl74hPn3pPXHuF34c+5/w3CgbNCht7ZinH18Uv//KR1LVv03aY25qte6pRxamVs/ZVfd/RxT3g0sRyx9t/1iYvEfnpvQGAADoawJgAACAHCotLY1Dn/2ieNvXfhVf/duj8dav/iKOOfO1MWLshPQdhbnj8j/Etg3rUtV/ZaNvh49p+2d76tEHU6vn7Wr7f6B56pG2j4WR4yfFiHGTUgUAADCwCIABAAByrqJySBxw0vPiNR/7Wnzxmgfj/T+5PI56wSujpKwsfUfrGurr45G7b0lV/zZj34NSq2VPPHB3avWuXWX/DyRLH7wntVo2Y97BqQUAADDwCIABAIDcKiuvSC3+KZuieNZBR8TZn/xWfPzCW2Ls5N3SltatXf5EahWuuLQ0tVrW2NCQWt1nn6NPTq2WbVqzMpY9dF+q+kae9/9Aka2vnB0LbZl3TNvHEgAAQH8mAAYAAHKrcujw1GrZji2bUisf6uvrU6swE6bPjNPf+qFUta66akdqFW7wsFGp1bItG9akVvfZ79hTU6t1d179p9Tqfrv6/h8o5hdwDMw79pTUAgAAGHgEwAAAQG4NHzM+tVq2ZMH81Br4aqur4+tveVH8/OPviKqtm1Nv+4aPbXsfZdoL0lsybPTY1GrZAzdfF42NjanqHtk6wLMPOjJVLbvt0t8376vuZv8PDNnzlB0DbdnzsONi5NiJqQIAABh4BMAAAEBuTd97/9RqWbYO6B+/9r+xc8e21PMPWzeuj1su/nWsWro49fRvWZD304+9NR6df0vceslv4mNnHB5X/eybz/i5/ltDQ0Pc9Mefpap1k/aYnVqFm773AanVsqcfXxS//ux7nxGWZj9LNkXvb7/wgfjRB89NvYU79syzU6tl2zaui1sv/W2quof9P3DccvGvYtum9alq2bEvbvsYAgAA6O+K5q/csevd8gsAAOwS7r/xqvjuu16VqtaVDxrcPB1vWUVFbFi1IjavXdUchJ3ymrfFWe/5dPqu1t13/RVxzS++lapn2rJ+bbvruM7c/9BsgdhU/adXffgrMWX2Pql6pj98+SNx3W++n6p/qagcEnsdcXzsfdSzYvy0GTF89NgoLimNLRvXxZMP3Bu3X/6HWPHYg+m7W5b9HV+89sGoHDIs9RTm9sv+0ByKtqe0vDwmz9wrBg0ZGju3b4s1y5Y0fd2atkZ84JfXxB7zDk5V+7IRnh9+3oFN+3x16nmm0ZOmxqf+fGfz890ddvX9/6MPvCG1sqml1zYH4W2Zd8wpMWjwkFT9w8QZc+L0t3wgVYXLLmi0/Kp5ppqdO+N/X3RobFz1dOp5phHjJsbnLru3eb8AAAAMVAJgAAAgt+pra+ODz9mv0+udZmHQF65aGMXFbU+edOOFP43ffO59qep+7//J5THroCNS9Z+u+fm346KvfzxV3e/Z5/xPnPnOjv/91VVV8eHnHdA84rYr9jz8+Hj39zu2bu+1v/pe/PGrH01Vy1749o/Gc9/w7lR1nv0f8eYDx6RW58084LA4/6dXpqpwHQmAL//hl+OS730hVS176fs+G8961VtSBQAAMDCZAhoAAMitkrKyOOmVb0pVx2UjgR++48ZU9T9PPnhvj4aPU+fMi+e/ueOjMjMVlZXx7LPfkarOy/b/I3f9PVWFOe7F58SIsRNS1bIrfvx/se7pZanqHPt/4MhG4F/102+kqmXZDR/HtDOFOAAAwEAgAAYAAHLt1Ne+vc3pk9tzxxUXplb/M32fA+NNX7oghowYlXq6z7S5+8a7vv/HKB80KPV03MmveVvsdcQJqeq8v3z7M6lVmCz8PPOdn0hVy2p27oiff/ztzVN9d5b9PzBkay3/7OPnNT3nVamnZWe965PNxw4AAMBAJwAGAAByLRsF/Pav/6Z5jd/OuPe6y6Kmakeq+p+DTzkjPvb7m+KoF7yy+Wftqmy66xNf/sY4/2dXxbBR41Jv52R/15u/dEHsc/TJqadzyiuHxI5tW1JVmCOe/9KYfdCRqWpZtlbt1T/7Zqo6x/7v/6664Oux+N47UtWyOQcfFYeddlaqAAAABjZrAAMAALuErRvXxl++9dm49eJfN48ILMSsAw+P41/yhjjolDOitLQ09T5TX64B/O82rHo6rvv1d+P2yy/s8NqvlUOHx6HPOTOe9Yo3x8Q95qTe7pHt7+t/+8O49pffiY2rn069bcvC1P2Oe06c8NLXx56HHZd6O2btiifjMy87PnZu35p6nqm4pCTe84OLY/bBbYfFhdhV939/XgP40btvja+96Yw2X/ODhgyLj/3hphg7ebfUAwAAMLAJgAEAgF1KFgouvOnqeOSum2Pj6hWxbdP6aGxoiEFDhsfQkaNi8sy9Yre99495R50UI8ZNSn9qYKmvr48lC+bHEwvuiqcefSDWr1wWWzesi5rqqqaftTHKyiti6KixMWbS1ObpsbPwbdb+h3fLCNa21NfWxkN3XB+L77k9lj50X2zftCG2b9kYxUXFMXjEqOaplKfO3jv22P+wmHPw0U3Px+j0Jzvv9sv+ED/92FtT1bLhYybEB395bdP+mJJ6usb+7z1tBcDrV66IL7z65NiyYU3qadnrPv295hHjAAAAeSEABgAAINd++/nz44Y//CRVLZu2535x/gWXR3nl4NTDQNBaAFxdtT2+/LrnxfJHFqaelp3wsnPjFR/8YqoAAADywRrAAAAA5NpL3v+5mHvosalq2fKHF8QPP/CG5tG7DGzZc/ij889tN/zNjomXvO+zqQIAAMgPATAAAAC5lq3f/Nav/rx5uuW2LPz7NfGbz743VQxUv/7Me2LhzdekqmVT58xrPibaWtsbAABgoBIAAwAAkHuVw0bEO7/z+xg7ZXrqadnE3WenFgPVpBlzUqtl2THwP9/+XfMxAQAAkEcCYAAAAHYJI8ZNivf+8JIWQ+CS0tJ43ae/F6e89rzUw0CVPYfZc5k9p/8te+7f86NLm48FAACAvBIAAwAAsMsYPXlqcwA4frc9Uk9E+aDBcd7XfxNHPP+lqYeBLnsus+c0e27/KXvOs+d+zKQpqQcAACCfiuav3NGY2gAAALBL2LpxbXzr7S+P9Sufird/67cxY5+D0hYGkuyCRtE/mi1a8sDd8Z13vCLGTJ4W7/j272LYqHFpCwAAQH4JgAEAANgl7dyxLbZsWBfjp+6eehho2guAM2ueWhrDR4+NQYOHph4AAIB8EwADAAAAA1IhATAAAMCuxhrAAAAAAAAAADkhAAYAAAAAAADICQEwAAAAAAAAQE4IgAEAAAAAAAByQgAMAAAAAAAAkBMCYAAAAAAAAICcEAADAAAAAAAA5IQAGAAAAAAAACAnBMAAAAAAAAAAOSEABgAAAAAAAMgJATAAAAAAAABATgiAAQAAAAAAAHJCAAwAAAAAAACQEwJgAAAAAAAAgJwQAAMAAAAAAADkhAAYAAAAAAAAICeK5q/c0ZjaAAAAkCtbN2+KE/ecnKqIocNHxA2PrEwVAAAA5I8RwAAAAAAAAAA5IQAGAAAAAAAAyAkBMAAAAAAAAEBOCIABAAAAAAAAckIADAAAAAAAAJATAmAAAAAAAACAnBAAAwAAAAAAAOSEABgAAAAAAAAgJwTAAAAAAAAAADkhAAYAAAAAAADICQEwAAAAAAAAQE4IgAEAAAAAAAByQgAMAAAAAAAAkBMCYAAAAAAAAICcEAADAAAAAAAA5IQAGAAAAAAAACAnBMAAAAAAAAAAOSEABgAAAAAAAMgJATAAAAAAAABATgiAAQAAAAAAAHJCAAwAAAAAAACQEwJgAAAAAAAAgJwQAAMAAAAAAADkhAAYAAAAAAAAICcEwAAAAAAAAAA5IQAGAAAAAAAAyAkBMAAAAAAAAEBOCIABAAAAAAAAckIADAAAAAAAAJATAmAAAAAAAACAnBAAAwAAAAAAAOSEABgAAAAAAAAgJwTAAAAAAAAAADkhAAYAAAAAAADICQEwAAAAAAAAQE4IgAEAAAAAAAByQgAMAAAAAAAAkBMCYAAAAAAAAICcEAADAAAAAAAA5IQAGAAAAAAAACAnBMAAAAAAAAAAOSEABgAAAAAAAMgJATAAAAAAAABATgiAAQAAAAAAAHJCAAwAAAAAAACQEwJgAAAAAAAAgJwQAAMAAAAAAADkhAAYAAAAAAAAICcEwAAAAAAAAAA5IQAGAAAAAAAAyAkBMAAAAAAAAEBOCIABAAAAAAAAckIADAAAAAAAAJATAmAAAAAAAACAnBAAAwAAAAAAAOSEABgAAAAAAAAgJwTAAAAAAAAAADkhAAYAAAAAAADICQEwAAAAAAAAQE4IgAEAAAAAAAByQgAMAAAAAAAAkBMCYAAAAAAAAICcEAADAAAAAAAA5IQAGAAAAAAAACAnBMAAAAAAAAAAOSEABgAAAAAAAMgJATAAAAAAAABATgiAAQAAAAAAAHJCAAwAAAAAAACQEwJgAAAAAAAAgJwQAAMAAAAAAADkhAAYAAAAAAAAICcEwAAAAAAAAAA5IQAGAAAAAAAAyAkBMAAAAAAAAEBOCIABAAAAAAAAckIADAAAAAAAAJATAmAAAAAAAACAnBAAAwAAAAAAAOSEABgAAAAAAAAgJwTAAAAAAAAAADkhAAYAAAAAAADICQEwAAAAAAAAQE4IgAEAAAAAAAByQgAMAAAAAAAAkBMCYAAAAAAAAICcEAADAAAAAAAA5IQAGAAAAAAAACAnBMAAAAAAAAAAOSEABgAAAAAAAMgJATAAAAAAAABATgiAAQAAAAAAAHJCAAwAAAAAAACQEwJgAAAAAAAAgJwQAAMAAAAAAADkhAAYAAAAAAAAICcEwAAAAAAAAAA5IQAGAAAAAAAAyAkBMAAAAAAAAEBOCIABAAAAAAAAckIADAAAAAAAAJATAmAAAAAAAACAnBAAAwAAAAAAAOSEABgAAAAAAAAgJwTAAAAAAAAAADkhAAYAAAAAAADICQEwAAAAAAAAQE4IgAEAAAAAAAByQgAMAAAAAAAAkBMCYAAAAAAAAICcEAADAAAAAAAA5IQAGAAAAAAAACAnBMAAAAAAAAAAOSEABgAAAAAAAMgJATAAAAAAAABATgiAAQAAAAAAAHJCAAwAAAAAAACQEwJgAAAAAAAAgJwQAAMAAAAAAADkhAAYAAAAAAAAICcEwAAAAAAAAAA5IQAGAAAAAAAAyAkBMAAAAAAAAEBOCIABAAAAAAAAckIADAAAAAAAAJATAmAAAAAAAACAnBAAAwAAAAAAAOSEABgAAAAAAAAgJwTAAAAAAAAAADkhAAYAAAAAAADICQEwAAAAAAAAQE4IgAEAAAAAAAByQgAMAAAAAAAAkBMCYAAAAAAAAICcEAADAAAAAAAA5IQAGAAAAAAAACAnBMAAAAAAAAAAOSEABgAAAAAAAMgJATAAAAAAAABATgiAAQAAAAAAAHJCAAwAAAAAAACQEwJgAAAAAAAAgJwQAAMAAAAAAADkhAAYAAAAAAAAICcEwAAAAAAAAAA5IQAGAAAAAAAAyAkBMAAAAAAAAEBOCIABAAAAAAAAckIADAAAAAAAAJATAmAAAAAAAACAnBAAAwAAAAAAAORE0fyVOxpTGxgAGhsbo6G+PlXQfYqKiqK4pCRVu6bstZW9xqC7FRUXR3HTY1fl3EVPKiktTa1dU0NDQzQ2PWjd1i2b4tT9ZqQqYujwEXHtgqWpojXZeSs7f+3KvDekp+zq5y7vDekprmv8Q/Yay94fOofRnXb16xowEAmAoZ977IH7Y8WSR2L75o1R3FgflYMGpS3QM6qqa6KsojLGTJoa+xx2dJRX5POYq9qxPR6cf0usf3pF1O2siorysigt9UGRnlNbVxd1jUUxdOSomD5779htzt5pS/48/eTj8XjT+WvLxrVRVF8fgyudu+hZ2bmrpLwiRo2fGHMPPCyGjxyTtuTPg3fdFquWL4mdW7dEWWlRlJeVpy3Q/eqafofX1jfEoMHDYsJuM2LPgw6L4uJ8vl/asnF9LLrnzti45umoq94ZQwdXpi3QM2pqa6OxqCSGjhodM/baLybvPittyZ+ljzwUTz76YGzftCG7s8J7Q3rczuy9YfN1jSmxz6FHRcWgwWlLvlRX7YiH770rnl66OBpqq6OkuCgGVVSkrdD96urrmt4bRlQOHR5TZs6O2fsenLYA/ZEAGPqpu/52VaxZtiSGDPbBiL7VWFIe+x51UoydNDn1DGyrn3oy7rnpr1EW9VG6i995T9+qqauLcdNmxf5HHRfFJfk4Fhfc9vdY/ujCGOKiHn2strEo9jrkqJg6c27qGdh2bNsa82+8OnasXxuDBrmoR9/JAuFBw0fFoSedFhWV+biYvuyxR+KBO26MweXeF9K3sveGU2bvE/scenTqGfjubvrctXLJI26ooM/VF5fGvCOPjwlTpqeegS274faBO2+O4tpq1zXoU7V19TFs7IQ4+PhnR5mbD6DfEQBDP7JzZ1Xccc2lsXPzhqioMJqD/qWmvjH2PvzYmLrHnNQzsCxZtCAW3XVLDHHhnH6mrq4uhoweH4ec9NwoKx+Yx+dtV18WG1ctM5qDfqemtj52n3dgzNn/kNQzsGxYszLuvO6qKG2sdXGPfqehpCwOOu7UGDluQuoZWBbdc0csWXi3m5bod7KL6aMmTYsDj31WlJSWpd6B5ebL/xTb1q920xL9Tk3T62vuQUfG9D3npZ6BZcXSxXHfjdc4d9EvFVcMicNPfl5UDBmaeoC+JgCGfuKuG66O9cuXmKqFfq+xpCyOeu6ZUTF4SOrp3zZvWB+3XPGnGFxuemf6t7q6+pg8e6/Y+9BjUk//9/B982PJ/XcKfun36hoa48ATnhtjJg6c2Sxu+Msfom7HJsEv/V7Z0JFxxCmnR0nZwAiq1q56Ku685rIYMsgNt/Rv2fIhu+978ICaXvO+W66PlUsWRWVOlxEiP+qjOA4/9fQYOoCWDbnuol9HSX11qqB/amhoiOHjp8RBJ5ya22VDYCARAEMf27F1W/ztT7+MoZWCXwaO+vqG2GP/w2LG3vulnv5p4V23xMpHF1ofkQGloagkjn3By6Ksn184u/p3P42KYm8jGVhGTdk99j/6pFT1T6uWPxn3/O1yN1YwoGQ3MR1wwnNi7ORpqad/uuvGa2PziqVRWuqCJANHUfmgOOZ5L42Ssv57Q1C2DulfL/pFDCn3uYuBIwuqpszZN+YedHjq6Z+yNbQfuv36pveGplJn4Khren0dedpLYsjwEakH6AsCYOhDTz3xWDzw97+aFokBq3LkuOa7Zvuj6/706yipc3csA1N2If3Ak06LMROnpJ7+Y8umjfH3i39r2jEGrOKyijj69Jf2y2k177/jplj7+MNG/TJgTZy5d+x58BGp6l+u/M2Po7K0OFUwsNTVN8RRz39JDB7W/y6kr16xPO6+7tIYPMh7Qwam8iEj4qjnvThV/cut11waNZvWpgoGluwmi5kHHhnT5+6TeoDeJgCGPrJs8aPx8G1/i3Jr/TLAlVQOiWNPf1mq+ocrf/uTqCwpShUMTNmHpb2OPDEmTZ+Zevre5vXr45bLfm9kIgNeY1FxHPvCV0ZpP5oh4r5bb4hNTy1JFQxco6fOiP2OOjFV/cPlv/xBDKkYmGupwj9lIfDBz3pejBo/KfX0vVXLl8Z9N1xpKSsGvJLyyjj69JdEcUn/uQnvtmsvi+qNa1IFA9fUufvGrP0PTRXQmwTA0AeeWvJYPHTbdZ2elrampiZqa+uiuro6Ghu9hOma0rLSKCsrazoeyzo94ij7sHTsC1+Rqr519W9/GhUlnXtd1NfXR01tbdSm1xh0RVFxUfPrqqy8LCrKO39RbM6hx8bkGbNT1Xe2bNoQN1/yu06P7qhtem398/VV1/RaK2r6DzqrpKS46bVVHuVNr6+yTo7krW86VRx/5qv7RQh87y03xOYVnQ9/d1Y3va5qa6K66fUV3hrSRWXZe8Om11dlF0bzjRg/JQ484dmp6ltX/PIHMbiT4W92vqptem3V1jSdv7w3pIuKipreG1Y0nbuazjvZ+asz6hsa4vDnnBlDR45OPX1n1VNPxv03XNHp97nN7wuzc1fTOayxwcmLrikpLW06FpveFza9vjo9zX/Te8rjXvjKfrFu6S1XXxK1m9elquOy11dN02sru24IXdL0sT07b2XXNbpys8/EWXvHngf1z1liIM8EwNDLVi9fFvdlH5I6MPI3e+O2evWaWNX0WLNuXTTU16ct0L2y6cgnTZgQE5oe48aOSb2FKRs8PI5+/lmp6hvXXfTrKKnv2AeczZs3x8rVq2PlqjWxbdu21Avdb8zo0TFx4oTm11hlB0bQZiOB9z3m1Bg3dbfU0/u2b90SN/7pVx0a+ZtdNF+7dl3TuWt1rFqzNuqazmXQE7KbmCaMH9f82ho3dmyUdOCiX2NRSRx/5qv6dLTHonvuiKcfWRAlJYX/u3dUVf3jtdX03nD9+g2pF7rfsKFDm89dE5teXyNHDE+9hRk7fWbMO/z4VPWNzoz83bBhY/N7w1VN7w13VO1IvdD9xo3Lzl3jmz97DerA9YH6hsY45oyXR0XlkNTT+9avXhV3XvPnqOxAGFBbVxurm94TNl/XaPqa3XwLPSG73padtyY2vb7GN73OOqK4vDKO6+Ob2++6/urYvnZFqgpTtXNn0+sqe22ti3Ub1jcvKQQ9YcSIEc3nruw1NmzY0NRbmOl7Hxgz5h2YKqA3CIChF9VU74y//u6Cgi+gZ6M5Fi9ZEk88sTT1QO8ZNGhQzJ09K3abNjX1tG/MlBmx79F9M+Xf3Tf9NbauWpaq9q1ZuzYWPfJobNmyNfVA75k8cWLMnTMrhg4t7ANTNtrjmBe8IioG982Fvst+9t0YOriwc1ddXV088eSyeLzp/GW0FL0tG7k4a489Yvfdp0dpgYFqX97AtOapJ2PBTVcXPANHdqPSw48tjpUrV6Ue6D0jhg+LPefO6dDF9DmHHRuTd++bWSxuuOQPTR+oCr+5b0XT6+qRpveG23cIfel92WeuObNmFXyTYENRcZzw4tf02UjFK37+3YKva2QzmD2+ZGnT+8OlUV/fkHqhd2Rh8JyZM5vfGxZq+LhJcdCJz01V73pi0QPx5MI7U9W+NWvXxdJly5oHjUBvGzNmdOzV9N5w1MiRqad9Bz3r9Bg+pmM3ZgCdJwCGXnTFr34Ug8sL+4D26OLF8fjjTzSPoIK+NGTw4Nh/33nNb+wKsc8xJ8e4yb07UnHNimWx4MarCrqAvm379rjv/gWxcdPm1AN9J7vYN2+vvQobsVhSHie8+NWp6D03XHJhxM7CbpR4asXT8eBDD0dNbU3qgb6RXezbe689Y+rkyamnbbvtc1Dssc8Bqeo9l//sO03n2cpUta6+rj4eWLQoli1/KvVA38lmtNh/v3nN7xHbk93AdOwLXxXlg9o/zrtTRy6gZ7PB3LfwATcF0i/MmrlH88X0QgwdMyEOedbzUtV7rv7dT6OiuLBLiY8/sTQee2xx1Na5KZC+ld1csd8++8T48YUFT3sefnxMnD4zVb2jatv2uPFPv2iema092Yj6RQ8/Gk8uW556oO9ko4H3nbdPQbNZZDP+H3/ma6OkrP+stw15VvKm933kE6kN9KBser+aAtbvyKZBuue++2Ppk8ubToruz6DvZet2Ll+xIgZXVsaI4e1P/bf6ySW9PqXL9Rf9qqAPSRs2bozb7rjLyA76jc1btjRPhZdNXdvuDQyN9VHX0BCjJxQWaHWH1U8vj3VLFqWqbYseeSQeWvRI1De4cYm+l72fWrVqdfMU6oUsabBh9YqYNnuf5vXjessNF/8hygu4gF69szpuvePO5hEe0B9UVVU13/CTBcHtjVYsLipqXid0tzn7pJ7ecdsVFzZPD9+e1avXxu3z746dO3emHuhb2eeVbBrySRMnRnFxceptWU3V9hg8fGQMGTEq9fS8JYsWxPa1T6eqbXffd38seWJp87kY+lo2S9GKp1c2zxZTyGjF1U8tjel77turo+yv++MvY1B5++9FtzR9hrzltjstA0K/kQ20WLlyZYxt+txV0c7SAE1vDWPjutUxeUbfzBADu5q2300C3WbJwvmp1bpsaqRbb78zVq5anXqg/7hvwcJ4+JHHUtW64qY3c4/df1eqet6C22+OoUPaH1Xy1NNPN31IuqM50Ib+ZMvWrXHTrbfG1m3tjzxa9uB9Ud+Lx/D8v16RWm2bf8+9sfjxJ1IF/cfix5fE3ffel6rWlRQXx71/vzpVPW/Lpo1Rt31Tqlq3deu25t8P2e8J6E+y91M333Z788X09tRu3xpb1vfe1JS3XHVx842L7VmydGnceffd0WDGJfqZdevXx9+bfvdX7axKPa178LYbUqt3PHznzanVumy0b3Zd4+kCfj9Ab8tmK3rgwYdS1bqSoqJ45O7bU9XzVi5fEoNKi1LVuuwmkez15cYl+ptsHepbbr0j1jadw9qzdd2qqNpmVj7oDQJg6AW3X3t5DCngIsSd8++JTZudAOm/Hnv88eZ1Pduz7OEF0VDfO9N8PfXI/anVuuzO2Hvv+3/t3Qd4HMX5+PFX5dSbLVsukmy5yb1XbMAQTIlDTUIIIckvQEJIAUILxaH3HkgCgYQSQhJK6MR0HGOaO+5V7rJsSVbvp/K/WQ9/IJJu93S3p9vV9/M893jelVwwO97ZeWfeWasjIPI0NDTKZ0tXSmNTo77SsejoKNm88lMd2atgw1pJTjDfPaWqVrBwCZFsf9EBYxGTmbqyUqmpKNeRvT5+8yXTXf9qYeCny5Yb/z4AkUo9A6xM9K1e/I5u2avZ2yQ1pea7E/cXHTSSAECkqqmplaXLV0lzs/8FClHSJrs2mC90CoWVHy2ydO7vylWfy6EydiYicu3cvUc2bzVf3H5g11ZpNnk/C5WVH5gvRFS7LJctX0lJdUSs5pZmWb5ipaXFq6s/fE+3ANiJBDAQBqWF5rui1ORJeYX5ThCgu23cvFWKi0t01DG1Wnbb5/bvAl666G3THR7qJWn5ylU6AiJXQ2OD72XJ/F49sGtbWBZYbFj6oW51Ti0IsbL7C+hue/cVGucQmln36SLdss+hkgMS12ZeDlOVpW1sJPmLyLdi1edSW+v/eI225iapKLb/ebFk4csSH+e/9GCF751r5erVOgIiV3V1taV7dceG8LzrFG4xX0y1YeMmKSnlyAJEvm3bC0zfY9QxBpvDsAt41+aNkpLo/9nV5PXK0mUkfxH5WlpajYUKZovbm2oqpaGWKkeA3UgAAzZbtuhtSUlK0lHHig4cYAIdjrJqzVrfi4f/MrT7tpmXVQpWUYH5zo2Vq9fwkgTHKK+oNC21HhMdJdvXrdSRPXZt2yxpKf6fXapktVoQAjjFxk2bTZNUjdUV4rVQcjMYy95bKDGx/s+TU2dqV/r+PQCcoNnrldVrzCuyrP3E/lK19eXmiacVFsrCA5FCnf++a/ceHXVMTezt27bpcGCTNZ8ukbTUFB11TFVd2rFrt46AyLd23XrTJNXB3eY7hYO1xkIpd7W4oq7e/zgWiBSqHPS69eZzgp9/bP/iW6CnIwEM2Ozg7gLd6tyGTZQfg7Ooc9+2bt2uo46pJFVlyQEdhd6+nQWSkZaqo46pHV9VVVU6ApxBlVqvr/efgNq3fYtu2WPLqqW61bl16+2daATssG6j+UTE7q0bdMsmXv9nttX5+j9nasNp1AKmfYWFOupYa1O9bwzZpKPQW7/8U0lK8l8ZZlvBDt8zlnMT4SyqVK3Z4tsdNpeB3rvN/Nm4zsK5qkAkaW5pkU2bzBbfRlua1+sqb1OjJHn8LwysrKzyPWPNjzcAIok6JkotDPKnrtx/dUEAwSMBDNiovrZGkuL9n5+oys4wCQEnUqu7zXZSbbGxDPSW1f5LMamXObOdlECkMlsYFN3aLPU19i1uaG3037cPqJc5znaDA5WUlMqBg8U66lihjbuoNn++QhIT/J+fqHZ4AE60actWY/zlT+E2+xa+7tm6Xrc6pnZ5bfe9ewFOY2XxrVpgYedZpfExUbrVsZ2+d8PqmhodAc6xt3CfVJosGt++3r4FFp9/vFg8cf7nDdeyuAIOZbYwSJVZP1S0V0cA7EACGLDRxlVLJSbG/0q+HRbOowMiVcEu//dvTZl9q/kaqv2fmb1/f5FxpirgRGq1bEOD//v3wC57JrH37twmiQn+z6Ay6/tAJNthcv+2tXhtm0TfY7KDSu3+NUtQA5GqoaHRGH/5U1hg3wKH6Db/R37s2r3XNEENRCq1+Lal2f/9W1JoT/nlDcs/FY/Hf4KqYCeVK+BcBTv837/qrFK7lOzzPy4tKy83zq4HnEgtDCou8T8vuHPTWt0CYAcSwICNivf4H0SqUhhNXv+lnIBIdvCA/0nq6CiRhppqHYWOt7FJkhP9l/hTZ2sDTra/yP89XLjTnh3uOzf6fwFramqSsrJyHQHOY4y/mvyPvypK/CexuspbW6tbHSsy6fdApDtw8KBudaypzn8f6KqykmJJiPO/eElVrwCczGwSfV/BVt0KrcId/o8eUeVpqWoGJysu9t+3oqJEqssP6Si0YqNbdatjzGvA6Q6YzBtWHWLxK2AnEsCAjVqb/e8eKSrmIQdnUztsy8r9r0atrQp9oqiyzP/Ll1odX1xSqiPAmYpMJ9HtKbNXXe6/76jdyYDTmU2mHdy7R7dCKznJf/lns34PRLqDxSV+dymqSfTGBv/HDHRFebH/RRtqd31VdegXJQLhVGQyiV5bac/xHE31/hduULkCTudtbjZdYFFZGvoxWmNjo8R54nTUMd694HT7D/p/74pua5PWViq0AHYhAQzYKN5kIFdhkjgDnKCi0v99XGlDGei6Wv8lmCoq7SvRBISL2S5btcPeDm3N/kto0r/gBmZnvVVXhH6XR7O3Sbc6V87YEC5g1r+8DfW6FTrV1f6fTeXlVK6A85WbvHdJi/8xXFfFxvifOqQ8LdygosL/c8SOeQ1vo//nYUNjE7vr4XjeJq/U1fm/172N9p1hD/R0JIABm7S1tUlsrP/zf83OdwScoL7B/0CtxoYJgUaT8oH1nP0Ll1Dllv3xWkgoBcpj9uxiEgIuYHYfm+126opmr/+J+UaT5yngFPUm7zgNNaHvX40mv2ZDPf0LzldXZ757vq3VfznZrkiI919e3azPA05gdh/X21BFoskk6cWcIdxCVQ/0p7mJcRpgFxLAQDfiRQluYPZS4rVhINfc4n9igxcluIXZiu+2ltCXSoqO9j885NkFNzC7j1tNdsJ3RVubybOLxUtwCbNxWJM39Pd6S6v/PsuzC25htjjQ7Fljh3p2bsEFumNeo7W1Tbc61mBDxQygO5jNa3i9Xt0CEGokgIFuwiQE3MJsF5WVkpeBajVZ2d7ALiq4hNm9bMdZObEx/ncAM8kHNzBdKGTDBLqqDuNPHWNDuITZc6LZJIHVFWYLolhgAbcwXRxoklAKtWZf32tm4h4u0GDy7GppDv19brZjn8pLcAuzxQwtPEcA25AABrpJiw27toDu0Gxy1lSryW7drjA7+pT+Bbfwmkw02FHmzwyTfHCDpm64j03yvzy74Bpmz4lWO+51k8FhSzP9C+7QbFKhItw7gFtMjjcAnMJsB2KbDQtvzbTYMJcCdAevyTjMjoXtAA4jAQwAAAAAAAAAAAAALkECGAAAAAAAAAAAAABcggQwAAAAAAAAAAAAALgECWAAAAAAAAAAAAAAcAkSwAAAAAAAAAAAAADgEiSAAQAAAAAAAAAAAMAlSAADAAAAAAAAAAAAgEuQAAYAAAAAAAAAAAAAlyABDAAAAAAAAAAAAAAuQQIYAAAAAAAAAAAAAFyCBDAAAAAAAAAAAAAAuAQJYAAAAAAAAAAAAABwCRLAAAAAAAAAAAAAAOASJIABAAAAAAAAAAAAwCVIAAMAAAAAAAAAAACAS5AABgAAAAAAAAAAAACXIAEMAAAAAAAAAAAAAC5BAhgAAAAAAAAAAAAAXIIEMAAAAAAAAAAAAAC4BAlgAAAAAAAAAAAAAHAJEsAAAAAAAAAAAAAA4BIkgAEAAAAAAAAAAADAJUgAAwAAAAAAAAAAAIBLkAAGAAAAAAAAAAAAAJcgAQwAAAAAAAAAAAAALkECGAAAAAAAAAAAAABcggQwAAAAAAAAAAAAALgECWAAAAAAAAAAAAAAcAkSwAAAAAAAAAAAAADgEiSAAQAAAAAAAAAAAMAlSAADAAAAAAAAAAAAgEuQAAYAAAAAAAAAAAAAl4haUVTXptsAQqitrU0Wv/Ckjtqrqa2VRYuX6Mj5xk+dqVt+tLXKulXLddC5WE+sjJ4wVUeh4W1qktraKqmtrpa6mhppqK/TXwmtYaPGSlJyio46V7Blg/HncIO0tFSZe+QcHbUXn5IhR8z/to5CY+PKpVJcsEFH7a1Zt1727N2nI3cLZd/rbj2x/5iZPHGC5GQP1FF7M+d/VxJT0nQUGouee1yioqJ01N7rC9/SLefjnjusf3au9O3f+X32hQOFe6XkwH4dOd8p80/SrY4d873zdCs01Bhk+Zsv6Ki9ffv3y+rP1+rI2ehbX0pJTZch+aN01LmaqkrZuW2zjpwtNydbJk0Yr6P28sZNlbwxE3UUGh+/9Yp4q8p01N7SZSukuLRUR+7G2NDdZs+cIZmZvXXU3pGnnyOxcfE6Co3/Pv+EbrXX2NAo73ywSEfu0NPvu57635+YmCDzjj1GR+3F+PrVUb7+FUolRftlw5LO360KCnbKxi1bdBRZ3PSsiXRuGEuOGD5MRuWP0FF7Y+fMk77Zg3QEIJRIAAM26WkJ4PuefF63OtdQXy8Lfvl/OupcalqG3PjgYzqyR2Njg+zevkW2b94kO7ZslD07t0tLc7P+atf94qobZLjvhcnM/TdeLYW7d+jI2UgAd69Q9r3u1hP7jxkSwPbinjvshNPOlBNPP1NHnXv12aflw7ff0JHzkQC2D33rS8NGjpFfXn2jjjq3YfVKeeKhu3TkbCSAuxdjQ3cjAWy/nn7f9dT/fhLAgXHTsybSuWEsSQIY6D6UgAYQEs1e8+Rpc7NXt7pffHyC5I+dKPO/83359bU3yw0PPConffssI/kcDKtJ5JYI+ruAszmt7/lD/0G4cc8dxt8DQo176kvNLdb+Lppb6F8IDcaGQHB6+n1Hv4MVbnrWRDrGkgCCQQIYQEi0WBhotFoctHSH5JRUOf6U78iCe/8kZ557gSSndm1HndUBbksE/13AWZze976K/oNw4547zOpkgdUJQYC+9aUWr7W/i1b6F0KEsSEQnJ5+39HvYIWbnjWRjrEkgGCQAAYQEs0WBhrNzS26Fbk8Ho/MOnqeXHHz3TJiTOel6zrT0mLtv5FJdISKW/qeQv9BuHHPHdZiYQW/YvXvC6BvfanZ4t+Flec5YAVjQyA4Pf2+o9/BCjc9ayIdY0kAwSABDCAkrAz+nfSCkJbRW35+xe9k/nfO1lessVIGR2FghlBxU9+j/yDcuOcOs1xWjL4Hi+hbX7L6DGYnFUKFsSEQnJ5+39HvYIWbnjWRjrEkgGCQAAYQElZWiVqdYI4UUVFRctzJZ8j871pPAlstcdPCSkiEiJv6Hv0H4cY9d1grOz0QYvStL1ntN81enm0IDcaGQHB6+n1Hv4MVbpwDjFSMJQEEgwQwgJBosXBOjNVzKyLNcd86Q2Yfe7yO/LN6jqLV7wPMuKnv0X8QbtxzhzVb/DfC6plwAH3rS1bOyFOsfh9ghrEhEJyeft/R72CFm+cAIw1jSQDBIAEMICSslP+xepZMJDr9h+fLsJFjdNS5Fosr7lrZRYUQcVPfo/8g3LjnDrNaLszqTmGAvvUlq+ffUbYPocLYEAhOT7/v6Hewwu1zgJGEsSSAYJAABhASVkqSOHkwEhMdLaee/WMddY5zFBFubup79B+EG/fcYVb/++h7sIq+9SWrZftaLJ65CJhhbAgEp6ffd/Q7WOH2OcBIwlgSQDBIAAMIiWYLK/uabRqM1NZUS+nBok4/FWVl0tTUqL+763IGD5Ups47UUcesDMxaW1ulra1NR0BwurPvhRr9B+HGPXeY1TPcrE4+APStL1mdILfyPAesYGwIBKen33f0O1jhpmdNpGMsCSAYJIABhISV8j92nUfx0XtvyR1XX9Lp55bLL5Rrfv4jue7X58tff3+nfLb4vS4nhL/5nbMlKipKR+1ZeVmyetYiYEV39r1Qo/8g3LjnDrO6Op+z3mAVfetLrZZ3UtG/EBqMDYHg9PT7jn4HK9z0rIl0jCUBBIMEMICQsDLQ6O7zP+pqq2XTmlXywlOPya2X/0rWrlyqv2Jd7z59ZdDQ4Tpqz8okOmVwEEpO6HtW0X8QbpFwz6Vl9JLBw0bI2ElTZfqRx8qx3zxNTjjtTJlz3IkyccYRMnzUWOmfnSvR0fYN261OFrRa3CkMdFffUov0VH/JHzNBps4+2tefTjX60+xvnCDjp86UIfmjJDU9Q393eKhdUupjhrMUESqMDYHgdPd9l5iUbIz/Js860nh+HXfyGXLS6d+To4+f73u2zZUxE6dI9uChto0N6XewItKeNYnJyTLM128mzZgtR877ppx4+plylK/PTJg2SwYPzw/Z+C8mNlayBmTLiDHj9VjzNDn+tO/KEcce7xtrzjB+L/U9ocRYEkAwolYU1VGzA7CBKoez+IUnddReTW2tLFq8REfO99PLrpHR4yfrqGNrln0qTz/ygI46l5qWITc++JiOzL39ygvyzqsv6Cgwp//gJ8agMBDvvv6ivPXSczr6OjX4O/l75+ioYzXVlXLDxT/TkfOlpaXK3CPn6Ki9+JQMOWL+t3UUGhtXLpXigg06am/NuvWyZ+8+HblbKPvexOmzpN/AXB21d7Bon/Fr+ZOckiZZAwdKSkqqJPnaKalpX3sBamtrlXdfe1FHX9cT+4+ZyRMnSE72QB21N3P+dyXR9/ccSouee9xvpYPXF76lW87XHfecmpxQk3oqQTV89DjJGtD5/9+vamyol+2bN8i2jet9n3VyoHCv/krw1MKmS667XUedu3vBZXJwv3v+bT1l/km61bFjvneeboVGbXW1LH+z8/HKvv37ZfXna3XkbOHsW/HxCZI/bqIxIT5m0hTfcyddf6VjaoxeuHunbFm/RjatWy07t27WX/k69evOPekUHXVsxceLpay0WEedu/PRZ8QTF6ejjr3497/KJx+8oyNny83JlkkTxuuovbxxUyVvzEQdhcbHb70i3qoyHbW3dNkKKS4t1ZG7MTZ0t9kzZ0hmZm8dtXfk6edIbFy8jkLjv88/oVvtNTY0yjsfLNKRO4T7vlPj7hGjVTLpKMkbni+ZWf2Na2ZUVbM9Bdtk57Yt8vnyT+XAvj36K8Hpqf0uMTFB5h17jI7ai/H1q6N8/SuUSor2y4Ylnb9bFRTslI1btugoskTCsyajd2+ZNPNIYwyYN3ykxMTE6K90bNf2rbL6s49kzfLPpLqqQl81F+uJk1G+seb4aTNl7ORpvnslSX+lY42NDbJ903pjrLni4w+N97hgOX0sOWL4MBmVP0JH7Y2dM0/6Zg/SEYBQYgcwgJBo8Zqv7GuOwFWir/7rb8YLUyDGTJiiW+1ZWQnbbOHvCrAqlH1v4vTZxkrZzj6nnvV/+ju/LjOrnxx/6nfk4gW3Gos3fn3NzfKTi66U7537c5n/3bO/9mscf+p39c9qj/6DcAvnPde7T5Z858c/kxseeEx+8usrjB0dVpO/SnxCooydNM1YuHTlrffJb264Q8ZNnq6/Gpxmq2cAR+BzHJEpHH0r1hNr7IZacM8ffX3qcplx1LGmyV9FTarn5A01dlSp55XqS6PGT9Jf/dKw0WO/9vzq6KOef1ZYeQ5bPYsbMMPYEAhOuO47tRBCJVt/d+/D8vMrfyfT5syVPv0GWEr+KnFx8cZiQtXXrrzlXvnFb6+XMZOmWv75naHfwYpwPmtO+d6P9Hcept6LTvr2WXLV7Q/6vvZDGTZyjGnyV1ELLM744Xly3QN/llPP/j8jsetPtO/XVH305of+IudefKVMm320afJXUYsI1Xvbt394viy4+w8y96STxePx6K92DWNJAF1FAhhASFh5SbBylky4qV0gb774Lx1Zkz14iPGy1RFLfw8WB8GAFeHse2qFbf+cL1dlqsl3VVrzylvvl5POOMsodxRMKTL6D8ItHPecSvye/dNfydV3Piizjz0+6Jf/L+TmDTMmIq649T6jVHQwLJ8r5aX/wRq7+5Yq56wm/U77wU8kOTW4KgiqL/3ssmvlV9fcLP0G5uirIqPGtU8Kd5WVknzNlO1DiFjqf4wNgU6F477LHztRrrzlPmOnbUbvTH01OCoZfP4lV8kvr75RemX20VcDR7+DFZbukxA9a9T9nNU/22gPGTHKeK86/pTvSFx816odxPieS3NP+JZccfM9RlK4I0PzR8vlN91t9FGVcO4qNU499awfyxW+/q5KR3cVY0kAXUUCGEBIWBn8RepgpGDLRqmqKNeRNakZHZ8fYmkVpMWzFgErwt33vtglpSb8LrvpHmNFbqgSWvQfhJvd95xKUl12893Gjg4rq9K7YkB2rvz4F5fK2T/7lXi6WPLR6r8RTPbBKjv7ljoHUe347d2nr74SGkPzR8nFv7vN2D2ljBwXuhLFVnbZt/B8Q4gwNgSCY/d9d8xJp8gFl18rffsP0FdCy0hc3XyPTJ7Z+TFN/tDvYEW4nzX54ybIqAlTfH1ngaSF6Dxf1QfVAkBV1vmrVB/91TU3SX/fe1ao9OnX3zfOvLXL40vGkgC6igQwgJBo9poPNKzuMOoOnZ3/1pnUtI5LDDa3WPh7iNBEOJwp3H1v9ITJxhmmP71sgfQLYgVrR+g/CDe77jlVLkyVFVNJKitlwkJh2uy5csn1t///1fGBsDpZQAIYVtnRt1SZvh//8jI5/rTOy8UGKyExUc67+LdyxjnnGxN1odJi4e+D/oVQYWwIBMfO++6Us35kfIIt02wmMSlZfnjhJTJ19tH6inX0O1gR7mfN0Sd8S8676Iou7/rtjKpSofpK7pBhRnz0iScbfdQOql+e/5urjfOKA8VYEkBXkQAGEBLhXv0XalWVAe4A7mTFoZUSN1bPQQGsCHffG+J7Wfnpb64xdh2GGv0H4WbHPacmEc676EqjrFi4qX6pksADcgfrK9ZY/W9soQQ0LLKjb5113oUycfosHdlHTcofOe9EHYWGlfLpoSqTCDA2BIJj132nzqpXOwvD6axzLzTKTQeCfgcrwv2syeybZZybbQd1xNt5l1wl879ztpz2/R/rq/ZQVaF+9ItLJTklsCNMGEsC6CoSwABCwlo5ksgdjDQ1NuqWNR5PnG59nZUBbouFvyvAqnD3PfXS1dk5OcGi/yDc7LjnzjjnPBk9cYqOwk/tYPzpb66WtIxe+oo5K6X+FCb7YFWo+9ZRx8+XKbOO1JHzWJsk5fmG0GBsCATHjvtOVWg5/ZxzdRQ+qn/++FeXSkpqxxXMOkK/gxVOnwP8X6qs9HEnn6Eje6kjE846/0IdWcNYEkBXRa0oqmvTbQAh1NbWJotfeFJH7dXU1sqixUt05HwJiUkSn+C/FEtDQ4M01tfrqHOpaRly44OP6cjc26+8IO+8+oKOuubMn1wgs+bO05G5P99zi2zbuE5HX1LnXSWlpOioY2pQVltdpSPnS0tLlblHdn6+UHxKhhwx/9s6Co2NK5dKccEGHbW3Zt162bN3n47cLZR9T5XWtHt3VUtLi/z2p2fr6Ot6Yv8xM3niBMnJHqij9mbO/64kBrh62Myi5x73W5bu9YVv6Zbzhfqem3vSyXLqWfauGrdq364d8qc7bpCmJmsLnNJ7mSeMK8sDq5YR6U6Zf5JudeyY752nW6FRW10ty9/sfLyyb/9+Wf35Wh05Wyj71uDh+fKrq2+y7RztYHQ2HvxfauI9Jtb/2uvammpLuzucIDcnWyZNGK+j9vLGTZW8MaE7Y1n5+K1XxFtVpqP2li5bIcWlpTpyN8aG7jZ75gzJzOyto/aOPP0ciY0LbYnU/z7/hG6119jQKO98sEhH7mDHfXf+b66SMRMPnzHfHT5+/2156ZnHdeRfT+13iYkJMu/YY3TUXoyvXx3l61+hVFK0XzYs6fzdqqBgp2zcskVHkcVpz5pI9Pubr5G9Owt05J/Tx5Ijhg+TUfkjdNTe2DnzpG/2IB0BCCV2AAMIiYb6OmNi2N/HysCvu/TpN0C3rKmuqtStr/N6vR3+t3/105MmKGA/p/e9r6L/INxCec+psssnn/lDHXW/nLyh8q0zf6Ajcx39t//vB7AqlH1LLaoIJvlb4/t99u/dJds3rZd9u3dIVUXnSUK71FRXdvh38NWPW5K/6H6MDYHghPq+65+dK6MnBFYd5lBJsbz67NPy0K0L5MZLLpCrLviB3HXtpfLEQ3fLf996PeAKZrOOmSd9+1ub86DfwQo3PWu6y3Hfsr7jmLEkgK4iAQygx4uPT5C8YSN1ZE11ZYVuAQAgRrJVnf8bqMaGeln12Ufyz8f+IPf87nK5/uKfyjU//5HcduWv5eE7b5R3X3tRivbu1t8dmCOOOV769OuvI8B5Ro6b2KXSsnU1NUaFmPuu/63c4OtT6sdH7r5ZHrjxarnp0gvl9qsuklf++ZSUH+oZO0IBAN3n6BO+5be6zlepSnKv/utvcufVF8uHb78huwu2SXVVhZHYKS4qlA2rV8jrz/1d7rzmYlntGz9apRZSzTz6OB0B7qF2vX6w8BX54+3Xy42/ueDwe9Rvfy3P/PlB2bRmlf6u4LW2tvre2T6Wp/5wj/Gepn6fGy+9QB6+6yZZ8u5Cy1WXvmrclOnSu09fHQGAPUgAA+jxZn/jBIn1xOrInBpgsuIV6JxaNb5nR4HxwrXy0yWybMmi//9Z8fFi/V2Ae4wYM15Gj5+sI2taWltl8dtvyG2/vUj+8ehDRl85ULjXeL6oCYSy0mIp2LJR3nr5Obn3+iuNyYaSA0X6Z1ujzn2b/+2Oy2oCTnDiaWfqlnVLP/zAmPhTx4Oonb8dOVR80Jisu+Pqi2Xhi88ak3oA7MPYED3Z6AmTdMvcv/76sHz4zn9Mn0tqt98zvvHj5nWf6yvmxkwMbBcyEOnWLP9M7rzmEvnPC/+Unds2Gxs1jPeokmJZvfRj+evv75S/3H+H1NfX6Z/RNWpH/oM3X+N7Z3tQ1q1abrynqd+nuqJCCjZvMBYV3nXNpcaCjUCohSHDR3d+ZAYAhAIJYAA9mir9HEjZFWXT2tW6BeALKpmlXsDUjsUFv/w/efCWa4wXLrWr8bknHvn/n+ef/LP+GYB7fPOMs3TLGrU78a/33S6vPfu05QVFarLhgZuvlo1rVuor1kyccYRkD8rTEeAcWQOyjfN/A6F2RannjCpLaEVLc7O8/8ZL8rjveUXZPCC0GBsCh59laRmdn9n8VTu2bpKVnwS2IOKfj/1RqixWJ+s3MEd698nSEeBsny/7RP7+yAPGe5U/m9etlr/cd1uXF/upxRZ/vP062bd7p77SsYqyUnn0nluMBb2BGD56rG4BgD1IAAPosbL6Z8vPLrtWEpOT9RVrQllGBnADVULzD7ctkKcfvt/Ysagm1IGeIr1XZkBJKrUL6rEHbpOtG9fqK9apc7SefOge2bphnb5izfipM3ULcI5R4ybqljWffPCOcS5iV6gdVP9++i86AhAsxobAYR6PR97/z8uWPq8997T+WdbV1lQZOx2t6sqxCkCkUbtvX/nXU0bJdCvUztxVny3RUWDefOlZqaoo15F/jY0N8p9//1NH1gwbSQIYgL1IAAPocVJS0+X4U78jl954p/TJ6qevWqMmL7asX6MjAGpF7IO3XCt7dxToK0DPMnbyVN2y5pV/PhlUf1Gr19WZVlYnIpQxkwL7MwKRYOR46yUzqyrK5NVnA584/6rlHy2SrRsY4wHBYmwIfKlwzy5Z+O9/Wfp0tc8U7tqhW+ZS0jN0C3CuxW++bpRfDsTbLz8fcLWXosK9Ae/K3/j5Stm5bYuOzGX07m0c2wMAdiEBDMDx+mfnyqQZszv9TJszV46c90055awfya+uuUmuu+8ROemMsyQuPl7/CtZ9+t/3pb6uVkdAz6ZW3P79zw8YZ+0APVUgydWD+/fJ0sXv66jr1G6P9//zio7MqRLQaqcy4BTRMTEyNH+0jsx9sPA1afY26ajr3nr5ed0C0BWMDYHwqzUpgftVqWnpugU4k6qmtKgLFV/KSktkw+rlOrLm/ddf6lLp6CXvLdQta5JSUnQLAEKPBDAAx5s4fZb86Be/6fRz9k9/JWecc64cc9IpxmRirKdrq+vq6+vkndde0BGATWtXyc6tm3UE9DxRUVEyfNQ4HZlb9OZrlkuVmVm6+D2pr7W+IGnkuAm6BUS+1LSMgBbqrVn+qW4FR5UIVBOEALqGsSEQfm1t1hNUJIDhdPt2FkhjQ72OArNzu/Wducr2zRt0KzC7tgX2HExOSdMtAAg9EsAAYNGiha9KbXWVjgB89N5bugX0TOpIAXW2mxUq8bsxhGfIq9XvWzdZPws4vVdv3QIiX2qa9YmwA4V7AyqJbmbrRspAA13F2BCwJjOrn8w46hvGYvWLF9wqV9/xoNz8h8fl9kf+FvDn3Iuu1L+quZhYa+NWIFIV7dujW4E7VHxAt8zVVFd2uZqFOgpBvatZlZySqlsAEHokgAHAgq0b1hk7twAcps7PKdjStRWxgFukBnCO2oF9e0K+iKgggFXpakcl4BQpAdyv5SHesVtWUqpbAALB2BAwN3LcRLng8gVy7V1/kLPOu9A4rmrw8Hzp23+AkQSKT0gM+OOJi9O/OuB+tTXVuhW4ulrr5dLrAiit3pH6Wut/zuho0jMA7MO/MABgYv/eXfLUn+6V1pYWfQVA4e4dxkQf0JOlplsvo1dRfki3QqeyrEy3zKVmkACGcySnWt8JURvABJsVtdWVugUgEIwNgc4lJiUbx1Op5K9KAgPomqbGRt0KXHMAu3IbGxt0q2uam3keAogMJIABwI/Sg0Xyl/vvkMb6rp0xArjVwaJC3QJ6rpQAzlELZrV6Z2oC2FGsylUDTtEUwKSbJ876WcFWxCcm6haAQDA2BDqW3quXXHrjXTJpxmx9BUBXqWN1wiJMvw0A2I0EMAB0YtVnH8n9N14d0nPlALeor6vVLaDnamqwvjgo1EkqJS4+QbfMBZJQA7pbTZX1xQ2hLm+emspueaArGBsC7SUkJsnPLr1WMvtm6SsAAADhQwIYAP6Hmrx49vGH5R+PPiSNAUzuAz1JA7viAamusl4qNs2GM3gDKUFdXVmhW0DkC6RvZQ/Ok5jYWB0Fb/DwEboFIBCMDYH2vnXmOTIgd7COAAAAwosEMABo5YdK5dVnn5ZbLv+lLP/ov/oqgI54m5p0C+i5qgJIqvbPzpXo6NAOvQcGMKFYXUUCGM4RyP0aH58gw/LH6Cg4icnJMnhYvo4ABIKxIfB1/QbmyMy5x+kIAAAg/EgAA+jRSosPyrIli+TpRx6Q23/7a/nw7TfY9QsAsKSm0vouRTsSSyPHT9Itc9UVJIDhHI319XKgcK+OzB194nzdCs5R8+ZLTEyMjgAA6LojjpknMQEs/mtsbJBFb74mD995o9x82S/kyp+eLVee/33Tz1/uv13/CgAAAF9HAhiA4x0qKZYNn6/w+1mz7FP5ZNG78u7rL8qr//qbkfC95fIL5Y6rLpLnnnjE+Hpra6v+FQEAMNfU1CilB4t0ZG7GUcfqVvByhw6TAdm5OjK3f+9u3QKcYcv6NbplbvSEKTJizHgddU16r0w5+sRv6QgAgOCMmTRNt8yVHjwgd1x1sbzx/DNSsGWjVJYfktaWFmOOwuzTq09f/asAAAB8HQlgAI63fvVyeeLBu/1+VML3xaf/Im+99Jx8+M5/jIRvRVmZ/hUAAOiaDZ+v1C1zU+fMlb79B+goOCedfpZumauvrZUdWzfpCHCGQBLAyg8vvFh6ZfbRUWBiPXFy3iVXSmJikr4CAEDXZfTuLZl9s3Rk7sk/3CPVARwt8lXBLoACAADuRQIYAAAA6KKNASSAVRnAc35+sXg8Hn2la2YdM09GBVD+edO6z40dIoCT7Niy0Vi8YFVKarr86pqbZeCgIfqKNWkZveSXV98oOYOH6isAAAQnNb2XbpkrOVAU0LEHX5WUnCpjJkzREQAAwNeRAAYAAAC6SO2sDSRJlZs3TH4QRBJ49MQpcsYPztORNZvXrtItwDm8Xq8sfvc/OrJG7QC+6Nqb5Vtn/sCYFPdH7fo9+sST5Yqb75HBQ4frqwAABC81LV23zJUfKtWtwH3rzLPFExenIwAAgK8jAQwAAAB0kdpZ+8mid3RkzYSpM+UXV98kvQMoDRgdHS3HfvM0Oe/i30qsJ1ZfNaeOO1izYqmOAGdZ8s7CgBZYKHHx8fKN+afL9Q/8WS64fIHRb6bMOlJGjZ8sk2bMlqOPny//9+vL5cYHH5PTvv9jSU5N0z8TAIDQaGpq0i1zuUOHGeO8QE32PdtmHn2cjgAAANojAQwAAAAE4YOFr0pNdZWOrFE7Dq++/ffynR//THIGd16yNjklTWYc9Q25yve9J3/vnIAnCN96+Tlp9lqfhAQiSUN9nfz37Td0FBi1y37kuIlGv1Gl13922TXyo1/8Rk77wU+MRRic9wsAsEtVRblumVPPo6NOmK8ja1Ti9+zzfylRUVH6CgAAQHskgAEAAIAgqCTV+6+/pCPrYmJjZfaxx8ulN95l7Eb8+RUL5AcXXCRnnnuBnHvxlXLpDXca188670Lp06+//lnWFRXulZWfLNYR4EwfLHzFKLUOAIBTVBwqlZbmZh2ZO+V7PzIqVnji4vWVjuXmDZXzLr5Kvnfuz41xJAAAgD8kgAEAAIAgfbzoHdm/d5eOApealiH5YyfK1COOkllHz5Nxk6dLTt7QLpUEVFpaW+WVfzxplKgGnKy1pUWefvgBqaoo01cAAIhsTU2Nsm3Teh2ZUzt5VcWK6+57WL79w/ON4wrGT50hYyZNNSrBnPr9H8tlN90tv7nhThk7ear+WQAAAP6RAAYAAACCpHZ5/PWBuyImSfXKP56Q7QFMPAKRrLqyQp760/1SX1+nrwAAENnWLP9Mt6xLTkmVOcedaBxX8JNfXyHnX3KVUQlm7oknS/agPP1dAAAA1pAABgAAAEKgsvyQ/PX3d0tjY4O+0j0Wv/2GfPLBOzoC3GH39q3yx9uuk7LSYn0FAIDIteKTxVJcVKgjAACA8CMBDAAAAIRI4e4d8tRD90p9ba2+El6fLX5PXn/u7zoC3OVA4V75/c3X2nImsCqbvujN16S6qkJfAQCg69QRBi8984S0tbXpK/apra6SmupKHQEAABxGAhgAAAAIoa0b18r9N14le3cV6Cv2a2pslGcff1heeOqxsEw0At1FTXL/6Y4b5Jk/PyilBw/oq8HZs6NAHrr5Gnnj+WekpblFXwUAIDjbNq6Tf//N3rFZ4Z5d8sBNV8v61cv1FQAAgMNIAAMAAAAhpsrU/vH26+Sj996W1tZWfdUeRYV75cFbF8jyj/6rrwDut3rpx3LXgkvlxaf/Iju3bQm4nzV7m2X1Zx/JH267Th685RrZt3un/kqU/hEAgOB9tvh9ee6JPxuL9UJt1WcfG8cjlB8qla3r1+qrAAAAh5EABgAAAGygEkwv/+NxuXvBpbJsySJpaW7WXwmN/Xt3yd8f+b3cd90VcmDfHn0V6DlUec1PFr1rLLa48ZIL5J9/+aMs/fAD2bRutRTu3ilVFWXSUF9vLMhQO/I3rVklb7/ygvz5nlvkul+fK888+pDs2r5F/2qHxcfH65a5hvo63QIAoHPLP1ok915/hbEjOBS2rF8jD926QP7x6IPS1HQ4sbzV92ur4wwAAAC+QAIYAAAAsFHJgSJ57olH5ParLjbOGFU7drtKnS28buUyefzBu+S+638rny/7hJLPgE9tTZWs/ORDef7JP8tf77/DKMN+06UXyoJf/p/cduWv5fc3XSN//f2d8s6rLxgT8F9MmH9VVFSUJCQl6chcdSXnLQIArDlUfNBYgPT7m66Wzxa/J/UBLiJS40lVWeYPt/1OHrvvNtldsE1/5TA1Rty3Y7uOAAAAfO+4K4rqmDECbKAmYxe/8KSO2qvxDc4XLV6iI8C50tJSZe6Rc3TUXnxKhhwx/9s6Co2NK5dKccEGHbW3Zt162bN3n44A55o8cYLkZA/UUXsz539XElPSdBQai5573EiCdOb1hW/pFoKRmpEh+aPHy7BRY6RXZh9J9v1/TE5N931SJTY2Vupqa6S2ulpqqquMM0/V7kV1tnDhrp22l5TuKU6Zf5JudeyY752nW6Gh/n8uf/MFHbW3b/9+Wf055Ru7U2ZWP7n2rj/oyNzVF5wjXq9XR/hCbk62TJowXkft5Y2bKnljJuooND5+6xXxVpXpqL2ly1ZIcWmpjgDnmj1zhmRm9tZRe0eefo7ExlmvZGDFf59/Qrfaa2xolHc+WKQjBEKNt/sNzJFBQ0f4fsyWxKRkSUxOFk9cnJHMVWPAmqoqqSw/JDu2bJSy0hL9M2GHxMQEmXfsMTpqL8bXr47y9a9QKinaLxuWdP5uVVCwUzZu+XqlEsCJRgwfJqPyR+iovbFz5knf7EE6AhBK7AAGAAAAwqy6okJWfrpEnn/yUXn03tuM3Yq3XH6hkVC68vzvy/UXnS93Xfsb+dMd18tTf7xX3n/jZdm7o4DkL3qc6OhoS59QyBs+SrfMqZ1bJH8BAF2lNg0cKNwry5Z8IK8/93ejgsXf/nifUcXiH48+JK/+8ynf+O8lWfHxYpK/AACgS0gAAwAAABGEks7AYTOOOlbuefxZS58zf3KB/lldN3nWbN0yV7hrh24BAAAAABB5SAADAAAAACLOngDOMpx6xNGSkpquo8BlDx4qo8dP1pG5TWtX6xYAAAAAAJGHBDAAAAAAIOIc3L9PGhvqdeSfOjPx2z86X6JjYvQV6+ITE+VHF16iI2s2rlmlWwAAAAAARB4SwAAAAACAiKPKoW9ev0ZH5iZOnyXnX3KVxCck6ivm+vTrLxdde4v07T9AXzFXcqBIiosKdQQAAAAAQOQhAQwAAAAAiEhL3lmoW9aMGj9JrrvvYTnjnHOlf84giYqK0l/5UkxsrOQNH2mcG3zFLffJAN/3BeLtV1/QLQAAAAAAIhMJYAAAAABARNq5bbPs3VmgI2sSk5LlyHnflCtvuVfu+ss/5Xf3PiwXLbjV+Fx1+wNy25+e8rVvkVlz54nH49E/y5p9u3bI6s8+0hEAAAAAAJGJBDAAAAAAIGK9/I8npKWlRUeBiYmJkV6ZfSRveL7xyRqQbZwX3BWqJPUbL/xDRwAAAAAARC4SwAAAAACAiLW7YJu8/fLzOuo+C//9L9m2cZ2OAAAAAACIXCSAAQAAAAAR7YOFr8ia5Z/pKPw+WfSu8WcAAAAAAMAJSAADAAAAACKaKr/890cekI/ff1tfCZ/PFr8nLz/zuI4AAAAAAIh8JIABAAAAABFPJYFfeuZxeeWfT0ljY4O+ap/62lp5+uH75YWnHpPW1lZ9FQAAAACAyEcCGAAAAADgGEveXSh3X/sbWfXZx/pKaLW0tsqaZZ/Kvddf2a1lpwEAAAAA6CoSwAAAAAAAR6koK5N/PPqg3H/Db42EcE11pf5K19XX18nit9+QO6+6SJ5+5AHf71GqvwIAAAAAgLOQAAYAAAAAOFLhnl1GSeibLr1Q/nL/HfLOqy/IprWrLCWEVcJ364Y18tbLz8nDd90kN15ygbz27NNSVlqivwMAAAAAAGciAQwAAAAAcLTWlhbZvG61vP3KC/LXB+6UGy7+mSz45U/k1it+Kfdd/1v50x03GEleVdb55st+Lldd8EP5ne/rj957m7z72otSsHmDNHub9K8GAAAAAICzkQAGAAAAALhOQ32dlB8qlf17d8mOrZuMJG/R3t1SWV5OshcAAAAA4GokgAEAAAAAAAAAAADAJUgAAwAAAAAAAAAAAIBLkAAGAAAAAAAAAAAAAJcgAQwAAAAAAAAAAAAALkECGAAAAAAAAAAAAABcggQwAAAAAAAAAAAAALgECWAAAAAAAAAAAAAAcAkSwAAAAAAAAAAAAADgEiSAAQAAAAAAAAAAAMAlSAADAAAAAAAAAAAAgEuQAAYAAAAAAAAAAAAAlyABDAAAAAAAAAAAAAAuQQIYAAAAAAAAAAAAAFyCBDAAAAAAAAAAAAAAuAQJYAAAAAAAAAAAAABwCRLAAAAAAAAAAAAAAOASJIABAAAAAAAAAAAAwCVIAAMAgtOmf+xElP4xlEx+SwAAHMeO5yXQHaKiIu9ubovAPxNgB+51AAAAfIEEMNBNPJ5Y3QKczePx6FbHomJC/6iJjvb/a8bG0r/gDp44k/5l0he6oqWlRbc6FueJ0y3AubrjPo6O8T8pH2vyPAWcwmwcFhMT+nGa2a8ZFxujW4CzmT0rosO8nCg+IV63AGczm9eIjg79cyQ62mxsyLwG3MGsf8XY0L8AHEYCGLCJ2cr3+DhelOAO8fH+J9FjY0M/oR1jMrFo9mcCnMLsWWFHAri11f8ee/oX3MB0wtqGHVRRJq9eCXH0LbhDgsmzK8aGCe0ok4nDON694BLx8WZjw/AmgBUWMMENzJ5d0TYsMjd7l+O9C25hdi9HsYkDsA0JYKAbMZiDG5hNQngSEnUrdDwmO7dYYAG3MEsI2bESvbWtVbc6ZtbnAScw61tRtuxQJEGFniHO5B3HY8O9bvZ7mn0dcIoEs0n0qNBP8zWbVIeJN6lYAziB2XMi1oZnl9muSN674Bam84YsJAJsQwIYsFFDU6NudSwtLV23AOdKS0vVrY6lZvTSrdBJSvb/e6ab/JkAJ1AlahMSE3TUMTt22LeJ/ySVWZ8HnCA1PU23OhaflKJboeMxSTon+vp7PLuA4QJm47AEk3FcVySl+u/T6SZ9HnAC03ectjZbqsN4vc261bH0NPoXnM/sPk5Oy9Ct0IlLSNKtjqWmhH48CnSHDJP+5WGxA2AbEsCAjVrb/Hexfn0zdQtwrv5ZWbrVsbReob/Pk0wmP9J8g8uEBP+JMyDS9TPpW20SZcsknyfR/0REVlZf3QKcq39f//dxemYf3QqhqCjxNvufRO/b14bfFwijhIR4YxzmT1xi6KvDpKT31q2O9TPp84ATZJmMDWNMkkldZVZiPYv+BRfo189//8rIDP19HmeS9FJn6vfJ9P98AyJdr4x00x2+nnjm7wC7kAAGbJTSy/9ArX//froFOFN6errEmexWSusd+hel1PRe0mJSiiyLSXQ4XFaW/8UTyRn2TAb0yx2sWx3rm5lpWsoWiGSxvvs302Qyrc+AXN0KreY2/2czMokOp+vX12zxkki8DUmqrIHmfZaxIZzO7BmRnum//3VVet/+utWxrCz6FpwtOSnJ+PiT0cd/P+iKqKgoaWj06qhjjA3hdGYLyKNjPbYcbQXgMBLAgI0G5Y/VrY4lJiRKnz7sAoZzDc7N0a1ORMfacgaw4m1VU4idGzJ4kG4BzqPOiB84YICOOpY7YrRuhdbwsZN0q3ODckz6PhDBcgeZJ4p6Zfnvf12VYTKJ3r9fFue9wdHyBvvvX0kZ9rz7qBLrDU1NOurYYAt9H4hU6giO3r38l6AdkDdMt0JrqMnYMD4uXgawuB0ONniQ/3cbVXkpKT30JaCVBJOj4XJ9713RLL6Fgw3O8T/+yhzI3B1gJxLAgI3y8sdIk8l5OaPyR+gW4CxJSYmmE2n9Bw/VrdDLyvX/a6vyg2oiHXCi/OHDdatzfWx6UUpMSZWm5lYddSx/xHAmIuBIavd6/jD/z4/YhESJjbMnCTt2xmzd6pj6840w+fMBkUolgMzKPw8dPUG3Qi+1t/9xX/9+/YwyhIATjRxhMm/Q1iaZA+xZoNcvZ5A0Nfnfpci8BpxKLbzNG+y/AlKmTZVhlGFj/C+wiIvzyNA8EmRwpiG+vhWf4P+9yq6F7QAOIwEM2MyT5P+s0l4ZGdKP8xThQCNHmCeoBo0ar1uhN3H2XN3q3OiR+boFOIc6vzrPZAd7QmqGrefk9M3N062OGRMR7LKHAw3JG2x6dIFZBZdgpGVkSoPJJLr6MyZyjj0caFS+/3FXa1ub7/kyREehN3bmUbrVuXyzJBoQgdIz0k0Xtib3zpLomFgdhV5SL/9lnlNSUiR7oD3VMwA7jRg+3PR4m7wx9i1eyh0xSrzN/jeODB86VGJNzlAFIo1aMJ4/wqQyhe970mw6vgDAYSSAAZtZmYiYMG6sxJtMRgKRRC1ayMnO1lHHYhOSJSnVvl0WMbEeaRb/L2pqIkLtVAScZOpk8xLMwydO0y17jJtxpLS0mOwCHj5cUlP9L3ICIkma737NH2ZeHrPfYHtKaH5hwNCRutW5KZMn6hbgDCPzR/jGXck66lifbP87rIKVkdlXGptbdNQxdQ4wpaDhJCoxNWWiefJphM1jwwlHHKNbnRs7ZhQLmOAomZm9TY+OivbE2Z6gSu3jf/GEx+ORyePH6Qhwhonjx1pYeGvfphEAh5EABmyWNTBHGlv8n1WqdntNnzZFR0BkU0nVqZPME1Sjps7SLftMmHOsbnVO7VSmFDScYvKkCabnu0XHemwr//wFtbvYk+K/jGdMbIzMnDZV4liNDgeI88TJzBnTjPvWH7U7MT7RfxIrWBNnH2O606N3r17GAkHACVTp5/zh5gsnRk62f2w4YtIM3eqc6luqjwFOMH3KZElJ9v9ciomLkwybzq7/QlrvTPGaTCGqs4BnTJ8qMTFMNSLyJScnyfSpk3XUufwwPLumHD1PWk0W3/b3PWtHDOeYEDjDsCFDJGfgQB11rK1NZPAo+3bXAziMURkQBmNmzNGtzqlS0JMmsPIJkU2djzNrhu+l3mQCPcYTZ/suDyUre5B426J01LkpEydKejpnviGyDR2SZ/qSpORPOUK37DV17gm61bnExASZNnWyxJqUTQO6k5qIVs+uhHjzc32HTzRPHoVCbwvPSLVLUZWDBiJZhm98NdnC7sTUzH4Sn5yiI/sMHTNRmkwWWCjTp06RpKQkHQGRaezoUdK3r//Sy0r+5PCMDSfM/oZudU5V27DybwLQndSO2pnTpokn1v9C1ijfO07/PPsrisUlJEpsivl8hTpqQS26AiKZqhg4ZrR5xaMBw0dKjMe+owsAHEYCGAiD3GGjpC3GfIdUbk62sWI21iS5BnQHVer1qDmzJdH3cmJm7CzzEmGhMu0b39StzqmE9exZM6R/P16WEJlGj8o3JvnMeHz9LxyTEEpyWoakZpknpDN795bZR8yUhATz5BoQbuq+nHPELEuLgIaMnSLxSfbu/v3C1LknSrPJTg9l3JjRMorz7BGh1LjqCN/4yuzsRGWchaotoTJ+lnmSSp1lf9ScI9gJjIilkqhqcaCZ+ORU248u+EK/nEESFWf+Ljigf3+ZPXOGeGKZ2EfkSU5KkqPnzDZ2AJsZPcP8SLdQmX3iqdLSaj42nDZlsuRkm7+jAd3BmNeeNlVHfkRFy4gJ4Vl4C/R0MRdcseBG3QZgo365eVK4fZOOOqfKOw3o108OHiyWZgur14FwUBN8M6dPtXRWdUpmXxk2YbqO7JeYnCIH9+2R5sZ6faVj0dHRkj1wgLT6XqrKysv1VaB7qQU/06ZOkUE5OfqKfxOOPEESwrCD6gv9svNk56bVEh3lf6e92lmZPTBbDh0qlcbGJn0V6F5qZ+IRs2b6xlbmE3yx8Qky4ajjdRQeqmRnxcFCHXUus3cvychIN8aGrapWGhAB1DnwE8aPNcZXZnJGjpOsHPNEVqik9uote7ZvlrYW/+9SKnE9KDdH6uvrpaqqWl8FupcnziNzZs6UrKy++op/k+aeJPGJ4dvNPmDQUNmzeZ1EmYwNk5ISjURwcUmJeL1efRXoXn36ZMoRM6dbqgqTmJYhI6fO1pH9omNife9RDVJbXqqvdE7tAo6NiZaS0kP6CtD91MLV0RYXruZPPULS+7BBAwgHEsBAmKjzFBsbG6WmrERf6Zw6JD83N9v3UhUtlZVV0sZkH7qJWpAwftw4GZU/3NIEX5Tve6bNO1ViTEophdqAwcNl16Y1vj6jL/jR1/fSl9Wnj1TX1khDQ4O+CoSfmnSeOmWSkaSyInv4GN/HfJdwKEXHREtSWrqU7tutr3ROJbMHDxpknAmsnl0tLS36K0B4qcVKY0bmy8QJ4yxXVZly3MlG+b1wyuiTJUW7d0pLk/mzSD2Pc7KzxettlqrqKn0VCL9evTJk2uRJkpNjbfdRfFKqTDza/EiBUBuQp8aG60wXMClqoWOvjHRf36qRpiYWMaH7qB2/0yZPtrQzUckdNSFslWG+EOtRC4KjpLLkwOELfqid9rm+8a5abFFZUSWtbea7GwE7JCUmybixo42KSzHRFsaGvmfH9HmnSqyFBfCh1HdgruzeulGk1fw9SlWwUPMaFVWVLMBFt+qflSXTpk6Sfr4frUjLzJL8MC6uAHq6qBVFdWSWgDD65PXnpam+Rkfm1CTE9h07pajooNTV1+mrgL1USVe1W1adPxiI8UcdL5kDAvs5oVJ1qERWvf+6jqwpOnhQ9u0tlAPFxfoKYK84T5z0758lw4bkSUqK9Z28iSlpMnP+d3UUfmuWvC/lReZJ4C80t7TIzl27ZX/RAamqIlmF8EhPS5UBAwYY5+YGci718MkzJWfEWB2FV4vXKx++/IxEifVXspqaGinYuUsOHDgoTeyqQpioJKlaoKom+SyLipKZ3/yO8QzrDvt3bZetyz7UkTX7Cvcbn5JS8x1YQCioowrUs2vYkMGWjtr5QnJGb5l+wuk6Cr/P3npZGqqsV1VS8xo7du2Swv0HpK6OeQ2ER6+MDMkZOEDyfGPDQIyZdYxkDRqqo/BqrK+Vj199VqKjLaxu14oOHJCt2wuoZoGwUYts+/Xta/StQI7TUJtFZn3rTGOTFIDwIAEMhFlrS7N8/Mbz0tIY+M7DSt9gTpVQUjuJ1QtUU5PXKGcLBEOdzaRKjXni4iQlKcko1aVWawdKreAbOCy8uxP/V/HenbLx00U6sk6VWy8pKZWKyipp8jYZZcrULit23yMYateR6kuqb6kdiWphRWZmb/1V6zzxiTL9pDMkrptfkpa/+7rUlptXsfhfqrSmsYjJ99zz+p5dqn81N7M7GMFRkw4ej8foY4mJicbxGerHQA0cNtL3/Jqjo+7RUFstn7zxgu/fDH0hAIcOlUmp79Poe3Y1fzE25NmFIKiyrh6Pb2yo+1d6WoZkZfUJaFHFF9TOerXLozvt2rRWdq1boSPrvL6+pBYIVtfUGM8t9e6lxoZAMKJ8/9DHe+KNd6/4eI9k9elrlPgPVEJKmkw7/jSJ9fXT7tLa2iKfLnxRvHXWF7d/obqmWg4Wl0hDfaN4m73S6OtfrRbOxQf8ifU9u+Ji44xnl1GC3Dc2jE8wL/X8v4ZOmCaDRk3QUfeoLj8ky99+JaAksKIWCRYXl0pp2SHetxAyqpiKmtOIi1VzGx6jGkxACwK1qOgYme57diWlZ+grAMKBBDDQDVp8LznqZam5gZWvcIeh430vSaO79yXpCwd3F8impYt1BDhbTGycTD/xNElITtVXuteyd1+TOgvnUgFO0Cd7sIybc5yOuld9TZVvbPhvMT9sAXCG7qwK8792b1orO7uQBAYiUXxSikw/4TSJjQs8sRVqwSSBgUiUM3KsDJ84U0fdq6qsVFb43r26skAQiDhR0TLlG/O7fWEg0BORAAa6idoJ/OnCl8QbQDloIBJ1Z+nMzpQW7pb1H7+vI8CZYuMTZNrxp0pCkvVS0eGwatGbUlVSpCPAmfrnjZBRM47SUWRoqKuRz/7zbxHOSITDTTrmm5KRNUBHkWHP1g2y4/OlOgKcKT459XDy1ziHN3J8+uaL0lhdqSPAmQaPmShDxk3VUWQwxoYLXxJppQIFnCsqOlqmHHeKpPbK1FcAhBMJYKCbrV3yrpQV7dUR4CBRUTJ65lzp101n45ipOlQsqz94U9raKH0E50np3UcmHnm8eAI4Cy6ctn++XPZtXacjwFnU5J6a5ItETQ31svL9/0hjLWdnw3li4+JkwlEnSlpmX30lspQV7ZO1H70jARy5DUQMtaN+zKxjJcYTq69Elg2f/VdK9uzQEeAsI6fNkQFDR+oosjR7vcZO4IYaFlnAeeITk2XC3JMkOS3w4w4AhAYJYCACFO3cKluWf6QjIPIlpabLuCPnGT9GMm9jg6xd8p5UlxXrK0DkU2dOqbOnIl1FcZGxiElVtACcwBOXIOPmfEPS+/bXVyLX9jVLZd+WDToCIl+vfgNlzBHH+vpZ95el9Uedub3mw3eknt2KcJBhk2ZIbv44HUUulQDesPRDKlnAMVSlJTWvkZLRW1+JXJtXfiIHCjbrCIh8WYOGGosrYmK777x6ACSAgYjR2FAnGz5dTFlNRDRVumXYhGmS44AJiK9iMgJOkJyeKWNnzZWk9Ax9JfK1eL2yZdUnUry7QF8BIlPuyHGSN3ayoyYgqssPydqP3hNvfa2+AkQetbBi5PTZ0ic7T19xhv0Fm2Xryk99LaZDELl69c82Js8j7TgQf9QC3E3LllDlDJEtKkqGjpsqg0ZP0BecoaaiTNZ/ukgaWMSECBaXmGzMazhh0S3QE5AABiJMbWW5bFn1qVSVHNBXgO4XFeuRIaMnyoDho8QTYWdOBUJN9m1bs0zamtmxiMiRlpklQ8ZPkV5ZA/UV51HnU21fs0JK9u6QKH0N6HZRUcYZ9bkjxxrlx5xKla3dsuozykIjosQlJsmQcVNkwJB8fcV51CKmvVs3yK5Nn4u0skgQkaP3gFxf/5osqb366CvOU1dVIds+XyblB/bpK0D3i46OkdxR4yUnf2zEV6zwp7L0oG9suFTqKkr1FaD7JSSnydDxU4ydvwAiBwlgIEJ5GxuldP9u2bNlg9T7Xp5YnY5wi/HESVZOnvT1Dd5693NuYqoj6nzgwoItUlq4W1q8TfoqEC5Rxi7fAXkjpG9unqN2dZhpafZK2f69snvrBqkpL/U9unh2IbyiomN8z6xsGTB0uPTunyPRMZF5VmJX1NdUScm+XbJ32yZ2BaNbeBKTpL9vXJiVO1RSezs3MdWR8uL9ss/Xt8oOFrJQEGHX5hsbpvbOlOyhIyUze7DExSforzif1/euVbZvj+zauk7qKit8/6WMDRFe0bFxkjkgR/rnDTPO0naTpoZ62bd9oxTt2Cbehjp9FQif+KRUGThkhPTJGSzJ6b30VQCRhAQw4BCNtTVSW1MlteVlUltVLi2tLdLW2iptTK4jGFFREh0dbXzUCli1ylyd65uUlt5jzulo9fUltUK9rqpSqspKpamx3uhbrapv0b8QhKiow30rKiZGkn39Kjk9w9e/0iQxJbLPzg4lNSlRV1MptRUVUl1RKq3NLb4+p55d7LRCEIxnV5SR7I31PatSe2VKcprqX+kS6+DdHIGqq640PjXlh6S+tvpw32JsiCBF+fqXOvJDPb8SklIlxffsSkz19a+0NN+1GP1d7qYWM6lxoepflWUl0tzUeHhs6PsAwfiib8VEx0pyRi9fv/L1reRUSUhJ1d/hfqpqjFrQVFtRLtWV5dLa0syzC8HTY0P1nPJ44iXFNzZU48LktF4S43HPYkB/WrzNUlPpGxNWV0mVb2zY7PU9u3zvXK2tzGsgOF+ODWMkyfe8SkrvZcxvqGcYgMhHAhgAAAAAAAAAAAAAXCJa/wgAAAAAAAAAAAAAcDgSwAAAAAAAAAAAAADgEiSAAQAAAAAAAAAAAMAlSAADAAAAAAAAAAAAgEuQAAYAAAAAAAAAAAAAlyABDAAAAAAAAAAAAAAuQQIYAAAAAAAAAAAAAFyCBDAAAAAAAAAAAAAAuAQJYAAAAAAAAAAAAABwCRLAAAAAAAAAAAAAAOASJIABAAAAAAAAAAAAwCVIAAMAAAAAAAAAAACAS5AABgAAAAAAAAAAAACXIAEMAAAAAAAAAAAAAC5BAhgAAAAAAAAAAAAAXIIEMAAAAAAAAAAAAAC4BAlgAAAAAAAAAAAAAHAJEsAAAAAAAAAAAAAA4BIkgAEAAAAAAAAAAADAJUgAAwAAAAAAAAAAAIBLkAAGAAAAAAAAAAAAAJcgAQwAAAAAAAAAAAAALkECGAAAAAAAAAAAAABcggQwAAAAAAAAAAAAALgECWAAAAAAAAAAAAAAcAkSwAAAAAAAAAAAAADgEiSAAQAAAAAAAAAAAMAlSAADAAAAAAAAAAAAgEuQAAYAAAAAAAAAAAAAlyABDAAAAAAAAAAAAAAuQQIYAAAAAAAAAAAAAFyCBDAAAAAAAAAAAAAAuAQJYAAAAAAAAAAAAABwCRLAAAAAAAAAAAAAAOASJIABAAAAAAAAAAAAwCVIAAMAAAAAAAAAAACAS5AABgAAAAAAAAAAAACXIAEMAAAAAAAAAAAAAC5BAhgAAAAAAAAAAAAAXIIEMAAAAAAAAAAAAAC4BAlgAAAAAAAAAAAAAHAJEsAAAAAAAAAAAAAA4BIkgAEAAAAAAAAAAADAFUT+HzLNd64tlj3aAAAAAElFTkSuQmCC)"
   ]
  },
  {
   "cell_type": "markdown",
   "id": "5Cn0XeyyVESb",
   "metadata": {
    "id": "5Cn0XeyyVESb"
   },
   "source": [
    "**Syntax:**\n",
    "```python\n",
    "character = string[index]\n",
    "```\n",
    "\n",
    "**Example:**\n",
    "```python\n",
    "text = \"Hello, World!\"\n",
    "first_char = text[0]      # Access the first character ('H')\n",
    "third_char = text[2]      # Access the third character ('l')\n",
    "last_char = text[-1]      # Access the last character ('!')\n",
    "```\n",
    "\n",
    "Remember that Python uses 0-based indexing, which means the index starts from 0 for the first character. Negative indices count from the end of the string.\n",
    "\n",
    "Here's a breakdown of the example:\n",
    "- `text[0]` retrieves the character at index 0, which is 'H'.\n",
    "- `text[2]` retrieves the character at index 2, which is the first 'l'.\n",
    "- `text[-1]` retrieves the last character using negative indexing, which is '!'.\n"
   ]
  },
  {
   "cell_type": "markdown",
   "id": "AYL4H6vxVxVj",
   "metadata": {
    "id": "AYL4H6vxVxVj"
   },
   "source": [
    "### List\n",
    "\n",
    "A list is a versatile data structure in Python used to store a collection of items. It can hold values of any data type, such as integers, strings, floats, or even other lists. Lists are mutable, which means you can modify their contents after creation. Lists are ordered, meaning the items have a specific sequence and can be accessed using their indices."
   ]
  },
  {
   "cell_type": "markdown",
   "id": "w59ouveZWcXT",
   "metadata": {
    "id": "w59ouveZWcXT"
   },
   "source": [
    "![python-list-index.png](data:image/png;base64,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)"
   ]
  },
  {
   "cell_type": "markdown",
   "id": "xwGLsYuzaOgJ",
   "metadata": {
    "id": "xwGLsYuzaOgJ"
   },
   "source": [
    "Python lists come with built-in methods that allow you to manipulate and work with the list data. Here are some common list methods:\n",
    "\n",
    "| Method               | Description                                                                                                       | Example                               |\n",
    "| -------------------- | ----------------------------------------------------------------------------------------------------------------- | ------------------------------------- |\n",
    "| `append()`           | Adds an element to the end of the list.                                                                           | `my_list.append(42)`                  |\n",
    "| `insert()`           | Inserts an element at a specific index in the list.                                                               | `my_list.insert(1, \"apple\")`          |\n",
    "| `remove()`           | Removes the first occurrence of a specific value from the list.                                                  | `my_list.remove(\"banana\")`            |\n",
    "| `pop()`              | Removes and returns an element at the specified index.                                                           | `removed_item = my_list.pop(2)`       |\n",
    "| `len()`              | Returns the number of elements in the list.                                                                      | `length = len(my_list)`               |\n",
    "| `index()`            | Returns the index of the first occurrence of a value.                                                           | `position = my_list.index(\"cherry\")`  |\n",
    "| `count()`            | Returns the number of occurrences of a value in the list.                                                        | `occurrences = my_list.count(42)`     |\n",
    "| `sort()`             | Sorts the list in ascending order.                                                                               | `my_list.sort()`                      |\n",
    "| `reverse()`          | Reverses the order of elements in the list.                                                                      | `my_list.reverse()`                   |\n",
    "| `extend()`           | Appends elements from another iterable (list, tuple, etc.) to the end of the list.                            | `my_list.extend(another_list)`        |\n",
    "| `clear()`            | Removes all elements from the list.                                                                              | `my_list.clear()`                     |\n",
    "\n",
    "Remember that these methods modify the list in place and do not create a new list. If you want to create a modified copy of the list, you need to use list slicing and concatenation.\n"
   ]
  },
  {
   "cell_type": "markdown",
   "id": "e1lUmOlLuc7U",
   "metadata": {
    "id": "e1lUmOlLuc7U"
   },
   "source": [
    "#### Creating a List\n",
    "To create a list, you enclose a series of values within square brackets `[]`, separated by commas. Each value in the list is called an \"item.\" Here's an example:\n",
    "\n",
    "```python\n",
    "fruits = [\"apple\", \"banana\", \"orange\", \"grapes\"]\n",
    "```\n",
    "\n"
   ]
  },
  {
   "cell_type": "markdown",
   "id": "akHkBNlYuoXV",
   "metadata": {
    "id": "akHkBNlYuoXV"
   },
   "source": [
    "#### Accessing List Items\n",
    "\n",
    "You can access individual items in a list using their index. Python uses **zero-based indexing**, where the first item is at index 0, the second item at index 1, and so on. Negative indexing counts from the end, with -1 representing the last item.\n",
    "\n",
    "```python\n",
    "first_fruit = fruits[0]    # \"apple\"\n",
    "last_fruit = fruits[-1]     # \"grapes\"\n",
    "```"
   ]
  },
  {
   "cell_type": "markdown",
   "id": "zSBX24cIu5jc",
   "metadata": {
    "id": "zSBX24cIu5jc"
   },
   "source": [
    "#### Adding and Removing Items\n",
    "\n",
    "You can use various methods to add and remove items from a list:\n",
    "\n",
    "- `append()`: Adds an item to the end of the list.\n",
    "- `insert()`: Inserts an item at a specific position.\n",
    "- `remove()`: Removes the first occurrence of a specific value.\n",
    "- `pop()`: Removes an item at a specific index.\n",
    "- `clear()`: Removes all items from the list."
   ]
  },
  {
   "cell_type": "markdown",
   "id": "mb-RjPROu6fE",
   "metadata": {
    "id": "mb-RjPROu6fE"
   },
   "source": [
    "#### Combining Lists\n",
    "\n",
    "You can combine two or more lists using the `+` operator or the `extend()` method.\n",
    "\n",
    "```python\n",
    "fruits1 = [\"apple\", \"banana\"]\n",
    "fruits2 = [\"orange\", \"grapes\"]\n",
    "combined_fruits = fruits1 + fruits2\n",
    "fruits1.extend(fruits2)\n",
    "```"
   ]
  },
  {
   "cell_type": "markdown",
   "id": "KIc5xShOuvvM",
   "metadata": {
    "id": "KIc5xShOuvvM"
   },
   "source": [
    "#### Modifying List Items\n",
    "\n",
    "Lists are mutable, so you can change the values of individual items by assigning new values to their corresponding indices.\n",
    "\n",
    "```python\n",
    "fruits[2] = \"pear\"\n",
    "# Now the list becomes: [\"apple\", \"banana\", \"pear\", \"grapes\"]\n",
    "```"
   ]
  },
  {
   "cell_type": "markdown",
   "id": "t5T6yzKPvEzE",
   "metadata": {
    "id": "t5T6yzKPvEzE"
   },
   "source": [
    "#### Finding List Length\n",
    "\n",
    "To find the number of items in a list, use the `len()` function.\n",
    "\n",
    "```python\n",
    "num_fruits = len(fruits)\n",
    "```"
   ]
  },
  {
   "cell_type": "markdown",
   "id": "zcl0J8Dzv8y7",
   "metadata": {
    "id": "zcl0J8Dzv8y7"
   },
   "source": [
    "#### Calculating the Sum of a List\n",
    "Calculate the sum of numbers in list.\n",
    "\n",
    "```python\n",
    "numbers = [10, 20, 30, 40, 50]\n",
    "total = sum(numbers)\n",
    "print(\"Sum:\", total)  # Output: Sum: 150\n",
    "```"
   ]
  },
  {
   "cell_type": "markdown",
   "id": "yA7a3N11ur4M",
   "metadata": {
    "id": "yA7a3N11ur4M"
   },
   "source": [
    "**Example**:\n",
    "\n",
    "```python\n",
    "my_list = [\"a\", \"c\", \"b\", \"e\", \"d\"]\n",
    "\n",
    "# Append an element\n",
    "my_list.append(\"f\") # ['a', 'c', 'b', 'e', 'd', 'f']\n",
    "\n",
    "# Insert an element\n",
    "my_list.insert(2, \"z\") # ['a', 'c', 'z', 'b', 'e', 'd', 'f']\n",
    "\n",
    "# Remove an element\n",
    "my_list.remove(\"z\") # ['a', 'c', 'b', 'e', 'd', 'f']\n",
    "\n",
    "# Print the length of the list\n",
    "length = len(my_list)\n",
    "print(\"Length of the list:\", length) # Length of the list: 6\n",
    "\n",
    "# Sort the list\n",
    "my_list.sort() # ['a', 'b', 'c', 'd', 'e', 'f']\n",
    "\n",
    "# Reverse the list\n",
    "my_list.reverse() # ['f', 'e', 'd', 'c', 'b', 'a']\n",
    "\n",
    "# Extend the list\n",
    "another_list = [8, 9, 10]\n",
    "my_list.extend(another_list) # ['f', 'e', 'd', 'c', 'b', 'a', 8, 9, 10]\n",
    "\n",
    "# Clear the list\n",
    "my_list.clear()\n",
    "\n",
    "print(\"Modified list:\", my_list) # Modified list: []\n",
    "```\n",
    "\n",
    "\n",
    "Lists are incredibly useful for storing and manipulating collections of data. They allow you to perform various operations efficiently and dynamically adjust the list size as needed."
   ]
  },
  {
   "cell_type": "markdown",
   "id": "uKYtJepv4WMA",
   "metadata": {
    "id": "uKYtJepv4WMA"
   },
   "source": [
    "### Exercise 2: List Operations Practice\n",
    "\n",
    "**Objective:** Practice using various list operations in Python.\n",
    "\n",
    "**Instructions:**\n",
    "\n",
    "Given the initial list `my_list`:\n",
    "\n",
    "```python\n",
    "my_list = [\"x\", \"y\", \"c\", \"q\", \"p\"]\n",
    "```\n",
    "\n",
    "Complete the following tasks using list operations:\n",
    "\n",
    "1. Append the element \"b\" to the list.\n",
    "2. Insert the element \"o\" at index 2.\n",
    "3. Remove the element \"q\" from the list.\n",
    "4. Print the length of the list using the `len()` function.\n",
    "5. Sort the list in ascending order.\n",
    "6. Reverse the list.\n",
    "7. Create another list `another_list` with elements `['a', 't', 's']`. Extend `my_list` with the elements of `another_list`.\n",
    "8. Find the index of the element \"c\" in the list using the `.index(\"c\")` method and print it.\n",
    "9. Calculate the sum of the `my_list2 = [10,34,54,10]` using the `sum(my_list2)` function and print it.\n",
    "\n",
    "**Your Task:**\n",
    "\n",
    "For each task, apply the specified list operation and print the modified `my_list` or the result of the operation.\n",
    "\n",
    "**Example Output:**\n",
    "\n",
    "```\n",
    "Task 1: ['x', 'y', 'c', 'q', 'p', 'b']\n",
    "Task 2: ['x', 'y', 'o', 'c', 'q', 'p', 'b']\n",
    "Task 3: ['x', 'y', 'o', 'c', 'p', 'b']\n",
    "Task 4: Length of the list: 6\n",
    "Task 5: ['b', 'c', 'o', 'p', 'x', 'y']\n",
    "Task 6: ['y', 'x', 'p', 'o', 'c', 'b']\n",
    "Task 7: ['y', 'x', 'p', 'o', 'c', 'b', 'a', 't', 's']\n",
    "Task 8: Index of 'c' in the list: 4\n",
    "Task 9: Sum: 108\n",
    "```"
   ]
  },
  {
   "cell_type": "code",
   "execution_count": null,
   "id": "jIXnkjvz6U2Z",
   "metadata": {
    "id": "jIXnkjvz6U2Z"
   },
   "outputs": [],
   "source": [
    "# Do Task 1 in this cell\n",
    "#\n",
    "#\n",
    "#"
   ]
  },
  {
   "cell_type": "code",
   "execution_count": null,
   "id": "BPhxb_7J6Uxp",
   "metadata": {
    "id": "BPhxb_7J6Uxp"
   },
   "outputs": [],
   "source": [
    "# Do Task 2 in this cell\n",
    "#\n",
    "#\n",
    "#"
   ]
  },
  {
   "cell_type": "code",
   "execution_count": null,
   "id": "-JmtNeAw6Us3",
   "metadata": {
    "id": "-JmtNeAw6Us3"
   },
   "outputs": [],
   "source": [
    "# Do Task 3 in this cell\n",
    "#\n",
    "#\n",
    "#"
   ]
  },
  {
   "cell_type": "code",
   "execution_count": null,
   "id": "-r79VARx6Un4",
   "metadata": {
    "id": "-r79VARx6Un4"
   },
   "outputs": [],
   "source": [
    "# Do Task 4 in this cell\n",
    "#\n",
    "#\n",
    "#"
   ]
  },
  {
   "cell_type": "code",
   "execution_count": null,
   "id": "p20fkPx86UZ_",
   "metadata": {
    "id": "p20fkPx86UZ_"
   },
   "outputs": [],
   "source": [
    "# Do Task 5 in this cell\n",
    "#\n",
    "#\n",
    "#"
   ]
  },
  {
   "cell_type": "code",
   "execution_count": null,
   "id": "RLkV8aCX6UTw",
   "metadata": {
    "id": "RLkV8aCX6UTw"
   },
   "outputs": [],
   "source": [
    "# Do Task 6 in this cell\n",
    "#\n",
    "#\n",
    "#"
   ]
  },
  {
   "cell_type": "code",
   "execution_count": null,
   "id": "WHiEwTKx6UNX",
   "metadata": {
    "id": "WHiEwTKx6UNX"
   },
   "outputs": [],
   "source": [
    "# Do Task 7 in this cell\n",
    "#\n",
    "#\n",
    "#"
   ]
  },
  {
   "cell_type": "code",
   "execution_count": null,
   "id": "4jy7jlbI6UDc",
   "metadata": {
    "id": "4jy7jlbI6UDc"
   },
   "outputs": [],
   "source": [
    "# Do Task 8 in this cell\n",
    "#\n",
    "#\n",
    "#"
   ]
  },
  {
   "cell_type": "code",
   "execution_count": null,
   "id": "ArAQ5Cmu5uZI",
   "metadata": {
    "id": "ArAQ5Cmu5uZI"
   },
   "outputs": [],
   "source": [
    "# Do Task 9 in this cell\n",
    "#\n",
    "#\n",
    "#"
   ]
  },
  {
   "cell_type": "markdown",
   "id": "VAHQgW2wt3s1",
   "metadata": {
    "id": "VAHQgW2wt3s1"
   },
   "source": [
    "### Exercise 3: Employee Data Management\n",
    "\n",
    "**Objective:** Practice using lists and indexing to manage and analyze employee data.\n",
    "\n",
    "**Instructions:**\n",
    "\n",
    "Imagine you are managing employee data for a company. Each employee's data is stored in a list containing their name, age, and salary.\n",
    "\n",
    "1. Create individual lists for four employees:\n",
    "   - Employee 1: \"Danial\", 24 years old, salary: 30000.0, gender: \"male\"\n",
    "   - Employee 2: \"Dani Danail\",  salary: 40000.0, gender: \"female\"\n",
    "   - Employee 3: \"Aliza\",  salary: 10000.0, gender: \"female\"\n",
    "   - Employee 4: \"Ali\", 27 years old, salary: 20000.0, gender: \"male\"\n",
    "\n",
    "   **Hint:** Create 4 variables and assign them lists similar to this:\n",
    "   ```python\n",
    "   employee_1=[ \"Danial\", 24, 50000.0]\n",
    "   ```\n",
    "\n",
    "2. Use the `append()` method to add the gender of each employee to their respective lists.\n",
    "   ```python\n",
    "   employee_1.append(\"male\")\n",
    "   ```\n",
    "\n",
    "3. Calculate the average salary of all employees by summing up the salaries of each employee and dividing by the total number of employees. Print the average salary.\n",
    "\n",
    "   ```python\n",
    "   avg = (employee_1[i] + .... + .... ) / 4\n",
    "   ```\n",
    "  **Hint:** i is index number of salary\n",
    "\n",
    "**Example Output:**\n",
    "```\n",
    "Average Salary: 25000.0\n",
    "```"
   ]
  },
  {
   "cell_type": "code",
   "execution_count": null,
   "id": "An76LJJD3I7G",
   "metadata": {
    "id": "An76LJJD3I7G"
   },
   "outputs": [],
   "source": [
    "# Do Exercise 3 in this cell\n",
    "#\n",
    "#\n",
    "#"
   ]
  },
  {
   "cell_type": "markdown",
   "id": "xRC_jDm90Rsa",
   "metadata": {
    "id": "xRC_jDm90Rsa"
   },
   "source": [
    "### Exercise 4: Student Highest Grades\n",
    "\n",
    "**Objective:** Practice using lists and the `max()` function to analyze student grades.\n",
    "\n",
    "**Instructions:**\n",
    "\n",
    "You have a list of student grades and a corresponding list of student names. Your goal is to find the highest grade and determine the name of the student who achieved it.\n",
    "\n",
    "1. Create two lists:\n",
    "   - `student_names`: A list containing the names of the students.\n",
    "\n",
    "    `student_names = [\"Alice\", \"Bob\"....]`\n",
    "   - `grades`: A list containing the grades of the students in the same order.\n",
    "    `grades = [85, 90.....]`\n",
    "\n",
    "\n",
    "2. Use the `max()` function to find the highest grade in the `grades` list.\n",
    "   ```python\n",
    "   max_grade = max(grades)\n",
    "   print(max_grade)\n",
    "   ```\n",
    "\n",
    "3. Find the index of the highest grade in the `grades` list using the `index()` method.\n",
    "   ```python\n",
    "   index_highest_grade = grades.index(max_grade)\n",
    "   ```\n",
    "\n",
    "4. Use the `index_highest_grade` to access the corresponding student name from the `student_names` list.\n",
    "   ```python\n",
    "   student_with_highest_grade = student_names[index_highest_grade]\n",
    "   ```\n",
    "\n",
    "5. Print the name of the student with the highest grade.\n",
    "\n",
    "**Example Output:**\n",
    "```\n",
    "Student with the highest grade: Name\n",
    "```"
   ]
  },
  {
   "cell_type": "code",
   "execution_count": null,
   "id": "bcr3Wdsrt4EO",
   "metadata": {
    "id": "bcr3Wdsrt4EO"
   },
   "outputs": [],
   "source": [
    "# Do Exercise 4 in this cell\n",
    "student_names = [\"Alice\", \"Bob\", \"Atif\", \"Dexter\"]\n",
    "grades = grades = [85, 90, 78, 98]\n"
   ]
  },
  {
   "cell_type": "markdown",
   "id": "jfAqWkFa6ow_",
   "metadata": {
    "id": "jfAqWkFa6ow_"
   },
   "source": [
    "### Tuple\n",
    "\n",
    "A tuple is similar to a list in Python, but with a key difference:\n",
    "\n",
    "a tuple is immutable, meaning once you create a tuple, you cannot change its elements, add new elements, or remove elements from it.\n",
    "\n",
    "It's like a constant list with a fixed size and content that cannot be changed."
   ]
  },
  {
   "cell_type": "markdown",
   "id": "-_vPgtif6viX",
   "metadata": {
    "id": "-_vPgtif6viX"
   },
   "source": [
    "![tuples.png](data:image/png;base64,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)"
   ]
  }
 ],
 "metadata": {
  "colab": {
   "collapsed_sections": [
    "xwGLsYuzaOgJ"
   ],
   "provenance": [],
   "toc_visible": true
  },
  "kernelspec": {
   "display_name": "Python 3 (ipykernel)",
   "language": "python",
   "name": "python3"
  },
  "language_info": {
   "codemirror_mode": {
    "name": "ipython",
    "version": 3
   },
   "file_extension": ".py",
   "mimetype": "text/x-python",
   "name": "python",
   "nbconvert_exporter": "python",
   "pygments_lexer": "ipython3",
   "version": "3.11.4"
  }
 },
 "nbformat": 4,
 "nbformat_minor": 5
}
