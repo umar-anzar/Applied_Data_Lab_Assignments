{
 "cells": [
  {
   "cell_type": "markdown",
   "id": "8c341bc7",
   "metadata": {
    "id": "8c341bc7"
   },
   "source": [
    "# Applied Data Lab\n",
    "\n",
    "# Assignment 04 Part 2:"
   ]
  },
  {
   "cell_type": "markdown",
   "id": "3afwZdP1eg6m",
   "metadata": {
    "id": "3afwZdP1eg6m"
   },
   "source": [
    "## Dataset (CSV)\n",
    "\n",
    "Comma-Separated Values (CSV) is a format used to store data in a file on a hard drive. It is commonly used to represent tabular data similar to how data is organized in spreadsheet software like Excel. In a CSV file, each line represents a row of data, and the values within each row are separated by commas. This format makes it easy to both store and exchange data in a simple and human-readable form.\n",
    "\n",
    "Data in Spreadsheet look like this"
   ]
  },
  {
   "cell_type": "markdown",
   "id": "UAHGHIi3hUI1",
   "metadata": {
    "id": "UAHGHIi3hUI1"
   },
   "source": [
    "![image_2023-09-05_230526168.png](data:image/png;base64,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)"
   ]
  },
  {
   "cell_type": "markdown",
   "id": "OnlsMktzhWSF",
   "metadata": {
    "id": "OnlsMktzhWSF"
   },
   "source": [
    "But actually If you open data in a text file, it look like this"
   ]
  },
  {
   "cell_type": "markdown",
   "id": "WaxPA5GUhaVF",
   "metadata": {
    "id": "WaxPA5GUhaVF"
   },
   "source": [
    "![image_2023-09-05_230611247.png](data:image/png;base64,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)"
   ]
  },
  {
   "cell_type": "markdown",
   "id": "s84TYyC8hiG9",
   "metadata": {
    "id": "s84TYyC8hiG9"
   },
   "source": [
    "Each value is separated by commas, and each record is placed on a new line.\n",
    "\n",
    "This is one of the many ways to save data as a file on a hard disk."
   ]
  },
  {
   "cell_type": "markdown",
   "id": "ZdR7SqgGt1Pm",
   "metadata": {
    "id": "ZdR7SqgGt1Pm"
   },
   "source": [
    "## Setting Up the Address\n",
    "In this cell, a path variable is set with the value of the current directory where the notebook is open. This is done to easily upload the dataset file from this location."
   ]
  },
  {
   "cell_type": "code",
   "execution_count": null,
   "id": "g7UvjMzSaPW3",
   "metadata": {
    "id": "g7UvjMzSaPW3"
   },
   "outputs": [],
   "source": [
    "# Run this cell\n",
    "import os\n",
    "PATH = os.getcwd() + '/'\n",
    "PATH"
   ]
  },
  {
   "cell_type": "markdown",
   "id": "hio8vNa6Z7Rw",
   "metadata": {
    "id": "hio8vNa6Z7Rw"
   },
   "source": [
    "**ONLY FOR GOOGLE COLAB USERS**\n",
    "\n",
    "For those who are using **Google Colab**, uncomment and run the cell below.\n",
    "\n",
    "**Note**: You have to repalce value of variable `YOUR_PATH_TO_DATASET_DIRECTORY` with the path where your dataset is placed in the Google Drive folder.\n",
    "\n"
   ]
  },
  {
   "cell_type": "code",
   "execution_count": null,
   "id": "o1q0rU2XaGy0",
   "metadata": {
    "id": "o1q0rU2XaGy0"
   },
   "outputs": [],
   "source": [
    "# from google.colab import drive\n",
    "# drive.mount('/content/drive/')\n",
    "# YOUR_PATH_TO_DATASET_DIRECTORY = \"ADL_work\"\n",
    "# PATH = \"/content/drive/MyDrive/\"+YOUR_PATH_TO_DATASET_DIRECTORY+\"/\"\n",
    "# PATH"
   ]
  },
  {
   "cell_type": "markdown",
   "id": "Dyrn_6hzSZfR",
   "metadata": {
    "id": "Dyrn_6hzSZfR"
   },
   "source": [
    "## Working on Student Dataset"
   ]
  },
  {
   "cell_type": "markdown",
   "id": "JrK4nFKeaFJP",
   "metadata": {
    "id": "JrK4nFKeaFJP"
   },
   "source": [
    "### Opening and Importing CSV Files"
   ]
  },
  {
   "cell_type": "markdown",
   "id": "SslFAzufSk-q",
   "metadata": {
    "id": "SslFAzufSk-q"
   },
   "source": [
    "In Python, you can import CSV files using the `open()` function. Here's some information about the `open()` function and how to use it for CSV files:\n",
    "\n",
    "1. **`open()` Function:**\n",
    "   - The `open()` function is a built-in Python function used to open and manipulate files.\n",
    "   - It takes two main arguments: the **file name (including the path)** and the **mode** in which you want to open the file.\n",
    "   - The `open()` function returns a file object that you can use to perform various file operations like reading, writing, and more.\n",
    "   ```python\n",
    "   file = open('file.text', 'r', encoding='utf-8')\n",
    "   ```\n",
    "   - Common modes include:\n",
    "   \n",
    "| Mode  | Description                                                                                    |\n",
    "|-------|------------------------------------------------------------------------------------------------|\n",
    "| `'r'` | Read (default) - Opens the file for reading.                                                   |\n",
    "| `'w'` | Write - Opens the file for writing (creates a new file if it doesn't exist, truncates the file if it exists). |\n",
    "| `'a'` | Append - Opens the file for writing (creates a new file if it doesn't exist, appends data if it exists).     |\n",
    "| `'b'` | Binary mode (e.g., `'rb'` or `'wb'`) - Used for reading or writing binary files.                       |\n",
    "\n",
    "2. **CSV File Specifics:**\n",
    "   - First, you need to import the `csv` module using `import csv`.\n",
    "   - When opening a CSV file, you typically use the `'r'` mode for reading.\n",
    "   - To specify the encoding (e.g., UTF-8), you can include the `encoding` parameter when opening the file.\n",
    "   - You can also specify the delimiter used in the CSV file by using the `delimiter` parameter, like this:\n",
    "   ```python\n",
    "   import csv\n",
    "   file = open('file.csv', 'r', encoding='utf-8')\n",
    "   csv_reader = csv.reader(file, delimiter=',')\n",
    "   ```\n",
    "   The delimiter is the character that separates values within each row of the CSV file. A comma (`,`), for example, is the most common delimiter, but other characters (like tabs or semicolons) can be used as well.\n",
    "\n",
    "3. **Closing the File:**\n",
    "   - It's important to **close the file when you're done** with it using the `close()` method on the file object. This ensures that any changes are saved and that the file resources are released.\n",
    "   ```python\n",
    "   file.close()\n",
    "   ```\n",
    "   - You can also use the `with` statement to open the file. This way, the file will be automatically closed when the block of code is exited. It's a recommended practice to use the `with` statement for file operations to ensure proper resource management.\n",
    "\n",
    "Here are two examples of opening and reading a CSV file:\n",
    "\n",
    "**Example 1:**\n",
    "```python\n",
    "import csv\n",
    "file = open('data.csv', 'r', encoding='utf-8', delimiter=',')\n",
    "csv_reader = csv.reader(file, delimiter=',')\n",
    "\n",
    "for line in csv_reader:\n",
    "    # Process each line (row)\n",
    "    print(line)\n",
    "\n",
    "# File is manually closed\n",
    "file.close()\n",
    "```\n",
    "\n",
    "**Example 2:**\n",
    "```python\n",
    "import csv\n",
    "with open('data.csv', 'r', encoding='utf-8', delimiter=',') as file:\n",
    "    csv_reader = csv.reader(file, delimiter=',')\n",
    "    \n",
    "    for line in csv_reader:\n",
    "        # Process each line (row)\n",
    "        print(line)\n",
    "# File is automatically closed when the 'with' block exits\n",
    "```"
   ]
  },
  {
   "cell_type": "markdown",
   "id": "ybLYVEbmul9g",
   "metadata": {
    "id": "ybLYVEbmul9g"
   },
   "source": [
    "### Exercise 1: Importing CSV File\n",
    "\n",
    "**Task 1:**\n",
    "- Import `csv` module"
   ]
  },
  {
   "cell_type": "code",
   "execution_count": null,
   "id": "wgXF61Qrfu7P",
   "metadata": {
    "id": "wgXF61Qrfu7P"
   },
   "outputs": [],
   "source": [
    "# Do Task 1 in this cell\n",
    "#\n",
    "#\n",
    "#"
   ]
  },
  {
   "cell_type": "markdown",
   "id": "Nhm_h3-ivI8V",
   "metadata": {
    "id": "Nhm_h3-ivI8V"
   },
   "source": [
    "**Task 2:** If you have the dataset then don't perform this task\n",
    "- Download student data by clicking this link [DOWNLOAD](https://github.com/umar-anzar/Applied_Data_Lab_Assignments/raw/master/phase_1/student_data.csv)\n",
    "- If the download doesn't start automatically, **right-click** on the page that opens after clicking this link. Then, select **\"Save As\"** and rename the file to **\"student_data.csv\"** Save it.\n",
    "- Move the dataset file to the folder where this current notebook exists at the same location."
   ]
  },
  {
   "cell_type": "markdown",
   "id": "klFP5h2x_RMi",
   "metadata": {
    "id": "klFP5h2x_RMi"
   },
   "source": [
    "**Task 3:**\n",
    "- The `PATH` variable contains the current directory path location. Concatenate `'student_data.csv'` to it and use it as the file location in `open(path,...)`:\n",
    "\n",
    "```python\n",
    "open(PATH + 'student_data.csv', 'r', encoding='utf-8')\n",
    "```\n",
    "\n",
    "- Use `csv.reader` to read the file as `csv_reader`."
   ]
  },
  {
   "cell_type": "code",
   "execution_count": null,
   "id": "hc54tKlSAw06",
   "metadata": {
    "id": "hc54tKlSAw06"
   },
   "outputs": [],
   "source": [
    "# Do Task 3 in this cell\n",
    "#\n",
    "#\n",
    "#"
   ]
  },
  {
   "cell_type": "markdown",
   "id": "K9DZAYClBo4e",
   "metadata": {
    "id": "K9DZAYClBo4e"
   },
   "source": [
    "**Task 4:**\n",
    "- Typecast `csv_reader` to a list using the `list()` function and save it in a variable named `data`. Then, print the variable `data`.\n",
    "\n",
    "**Note:** Do not run this cell more than once. If you get the output on the screen, running it again will result in an empty list. If that happens, you'll need to run the above cell again to import the file before running this cell again."
   ]
  },
  {
   "cell_type": "code",
   "execution_count": null,
   "id": "gEYBRtRIsTSv",
   "metadata": {
    "id": "gEYBRtRIsTSv"
   },
   "outputs": [],
   "source": [
    "# Do Task 4 in this cell\n",
    "#\n",
    "#\n",
    "#"
   ]
  },
  {
   "cell_type": "markdown",
   "id": "abusm_brs0DP",
   "metadata": {
    "id": "abusm_brs0DP"
   },
   "source": [
    "**Task 5:**\n",
    "- Perform an iteration on the data using a `for` loop and print each record.\n",
    "\n",
    "**Hint:** `for record in data`\n",
    "\n",
    "The expected output would be like this:\n",
    "```\n",
    "['roll no', 'Name', 'Chemistry', 'Physics', 'Math']\n",
    "['101', 'Aliza', '50', '23', '87']\n",
    "['102', 'Fareed', '45', '24', '88']\n",
    ".\n",
    ".\n",
    ".\n",
    "['120', 'Danial', '63', '77', '82']\n",
    "```"
   ]
  },
  {
   "cell_type": "code",
   "execution_count": null,
   "id": "dhmV9hljtLsu",
   "metadata": {
    "id": "dhmV9hljtLsu"
   },
   "outputs": [],
   "source": [
    "# Do Task 5 in this cell\n",
    "#\n",
    "#\n",
    "#"
   ]
  }
 ],
 "metadata": {
  "colab": {
   "provenance": []
  },
  "kernelspec": {
   "display_name": "Python 3 (ipykernel)",
   "language": "python",
   "name": "python3"
  },
  "language_info": {
   "codemirror_mode": {
    "name": "ipython",
    "version": 3
   },
   "file_extension": ".py",
   "mimetype": "text/x-python",
   "name": "python",
   "nbconvert_exporter": "python",
   "pygments_lexer": "ipython3",
   "version": "3.11.4"
  }
 },
 "nbformat": 4,
 "nbformat_minor": 5
}
