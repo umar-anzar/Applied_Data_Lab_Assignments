{
 "cells": [
  {
   "cell_type": "markdown",
   "id": "8c341bc7",
   "metadata": {
    "id": "8c341bc7"
   },
   "source": [
    "# Applied Data Lab\n",
    "\n",
    "# Assignment 03 Part 2:"
   ]
  },
  {
   "cell_type": "markdown",
   "id": "HYCA0bwRgYEr",
   "metadata": {
    "id": "HYCA0bwRgYEr"
   },
   "source": [
    "## Conditional Operators and Statements"
   ]
  },
  {
   "cell_type": "markdown",
   "id": "687fe6d0",
   "metadata": {
    "id": "687fe6d0"
   },
   "source": [
    "### Conditional Operators\n",
    "\n",
    "Conditional operators, also known as comparison operators, are used to compare values and evaluate conditions. They return a boolean value (`True` or `False`) based on whether the comparison is true or false.\n",
    "\n",
    "Here are the common conditional operators in a Markdown table:\n",
    "\n",
    "| Operator | Description               | Example 1                   | Example 2                   |\n",
    "|----------|---------------------------|-----------------------------|-----------------------------|\n",
    "| `==`     | Equal to                  | `5 == 5` (True)             | `6 == 4` (False)            |\n",
    "| `!=`     | Not equal to              | `5 != 6` (True)             | `6 != 6` (False)            |\n",
    "| `<`      | Less than                 | `5 < 6` (True)              | `6 < 5` (False)             |\n",
    "| `>`      | Greater than              | `6 > 5` (True)              | `5 > 6` (False)             |\n",
    "| `<=`     | Less than or equal to     | `5 <= 6` (True)             | `5 <= 5` (True)             |\n",
    "| `>=`     | Greater than or equal to  | `6 >= 5` (True)             | `5 >= 6` (False)            |\n",
    "\n",
    "**Example 1:**\n"
   ]
  },
  {
   "cell_type": "code",
   "execution_count": null,
   "id": "5AxXLn4PuEou",
   "metadata": {
    "id": "5AxXLn4PuEou"
   },
   "outputs": [],
   "source": [
    "# Run this cell\n",
    "# Basic examples of using conditional operators\n",
    "print(5 == 5)       # Output: True\n",
    "print(5 == 4)       # Output: False\n",
    "\n",
    "print(6 != 4)       # Output: True\n",
    "print(3 != 3)       # Output: False\n",
    "\n",
    "print(5 < 6)        # Output: True\n",
    "print(6 > 5)        # Output: True\n",
    "print(7 < 7)        # Output: False\n",
    "print(10 > 20)      # Output: False\n",
    "\n",
    "print(5 <= 5)       # Output: True\n",
    "print(6 >= 5)       # Output: True\n",
    "print(2.2 >= 2.3)   # Output: False"
   ]
  },
  {
   "cell_type": "markdown",
   "id": "4ENp6Q_XU0KQ",
   "metadata": {
    "id": "4ENp6Q_XU0KQ"
   },
   "source": [
    "### Exercise 1: Conditional Operators Practice\n",
    "\n",
    "**Task 1:** Using conditional operators, evaluate and print the results of the following expressions:\n",
    "1. Is 10 equal to 20?\n",
    "2. Is 15 not equal to 15?\n",
    "3. Is 8 less than 6?\n",
    "4. Is 25 greater than or equal to 25?\n",
    "\n",
    "**Hint:**\n",
    "```python\n",
    "# Task 1\n",
    "print(10 == 20)   # Output: False\n",
    ".\n",
    ".\n",
    "```"
   ]
  },
  {
   "cell_type": "code",
   "execution_count": null,
   "id": "CkofbzUwUzyJ",
   "metadata": {
    "id": "CkofbzUwUzyJ"
   },
   "outputs": [],
   "source": [
    "# Do Task 1 in this cell\n",
    "#\n",
    "#\n",
    "#"
   ]
  },
  {
   "cell_type": "markdown",
   "id": "yHIxudJMn4ya",
   "metadata": {
    "id": "yHIxudJMn4ya"
   },
   "source": [
    "### Conditional Statements"
   ]
  },
  {
   "cell_type": "markdown",
   "id": "WP5WhRgFn6di",
   "metadata": {
    "id": "WP5WhRgFn6di"
   },
   "source": [
    "In programming, just as we make decisions every day, the concept of **decision-making** is replicated using **conditional statements**. These statements enable your program to take different paths based on certain conditions. The most common types of conditional statements are `if`, `if-else`, and `if-elif-else`.\n",
    "\n",
    "Imagine how we make decisions in real life. For instance, before heading to university, we might check the weather. If the weather is not rainy, we decide to go; otherwise, we stay home. This same decision-making process can be translated into programming:\n",
    "\n",
    "```\n",
    "if (weather is not rainy):\n",
    "    # If the weather is not rainy, go to university\n",
    "    Goto University\n",
    "else:\n",
    "    # If the weather is rainy, stay home\n",
    "    Don't Goto University\n",
    "```\n",
    "\n",
    "The syntax for conditional statements is straightforward: everything that is in the `if` code block is indented (spaced) by a single `tab` size.\n",
    "\n",
    "- For a basic `if` statement:\n",
    "  ```python\n",
    "  if (condition):\n",
    "      Statement(s) # run when the condition is true\n",
    "  ```\n",
    "\n",
    "- For an `if-else` statement:\n",
    "  ```python\n",
    "  if (condition):\n",
    "      Statement(s) # run when the condition is true\n",
    "  else:\n",
    "      Statement(s) # run when the condition is false\n",
    "  ```"
   ]
  },
  {
   "cell_type": "markdown",
   "id": "OonK_jItpKmh",
   "metadata": {
    "id": "OonK_jItpKmh"
   },
   "source": [
    "#### `If` Statement\n",
    "\n",
    "The `if` statement is used to execute a block of code only if a certain condition is `True`.\n",
    "\n",
    "**Example 2:**"
   ]
  },
  {
   "cell_type": "code",
   "execution_count": null,
   "id": "JHUfFhxopXxu",
   "metadata": {
    "id": "JHUfFhxopXxu"
   },
   "outputs": [],
   "source": [
    "# Run this cell\n",
    "\n",
    "# In this example, the `if` statement's condition is True, so the statement `a = a + 10` will execute\n",
    "a = 25\n",
    "if True:\n",
    "    a = a + 10\n",
    "\n",
    "print(a)  # Output: 35"
   ]
  },
  {
   "cell_type": "code",
   "execution_count": null,
   "id": "VR3T0EjrpZLR",
   "metadata": {
    "id": "VR3T0EjrpZLR"
   },
   "outputs": [],
   "source": [
    "# Run this cell\n",
    "\n",
    "# In this example, the `if` statement's condition is False, so the statement `b = b - 5` won't execute\n",
    "b = 30\n",
    "if (False):\n",
    "    b = b - 5\n",
    "\n",
    "print(b)  # Output: 30"
   ]
  },
  {
   "cell_type": "code",
   "execution_count": null,
   "id": "PBp7RJaXsRHP",
   "metadata": {
    "id": "PBp7RJaXsRHP"
   },
   "outputs": [],
   "source": [
    "# Run this cell\n",
    "\n",
    "# In this example, 25 is greater than 20 so this will return True and print statement will execute\n",
    "temperature = 25\n",
    "if temperature > 20:\n",
    "    print(\"It's a warm day!\")"
   ]
  },
  {
   "cell_type": "markdown",
   "id": "p5bam0rtsEQp",
   "metadata": {
    "id": "p5bam0rtsEQp"
   },
   "source": [
    "#### `If-else` Statement\n",
    "\n",
    "The `if-else` statement allows you to execute one block of code if the condition is `True`, and a different block if it's `False`.\n",
    "\n",
    "**Example 3:**\n",
    "\n",
    "In this example, if the first condition is true, the `if` block is executed; otherwise, the `else` block is executed:"
   ]
  },
  {
   "cell_type": "code",
   "execution_count": null,
   "id": "jmWcJZ-ks7ZP",
   "metadata": {
    "id": "jmWcJZ-ks7ZP"
   },
   "outputs": [],
   "source": [
    "# Run this cell\n",
    "\n",
    "# Example 1: Checking voting eligibility\n",
    "\n",
    "age = 17\n",
    "\n",
    "if age >= 18:\n",
    "    print(\"You can vote!\")\n",
    "else:\n",
    "    print(\"You can't vote yet.\")"
   ]
  },
  {
   "cell_type": "code",
   "execution_count": null,
   "id": "qgxnnfEGs7JY",
   "metadata": {
    "id": "qgxnnfEGs7JY"
   },
   "outputs": [],
   "source": [
    "# Run this cell\n",
    "\n",
    "age = 19\n",
    "\n",
    "if age >= 18:\n",
    "    print(\"You can vote!\")\n",
    "else:\n",
    "    print(\"You can't vote yet.\")"
   ]
  },
  {
   "cell_type": "markdown",
   "id": "J3-9qJJqww0V",
   "metadata": {
    "id": "J3-9qJJqww0V"
   },
   "source": [
    "In the above code, the program checks if the person's age is 18 or older. If it is, the message \"You can vote!\" is printed; otherwise, \"You can't vote yet.\" is printed."
   ]
  },
  {
   "cell_type": "markdown",
   "id": "CmXVDiF5s8-5",
   "metadata": {
    "id": "CmXVDiF5s8-5"
   },
   "source": [
    "#### `if-elif` and `if-elif-else` Statement\n",
    "\n",
    "The `if-elif-else` statement lets you check multiple conditions in sequence and execute the code block associated with the first `True` condition.\n",
    "\n",
    "For instance, when grading students, you might check if their marks are above 90. If not, you then check if their marks are above 80. If not, you check if their marks are above 70, and so on.\n",
    "\n",
    "In the following code, the program checks the student's grade and prints the corresponding letter grade based on the **first condition** that is true.\n",
    "\n",
    "**Example 4: Case 1**\n",
    "\n",
    "In this case:\n",
    "- Since the grade is 85, the first condition (`grade >= 90`) is false.\n",
    "- The second condition (`grade >= 80`) is true, so \"B\" is printed.\n",
    "- The rest of the conditions are not checked once a true condition is found.\n"
   ]
  },
  {
   "cell_type": "code",
   "execution_count": null,
   "id": "O2imndOduhJo",
   "metadata": {
    "id": "O2imndOduhJo"
   },
   "outputs": [],
   "source": [
    "# Run this cell\n",
    "\n",
    "grade = 85\n",
    "\n",
    "if grade >= 90:\n",
    "    print(\"Grade A\")\n",
    "elif grade >= 80:\n",
    "    print(\"Grade B\")\n",
    "elif grade >= 70:\n",
    "    print(\"Grade C\")"
   ]
  },
  {
   "cell_type": "markdown",
   "id": "RxosarQsxFN3",
   "metadata": {
    "id": "RxosarQsxFN3"
   },
   "source": [
    "**Example 4: Case 2**\n",
    "\n",
    "In this example, none of the conditions (`grade >= 90`, `grade >= 80`, `grade >= 70`) are true. So, nothing is printed."
   ]
  },
  {
   "cell_type": "code",
   "execution_count": null,
   "id": "8no3VSJjv6be",
   "metadata": {
    "id": "8no3VSJjv6be"
   },
   "outputs": [],
   "source": [
    "# Run this cell\n",
    "\n",
    "# all condition get false so nothing is print\n",
    "grade = 50\n",
    "\n",
    "if grade >= 90:\n",
    "    print(\"Grade A\")\n",
    "elif grade >= 80:\n",
    "    print(\"Grade B\")\n",
    "elif grade >= 70:\n",
    "    print(\"Grade C\")"
   ]
  },
  {
   "cell_type": "markdown",
   "id": "45EmTRJKx3sW",
   "metadata": {
    "id": "45EmTRJKx3sW"
   },
   "source": [
    "**Example 4: Case 3 Handling default case with else**\n",
    "\n",
    "In this example, none of the conditions (`grade >= 90`, `grade >= 80`, `grade >= 70`) are true. So, the `else` block is executed, and \"D\" is printed as the default grade."
   ]
  },
  {
   "cell_type": "code",
   "execution_count": null,
   "id": "WAfKghleug9_",
   "metadata": {
    "id": "WAfKghleug9_"
   },
   "outputs": [],
   "source": [
    "# Run this cell\n",
    "\n",
    "# All condition return false so else block is print as default\n",
    "\n",
    "grade = 68\n",
    "\n",
    "if grade >= 90:\n",
    "    print(\"Grade A\")\n",
    "elif grade >= 80:\n",
    "    print(\"Grade B\")\n",
    "elif grade >= 70:\n",
    "    print(\"Grade C\")\n",
    "else:\n",
    "    print(\"Grade D\")"
   ]
  },
  {
   "cell_type": "markdown",
   "id": "KMKUCgnc8msh",
   "metadata": {
    "id": "KMKUCgnc8msh"
   },
   "source": [
    "### Exercise 2: Conditional Statements Practice\n",
    "\n",
    "**Objective:** Practice using `if`, `if-else`, and `if-elif-else` statements.\n",
    "\n",
    "**Instructions:**\n",
    "\n",
    "In this exercise, you will practice writing and using conditional statements. Follow the instructions for each task."
   ]
  },
  {
   "cell_type": "markdown",
   "id": "2u4wVbWz8zbw",
   "metadata": {
    "id": "2u4wVbWz8zbw"
   },
   "source": [
    "**Task 1: Positive or Negative or 0**\n",
    "\n",
    "Write a program\n",
    "- Initialize a variable and gives it any numeric value (positive or negative)\n",
    "- Use `if-elif-else` statement to prints whether the number is positive or negative or 0.\n",
    "\n",
    "**Hint :** If the number is greater than 0, it's positive. If it's less than 0, it's negative. Otherwise, it's 0."
   ]
  },
  {
   "cell_type": "code",
   "execution_count": null,
   "id": "SKA59Jru8zvo",
   "metadata": {
    "id": "SKA59Jru8zvo"
   },
   "outputs": [],
   "source": [
    "# Do Task 1 in this cell\n",
    "#\n",
    "#\n",
    "#"
   ]
  },
  {
   "cell_type": "markdown",
   "id": "hKZ-XqHy-174",
   "metadata": {
    "id": "hKZ-XqHy-174"
   },
   "source": [
    "**Task 2: Temperature Check**\n",
    "\n",
    "Write a program\n",
    "- Initialize a variable and gives it any temperature numeric value (positive or negative)\n",
    "- If the temperature is above 30 degrees Celsius, print \"It's a hot day!\". Otherwise, print \"It's not very hot today.\""
   ]
  },
  {
   "cell_type": "code",
   "execution_count": null,
   "id": "QgFbhwB7-2NY",
   "metadata": {
    "id": "QgFbhwB7-2NY"
   },
   "outputs": [],
   "source": [
    "# Do Task 2 in this cell\n",
    "#\n",
    "#\n",
    "#"
   ]
  },
  {
   "cell_type": "markdown",
   "id": "OmZU_FlUuGtV",
   "metadata": {
    "id": "OmZU_FlUuGtV"
   },
   "source": [
    "**Task 3: Grading System**\n",
    "\n",
    "Write a program\n",
    "- Initialize a variable `student_score` and give it any positive value\n",
    "- Prints their corresponding grade using the following grading scale:\n",
    "  - 90 or above: \"A+\"\n",
    "  - 80 or above: \"A\"\n",
    "  - 70 or above: \"B\"\n",
    "  - 60 or above: \"C\"\n",
    "  - 50 or above: \"D\"\n",
    "  - Below 50: \"F\"\n",
    "\n",
    "Hint: Use an `if-elif-else` statement here."
   ]
  },
  {
   "cell_type": "code",
   "execution_count": null,
   "id": "GWZFju3oAb8O",
   "metadata": {
    "id": "GWZFju3oAb8O"
   },
   "outputs": [],
   "source": [
    "# Do Task 3 in this cell\n",
    "#\n",
    "#\n",
    "#"
   ]
  }
 ],
 "metadata": {
  "colab": {
   "provenance": [],
   "toc_visible": true
  },
  "kernelspec": {
   "display_name": "Python 3 (ipykernel)",
   "language": "python",
   "name": "python3"
  },
  "language_info": {
   "codemirror_mode": {
    "name": "ipython",
    "version": 3
   },
   "file_extension": ".py",
   "mimetype": "text/x-python",
   "name": "python",
   "nbconvert_exporter": "python",
   "pygments_lexer": "ipython3",
   "version": "3.11.4"
  }
 },
 "nbformat": 4,
 "nbformat_minor": 5
}
